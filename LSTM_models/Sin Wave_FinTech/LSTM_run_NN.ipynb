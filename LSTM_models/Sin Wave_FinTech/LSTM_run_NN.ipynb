{
 "cells": [
  {
   "cell_type": "code",
   "execution_count": null,
   "metadata": {
    "collapsed": true
   },
   "outputs": [],
   "source": [
    "#Main Run Thread\n",
    "if __name__=='__main__':\n",
    "\tglobal_start_time = time.time()\n",
    "\tepochs  = 1\n",
    "\tseq_len = 50\n",
    "\n",
    "\tprint('> Loading data... ')\n",
    "\n",
    "\tX_train, y_train, X_test, y_test = lstm.load_data('sp500.csv', seq_len, True)\n",
    "\n",
    "\tprint('> Data Loaded. Compiling...')\n",
    "\n",
    "\tmodel = lstm.build_model([1, 50, 100, 1])\n",
    "\n",
    "\tmodel.fit(\n",
    "\t    X_train,\n",
    "\t    y_train,\n",
    "\t    batch_size=512,\n",
    "\t    nb_epoch=epochs,\n",
    "\t    validation_split=0.05)\n",
    "\n",
    "\tpredictions = lstm.predict_sequences_multiple(model, X_test, seq_len, 50)\n",
    "\t#predicted = lstm.predict_sequence_full(model, X_test, seq_len)\n",
    "\t#predicted = lstm.predict_point_by_point(model, X_test)        \n",
    "\n",
    "\tprint('Training duration (s) : ', time.time() - global_start_time)\n",
    "\tplot_results_multiple(predictions, y_test, 50)"
   ]
  }
 ],
 "metadata": {
  "kernelspec": {
   "display_name": "Python 3",
   "language": "python",
   "name": "python3"
  },
  "language_info": {
   "codemirror_mode": {
    "name": "ipython",
    "version": 3
   },
   "file_extension": ".py",
   "mimetype": "text/x-python",
   "name": "python",
   "nbconvert_exporter": "python",
   "pygments_lexer": "ipython3",
   "version": "3.6.2"
  }
 },
 "nbformat": 4,
 "nbformat_minor": 2
}
