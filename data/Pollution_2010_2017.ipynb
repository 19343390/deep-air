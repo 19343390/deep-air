{
 "cells": [
  {
   "cell_type": "markdown",
   "metadata": {},
   "source": [
    "### Data Cleansing and Merging across 7 years\n",
    "\n",
    "### Original data is at half to 1 hour intervals"
   ]
  },
  {
   "cell_type": "code",
   "execution_count": 1,
   "metadata": {
    "collapsed": true
   },
   "outputs": [],
   "source": [
    "import pandas as pd\n",
    "import numpy as np"
   ]
  },
  {
   "cell_type": "code",
   "execution_count": 55,
   "metadata": {
    "collapsed": true
   },
   "outputs": [],
   "source": [
    "merged_final = pd.read_csv('./merged_final_single_station.csv', low_memory=False, index_col=0)"
   ]
  },
  {
   "cell_type": "code",
   "execution_count": 56,
   "metadata": {
    "collapsed": true
   },
   "outputs": [],
   "source": [
    "pollution_2010_2014 = pd.read_csv('./pollution.csv', index_col=0)"
   ]
  },
  {
   "cell_type": "code",
   "execution_count": 213,
   "metadata": {
    "collapsed": true
   },
   "outputs": [],
   "source": [
    "extra_weather = pd.read_csv('beijing_weather_2015_2017.csv', index_col=0).reset_index(drop=True)"
   ]
  },
  {
   "cell_type": "code",
   "execution_count": 215,
   "metadata": {
    "collapsed": true
   },
   "outputs": [],
   "source": [
    "extra_weather = fill_blank_spaces(extra_weather)"
   ]
  },
  {
   "cell_type": "code",
   "execution_count": 241,
   "metadata": {},
   "outputs": [],
   "source": [
    "def fill_in_median_val(x, column_name, measure_by_class):\n",
    "    '''Fill in a column name using the class, sex and title measures.'''\n",
    "    if np.isnan(x[column_name]):\n",
    "        x[column_name] = measure_by_class[x['year']]\n",
    "    \n",
    "    return x\n",
    "\n",
    "def preprocess_air_pressure(df, grouped_class, column='air_pressure'):\n",
    "    '''\n",
    "    Fill nans with medians in air pressure, clean other data\n",
    "    Median is grouped by year\n",
    "    '''\n",
    "    median_pressure_by_class = df.groupby([grouped_class])[column].median()\n",
    "    df = df.apply(lambda x: fill_in_median_val(x, column, median_pressure_by_class), axis=1)\n",
    "    return df\n",
    "\n",
    "def fill_wind_dir_nans(df, grouped_class='year', column='wind_dir'):\n",
    "    '''\n",
    "    Fill nans in wind direction with median\n",
    "        where the medians are taken from data grouped by year\n",
    "    '''\n",
    "    median_wind_dir_by_class = df.groupby([grouped_class])[column].median()\n",
    "    df = df.apply(lambda x: fill_in_median_val(x, column, median_wind_dir_by_class),\n",
    "                     axis=1)\n",
    "    return df\n",
    "\n",
    "def fix_snow_values(x):\n",
    "    ''' \n",
    "    Mapping function that fixes snow values\n",
    "    '''\n",
    "    try:\n",
    "        y = int(x)\n",
    "    except ValueError as e:\n",
    "        y = str(x)[1:]\n",
    "    return y\n",
    "\n",
    "def fill_snow_hours_nans(df, column='cumulative_snow_hours'):\n",
    "    ''' \n",
    "    First, fill NaNs with zeroes. Then expand out the hours\n",
    "    '''\n",
    "    # fill columns\n",
    "    df[column] = df[column].fillna(0)\n",
    "    return df\n",
    "\n",
    "def fill_rain_hours_nans(df, column='cumulative_rain_hours'):\n",
    "    '''\n",
    "    Fill rain hour NaNs with zeros.\n",
    "    '''\n",
    "    df[column] = df[column].fillna(0)\n",
    "    return df\n",
    "\n",
    "def fix_snow(df_weather):\n",
    "        # fix typo values\n",
    "    df_weather['cumulative_snow_hours'] = df_weather['cumulative_snow_hours'].\\\n",
    "        apply(lambda x: fix_snow_values(x) if type(x) != float else x)\n",
    "    return df_weather\n",
    "\n",
    "def expand_snow_hours(df, column='cumulative_snow_hours'):\n",
    "    pass\n",
    "\n",
    "def preprocess_parsed_col(df, column='dew_point'):\n",
    "    '''\n",
    "    Redo parsing for dew\n",
    "    '''\n",
    "    df[column] = df[column].apply(lambda x: int(x) / 10)\n",
    "    return df\n",
    "\n",
    "def remove_missing_wind_speeds(df, column='wind_speed'):\n",
    "    '''\n",
    "    Remove wind speeds that are 999.9 (Missing values).\n",
    "    '''\n",
    "    df[column] = df[column].apply(lambda x: x if float(x) != 999.9 else 0)\n",
    "    return df\n",
    "\n",
    "def categorize_wind_dir(df, column='wind_dir'):\n",
    "    '''\n",
    "    Categorize wind dirs into NW, SE, SW, NE, cv (calm and variable)\n",
    "    '''\n",
    "    pass"
   ]
  },
  {
   "cell_type": "markdown",
   "metadata": {},
   "source": [
    "## Preprocessing"
   ]
  },
  {
   "cell_type": "code",
   "execution_count": 218,
   "metadata": {
    "collapsed": true
   },
   "outputs": [],
   "source": [
    "df_weather = preprocess_air_pressure(extra_weather, 'year')"
   ]
  },
  {
   "cell_type": "code",
   "execution_count": 219,
   "metadata": {
    "collapsed": true
   },
   "outputs": [],
   "source": [
    "df_weather = fill_wind_dir_nans(df_weather)"
   ]
  },
  {
   "cell_type": "code",
   "execution_count": 220,
   "metadata": {
    "collapsed": true
   },
   "outputs": [],
   "source": [
    "df_weather = fix_snow(df_weather)"
   ]
  },
  {
   "cell_type": "code",
   "execution_count": 221,
   "metadata": {},
   "outputs": [],
   "source": [
    "df_weather = fill_snow_hours_nans(df_weather)"
   ]
  },
  {
   "cell_type": "code",
   "execution_count": 223,
   "metadata": {},
   "outputs": [],
   "source": [
    "# #Adjusting the parse by 1 decimal place\n",
    "# df_weather = preprocess_parsed_col(df_weather)\n",
    "# df_weather = preprocess_parsed_col(df_weather, column='air_pressure')\n",
    "# df_weather = preprocess_parsed_col(df_weather, column='wind_speed')\n",
    "# df_weather = preprocess_parsed_col(df_weather, column='air_temp')"
   ]
  },
  {
   "cell_type": "code",
   "execution_count": 224,
   "metadata": {},
   "outputs": [
    {
     "data": {
      "text/html": [
       "<div>\n",
       "<style>\n",
       "    .dataframe thead tr:only-child th {\n",
       "        text-align: right;\n",
       "    }\n",
       "\n",
       "    .dataframe thead th {\n",
       "        text-align: left;\n",
       "    }\n",
       "\n",
       "    .dataframe tbody tr th {\n",
       "        vertical-align: top;\n",
       "    }\n",
       "</style>\n",
       "<table border=\"1\" class=\"dataframe\">\n",
       "  <thead>\n",
       "    <tr style=\"text-align: right;\">\n",
       "      <th></th>\n",
       "      <th>pollution</th>\n",
       "      <th>dew</th>\n",
       "      <th>temp</th>\n",
       "      <th>press</th>\n",
       "      <th>wnd_spd</th>\n",
       "      <th>snow</th>\n",
       "      <th>rain</th>\n",
       "    </tr>\n",
       "    <tr>\n",
       "      <th>wnd_dir</th>\n",
       "      <th></th>\n",
       "      <th></th>\n",
       "      <th></th>\n",
       "      <th></th>\n",
       "      <th></th>\n",
       "      <th></th>\n",
       "      <th></th>\n",
       "    </tr>\n",
       "  </thead>\n",
       "  <tbody>\n",
       "    <tr>\n",
       "      <th>NE</th>\n",
       "      <td>4996</td>\n",
       "      <td>4996</td>\n",
       "      <td>4996</td>\n",
       "      <td>4996</td>\n",
       "      <td>4996</td>\n",
       "      <td>4996</td>\n",
       "      <td>4996</td>\n",
       "    </tr>\n",
       "    <tr>\n",
       "      <th>NW</th>\n",
       "      <td>14130</td>\n",
       "      <td>14130</td>\n",
       "      <td>14130</td>\n",
       "      <td>14130</td>\n",
       "      <td>14130</td>\n",
       "      <td>14130</td>\n",
       "      <td>14130</td>\n",
       "    </tr>\n",
       "    <tr>\n",
       "      <th>SE</th>\n",
       "      <td>15290</td>\n",
       "      <td>15290</td>\n",
       "      <td>15290</td>\n",
       "      <td>15290</td>\n",
       "      <td>15290</td>\n",
       "      <td>15290</td>\n",
       "      <td>15290</td>\n",
       "    </tr>\n",
       "    <tr>\n",
       "      <th>cv</th>\n",
       "      <td>9384</td>\n",
       "      <td>9384</td>\n",
       "      <td>9384</td>\n",
       "      <td>9384</td>\n",
       "      <td>9384</td>\n",
       "      <td>9384</td>\n",
       "      <td>9384</td>\n",
       "    </tr>\n",
       "  </tbody>\n",
       "</table>\n",
       "</div>"
      ],
      "text/plain": [
       "         pollution    dew   temp  press  wnd_spd   snow   rain\n",
       "wnd_dir                                                       \n",
       "NE            4996   4996   4996   4996     4996   4996   4996\n",
       "NW           14130  14130  14130  14130    14130  14130  14130\n",
       "SE           15290  15290  15290  15290    15290  15290  15290\n",
       "cv            9384   9384   9384   9384     9384   9384   9384"
      ]
     },
     "execution_count": 224,
     "metadata": {},
     "output_type": "execute_result"
    }
   ],
   "source": [
    "pollution_2010_2014.groupby('wnd_dir').count()"
   ]
  },
  {
   "cell_type": "code",
   "execution_count": 234,
   "metadata": {
    "scrolled": false
   },
   "outputs": [],
   "source": [
    "df_weather = remove_missing_wind_speeds(df_weather)"
   ]
  },
  {
   "cell_type": "code",
   "execution_count": 239,
   "metadata": {},
   "outputs": [],
   "source": [
    "df_weather = fill_rain_hours_nans(df_weather)"
   ]
  },
  {
   "cell_type": "markdown",
   "metadata": {},
   "source": [
    "### Export to CSV"
   ]
  },
  {
   "cell_type": "code",
   "execution_count": 242,
   "metadata": {},
   "outputs": [],
   "source": [
    "# df_weather.to_csv('../data/cleaned_weather_2015_2017.csv')"
   ]
  },
  {
   "cell_type": "code",
   "execution_count": 89,
   "metadata": {},
   "outputs": [],
   "source": [
    "# Querying for data types\n",
    "# extra_weather['cumulative_snow_hours'].apply(lambda x: type(x)\n",
    "#                                 )"
   ]
  },
  {
   "cell_type": "code",
   "execution_count": 50,
   "metadata": {},
   "outputs": [],
   "source": [
    "# querying the dataframe at a particular index:\n",
    "#extra_weather.iloc[9]"
   ]
  },
  {
   "cell_type": "code",
   "execution_count": null,
   "metadata": {
    "collapsed": true
   },
   "outputs": [],
   "source": []
  }
 ],
 "metadata": {
  "kernelspec": {
   "display_name": "Python 3",
   "language": "python",
   "name": "python3"
  },
  "language_info": {
   "codemirror_mode": {
    "name": "ipython",
    "version": 3
   },
   "file_extension": ".py",
   "mimetype": "text/x-python",
   "name": "python",
   "nbconvert_exporter": "python",
   "pygments_lexer": "ipython3",
   "version": "3.6.2"
  }
 },
 "nbformat": 4,
 "nbformat_minor": 2
}
