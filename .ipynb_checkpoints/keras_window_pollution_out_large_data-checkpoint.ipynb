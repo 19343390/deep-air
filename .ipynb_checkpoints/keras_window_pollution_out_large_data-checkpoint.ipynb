{
 "cells": [
  {
   "cell_type": "markdown",
   "metadata": {},
   "source": [
    "Imports"
   ]
  },
  {
   "cell_type": "code",
   "execution_count": 1,
   "metadata": {},
   "outputs": [
    {
     "name": "stderr",
     "output_type": "stream",
     "text": [
      "Using TensorFlow backend.\n"
     ]
    }
   ],
   "source": [
    "from math import sqrt\n",
    "from numpy import concatenate\n",
    "from matplotlib import pyplot as plt\n",
    "%matplotlib inline\n",
    "from sklearn.preprocessing import MinMaxScaler\n",
    "from sklearn.preprocessing import LabelEncoder\n",
    "from sklearn.metrics import mean_squared_error\n",
    "from keras.models import Sequential\n",
    "from keras.layers import Dense\n",
    "from keras.layers import LSTM\n",
    "import numpy as np\n",
    "import pandas as pd\n",
    "import time"
   ]
  },
  {
   "cell_type": "code",
   "execution_count": 2,
   "metadata": {
    "collapsed": true
   },
   "outputs": [],
   "source": [
    "from sklearn.model_selection import train_test_split\n",
    "from keras.preprocessing.sequence import pad_sequences"
   ]
  },
  {
   "cell_type": "markdown",
   "metadata": {},
   "source": [
    "## Baseline LSTM + room to change network architecture"
   ]
  },
  {
   "cell_type": "code",
   "execution_count": 3,
   "metadata": {
    "collapsed": true
   },
   "outputs": [],
   "source": [
    "def handle_wind_dir(data):\n",
    "    '''\n",
    "    Different ways to handle the string format:\n",
    "     1. Drop it\n",
    "     2. LabelEncode it\n",
    "     3. One-hot encode it\n",
    "     \n",
    "    The reason I need to handle it is because Keras' pad_sequences function takes int() of\n",
    "    all the columns.\n",
    "    '''\n",
    "    # I'll drop it first\n",
    "    data = data.drop('wnd_dir', axis=1, inplace=False)\n",
    "    return data"
   ]
  },
  {
   "cell_type": "code",
   "execution_count": 4,
   "metadata": {
    "collapsed": true
   },
   "outputs": [],
   "source": [
    "import warnings; warnings.filterwarnings('ignore')"
   ]
  },
  {
   "cell_type": "code",
   "execution_count": 5,
   "metadata": {
    "collapsed": true
   },
   "outputs": [],
   "source": [
    "df = pd.read_csv('pollution.csv', header=0, index_col=0)"
   ]
  },
  {
   "cell_type": "code",
   "execution_count": 6,
   "metadata": {
    "collapsed": true
   },
   "outputs": [],
   "source": [
    "# Optionally drop wind dir\n",
    "df = handle_wind_dir(df)"
   ]
  },
  {
   "cell_type": "code",
   "execution_count": 7,
   "metadata": {
    "collapsed": true
   },
   "outputs": [],
   "source": [
    "train, test = train_test_split(df, test_size=.20, random_state=789)"
   ]
  },
  {
   "cell_type": "code",
   "execution_count": 8,
   "metadata": {},
   "outputs": [
    {
     "data": {
      "text/plain": [
       "35040"
      ]
     },
     "execution_count": 8,
     "metadata": {},
     "output_type": "execute_result"
    }
   ],
   "source": [
    "len(train)"
   ]
  },
  {
   "cell_type": "code",
   "execution_count": 9,
   "metadata": {},
   "outputs": [
    {
     "data": {
      "text/plain": [
       "8760"
      ]
     },
     "execution_count": 9,
     "metadata": {},
     "output_type": "execute_result"
    }
   ],
   "source": [
    "len(test)"
   ]
  },
  {
   "cell_type": "code",
   "execution_count": 10,
   "metadata": {
    "collapsed": true
   },
   "outputs": [],
   "source": [
    "def prepare_sequences(df):\n",
    "    ''' \n",
    "    Let df = train and prepare sequences.\n",
    "    '''\n",
    "    input_cols = list(df.columns)\n",
    "    df['single_input_vector'] = df[input_cols].apply(tuple, axis=1).apply(list)\\\n",
    "        .apply(lambda x: [list(x)])\n",
    "    df['single_output_vector'] = df['pollution'].apply(lambda x: [[x]])\n",
    "    return df.reset_index(drop=True)"
   ]
  },
  {
   "cell_type": "code",
   "execution_count": 11,
   "metadata": {
    "collapsed": true
   },
   "outputs": [],
   "source": [
    "train = prepare_sequences(train)"
   ]
  },
  {
   "cell_type": "code",
   "execution_count": 12,
   "metadata": {},
   "outputs": [
    {
     "data": {
      "text/html": [
       "<div>\n",
       "<style>\n",
       "    .dataframe thead tr:only-child th {\n",
       "        text-align: right;\n",
       "    }\n",
       "\n",
       "    .dataframe thead th {\n",
       "        text-align: left;\n",
       "    }\n",
       "\n",
       "    .dataframe tbody tr th {\n",
       "        vertical-align: top;\n",
       "    }\n",
       "</style>\n",
       "<table border=\"1\" class=\"dataframe\">\n",
       "  <thead>\n",
       "    <tr style=\"text-align: right;\">\n",
       "      <th></th>\n",
       "      <th>pollution</th>\n",
       "      <th>dew</th>\n",
       "      <th>temp</th>\n",
       "      <th>press</th>\n",
       "      <th>wnd_spd</th>\n",
       "      <th>snow</th>\n",
       "      <th>rain</th>\n",
       "      <th>single_input_vector</th>\n",
       "      <th>single_output_vector</th>\n",
       "    </tr>\n",
       "  </thead>\n",
       "  <tbody>\n",
       "    <tr>\n",
       "      <th>0</th>\n",
       "      <td>11.0</td>\n",
       "      <td>3</td>\n",
       "      <td>21.0</td>\n",
       "      <td>999.0</td>\n",
       "      <td>71.08</td>\n",
       "      <td>0</td>\n",
       "      <td>0</td>\n",
       "      <td>[[11.0, 3.0, 21.0, 999.0, 71.08, 0.0, 0.0]]</td>\n",
       "      <td>[[11.0]]</td>\n",
       "    </tr>\n",
       "    <tr>\n",
       "      <th>1</th>\n",
       "      <td>27.0</td>\n",
       "      <td>-1</td>\n",
       "      <td>20.0</td>\n",
       "      <td>1023.0</td>\n",
       "      <td>3.13</td>\n",
       "      <td>0</td>\n",
       "      <td>0</td>\n",
       "      <td>[[27.0, -1.0, 20.0, 1023.0, 3.13, 0.0, 0.0]]</td>\n",
       "      <td>[[27.0]]</td>\n",
       "    </tr>\n",
       "    <tr>\n",
       "      <th>2</th>\n",
       "      <td>85.0</td>\n",
       "      <td>-22</td>\n",
       "      <td>-9.0</td>\n",
       "      <td>1027.0</td>\n",
       "      <td>2.67</td>\n",
       "      <td>0</td>\n",
       "      <td>0</td>\n",
       "      <td>[[85.0, -22.0, -9.0, 1027.0, 2.67, 0.0, 0.0]]</td>\n",
       "      <td>[[85.0]]</td>\n",
       "    </tr>\n",
       "    <tr>\n",
       "      <th>3</th>\n",
       "      <td>15.0</td>\n",
       "      <td>-4</td>\n",
       "      <td>10.0</td>\n",
       "      <td>1014.0</td>\n",
       "      <td>0.89</td>\n",
       "      <td>0</td>\n",
       "      <td>0</td>\n",
       "      <td>[[15.0, -4.0, 10.0, 1014.0, 0.89, 0.0, 0.0]]</td>\n",
       "      <td>[[15.0]]</td>\n",
       "    </tr>\n",
       "    <tr>\n",
       "      <th>4</th>\n",
       "      <td>28.0</td>\n",
       "      <td>20</td>\n",
       "      <td>27.0</td>\n",
       "      <td>1008.0</td>\n",
       "      <td>17.89</td>\n",
       "      <td>0</td>\n",
       "      <td>0</td>\n",
       "      <td>[[28.0, 20.0, 27.0, 1008.0, 17.89, 0.0, 0.0]]</td>\n",
       "      <td>[[28.0]]</td>\n",
       "    </tr>\n",
       "  </tbody>\n",
       "</table>\n",
       "</div>"
      ],
      "text/plain": [
       "   pollution  dew  temp   press  wnd_spd  snow  rain  \\\n",
       "0       11.0    3  21.0   999.0    71.08     0     0   \n",
       "1       27.0   -1  20.0  1023.0     3.13     0     0   \n",
       "2       85.0  -22  -9.0  1027.0     2.67     0     0   \n",
       "3       15.0   -4  10.0  1014.0     0.89     0     0   \n",
       "4       28.0   20  27.0  1008.0    17.89     0     0   \n",
       "\n",
       "                             single_input_vector single_output_vector  \n",
       "0    [[11.0, 3.0, 21.0, 999.0, 71.08, 0.0, 0.0]]             [[11.0]]  \n",
       "1   [[27.0, -1.0, 20.0, 1023.0, 3.13, 0.0, 0.0]]             [[27.0]]  \n",
       "2  [[85.0, -22.0, -9.0, 1027.0, 2.67, 0.0, 0.0]]             [[85.0]]  \n",
       "3   [[15.0, -4.0, 10.0, 1014.0, 0.89, 0.0, 0.0]]             [[15.0]]  \n",
       "4  [[28.0, 20.0, 27.0, 1008.0, 17.89, 0.0, 0.0]]             [[28.0]]  "
      ]
     },
     "execution_count": 12,
     "metadata": {},
     "output_type": "execute_result"
    }
   ],
   "source": [
    "train.head()"
   ]
  },
  {
   "cell_type": "code",
   "execution_count": 13,
   "metadata": {
    "collapsed": true
   },
   "outputs": [],
   "source": [
    "def func(x, maxlen=None):\n",
    "    '''\n",
    "    Pad sequences with lists of 0s. Functional lambda programming.\n",
    "    '''\n",
    "    zeros_to_add = maxlen - len(x)\n",
    "    prepended = [np.zeros(7).tolist()]\n",
    "    y = prepended*zeros_to_add + x\n",
    "    return y\n",
    "\n",
    "def func_output(x, maxlen=None):\n",
    "    '''\n",
    "    Pad sequences with lists of 0s. Functional lambda programming.\n",
    "    '''\n",
    "    zeros_to_add = maxlen - len(x)\n",
    "    prepended = [np.zeros(1).tolist()]\n",
    "    y = prepended*zeros_to_add + x\n",
    "    return y\n",
    "\n",
    "def balanced_sliding_windows(df, stride=3):\n",
    "    '''\n",
    "    Create sliding windows of size [n - 3, n + 3]. Let df=train.\n",
    "    '''\n",
    "    seqs = []\n",
    "    for i, value in df.iterrows():\n",
    "        if i >= stride and i < len(df) - stride:\n",
    "            sequences = df.iloc[i-stride:i+stride, -1].sum()\n",
    "        elif i < stride:\n",
    "            sequences = df.iloc[i:i+stride, -1].sum()\n",
    "        else:\n",
    "            sequences = df.iloc[i-stride:i, -1].sum()\n",
    "        seqs.append(sequences)\n",
    "    return pd.Series(seqs)\n",
    "        \n",
    "def past_windows(df, stride=3):\n",
    "    '''\n",
    "    Create windows of size [n - 3: n]. Let df=train.\n",
    "    '''\n",
    "    seqs = []\n",
    "    for i, value in df.iterrows():\n",
    "        if i >= stride and i < len(df) - stride:\n",
    "            sequences = df.iloc[i-stride:i, -1].sum()\n",
    "        elif i < stride:\n",
    "            sequences = df.iloc[0:i, -1].sum()\n",
    "        else:\n",
    "            sequences = df.iloc[i-stride:i, -1].sum()\n",
    "        if sequences == 0:\n",
    "            # Pad empty array with arrays of 0s\n",
    "            sequences = func([], stride)\n",
    "        if len(sequences) < stride:\n",
    "            # Pad with arrays of 0s\n",
    "            sequences = func(sequences, stride)\n",
    "        seqs.append(sequences)\n",
    "    return pd.Series(seqs)\n",
    "\n",
    "def future_windows(df, stride=3):\n",
    "    '''\n",
    "    Create windows of size [n : n+3]. Let df=train.\n",
    "    '''\n",
    "    seqs = []\n",
    "    for i, value in df.iterrows():\n",
    "        if i >= stride and i < len(df) - stride:\n",
    "            sequences = df.iloc[i:i+stride, -1].sum()\n",
    "        elif i < stride:\n",
    "            sequences = df.iloc[i:i+stride, -1].sum()\n",
    "        else:\n",
    "            sequences = df.iloc[i:, -1].sum()\n",
    "        if type(sequences) == 'int' and sequences == 0:\n",
    "            sequences = func_output([], stride)\n",
    "        if len(sequences) < stride:\n",
    "            # Pad with arrays of 0s\n",
    "            sequences = func_output(sequences, stride)\n",
    "        seqs.append(sequences)\n",
    "    return pd.Series(seqs)"
   ]
  },
  {
   "cell_type": "code",
   "execution_count": 14,
   "metadata": {
    "collapsed": true
   },
   "outputs": [],
   "source": [
    "input_vec = train['single_input_vector']\n",
    "input_vec = pd.DataFrame(input_vec)"
   ]
  },
  {
   "cell_type": "code",
   "execution_count": 15,
   "metadata": {
    "collapsed": true
   },
   "outputs": [],
   "source": [
    "output_vec = train['single_output_vector']\n",
    "output_vec = pd.DataFrame(output_vec)"
   ]
  },
  {
   "cell_type": "code",
   "execution_count": 16,
   "metadata": {
    "collapsed": true
   },
   "outputs": [],
   "source": [
    "# Good so far."
   ]
  },
  {
   "cell_type": "code",
   "execution_count": 17,
   "metadata": {},
   "outputs": [
    {
     "data": {
      "text/plain": [
       "0    [[11.0, 3.0, 21.0, 999.0, 71.08, 0.0, 0.0], [2...\n",
       "1    [[27.0, -1.0, 20.0, 1023.0, 3.13, 0.0, 0.0], [...\n",
       "2    [[85.0, -22.0, -9.0, 1027.0, 2.67, 0.0, 0.0], ...\n",
       "3    [[11.0, 3.0, 21.0, 999.0, 71.08, 0.0, 0.0], [2...\n",
       "4    [[27.0, -1.0, 20.0, 1023.0, 3.13, 0.0, 0.0], [...\n",
       "dtype: object"
      ]
     },
     "execution_count": 17,
     "metadata": {},
     "output_type": "execute_result"
    }
   ],
   "source": [
    "#balanced_sliding_windows(input_vec).head()"
   ]
  },
  {
   "cell_type": "code",
   "execution_count": 18,
   "metadata": {},
   "outputs": [
    {
     "data": {
      "text/plain": [
       "0    [[0.0, 0.0, 0.0, 0.0, 0.0, 0.0, 0.0], [0.0, 0....\n",
       "1    [[0.0, 0.0, 0.0, 0.0, 0.0, 0.0, 0.0], [0.0, 0....\n",
       "2    [[0.0, 0.0, 0.0, 0.0, 0.0, 0.0, 0.0], [11.0, 3...\n",
       "3    [[11.0, 3.0, 21.0, 999.0, 71.08, 0.0, 0.0], [2...\n",
       "4    [[27.0, -1.0, 20.0, 1023.0, 3.13, 0.0, 0.0], [...\n",
       "dtype: object"
      ]
     },
     "execution_count": 18,
     "metadata": {},
     "output_type": "execute_result"
    }
   ],
   "source": [
    "#past_windows(input_vec).head()"
   ]
  },
  {
   "cell_type": "code",
   "execution_count": 19,
   "metadata": {},
   "outputs": [
    {
     "data": {
      "text/plain": [
       "0     [[11.0], [27.0], [85.0]]\n",
       "1     [[27.0], [85.0], [15.0]]\n",
       "2     [[85.0], [15.0], [28.0]]\n",
       "3     [[15.0], [28.0], [21.0]]\n",
       "4    [[28.0], [21.0], [143.0]]\n",
       "dtype: object"
      ]
     },
     "execution_count": 19,
     "metadata": {},
     "output_type": "execute_result"
    }
   ],
   "source": [
    "#future_windows(output_vec).head()"
   ]
  },
  {
   "cell_type": "code",
   "execution_count": 20,
   "metadata": {},
   "outputs": [
    {
     "data": {
      "text/html": [
       "<div>\n",
       "<style>\n",
       "    .dataframe thead tr:only-child th {\n",
       "        text-align: right;\n",
       "    }\n",
       "\n",
       "    .dataframe thead th {\n",
       "        text-align: left;\n",
       "    }\n",
       "\n",
       "    .dataframe tbody tr th {\n",
       "        vertical-align: top;\n",
       "    }\n",
       "</style>\n",
       "<table border=\"1\" class=\"dataframe\">\n",
       "  <thead>\n",
       "    <tr style=\"text-align: right;\">\n",
       "      <th></th>\n",
       "      <th>pollution</th>\n",
       "      <th>dew</th>\n",
       "      <th>temp</th>\n",
       "      <th>press</th>\n",
       "      <th>wnd_spd</th>\n",
       "      <th>snow</th>\n",
       "      <th>rain</th>\n",
       "    </tr>\n",
       "  </thead>\n",
       "  <tbody>\n",
       "    <tr>\n",
       "      <th>24</th>\n",
       "      <td>129.0</td>\n",
       "      <td>-16</td>\n",
       "      <td>-4.0</td>\n",
       "      <td>1020.0</td>\n",
       "      <td>1.79</td>\n",
       "      <td>0</td>\n",
       "      <td>0</td>\n",
       "    </tr>\n",
       "    <tr>\n",
       "      <th>25</th>\n",
       "      <td>148.0</td>\n",
       "      <td>-15</td>\n",
       "      <td>-4.0</td>\n",
       "      <td>1020.0</td>\n",
       "      <td>2.68</td>\n",
       "      <td>0</td>\n",
       "      <td>0</td>\n",
       "    </tr>\n",
       "    <tr>\n",
       "      <th>26</th>\n",
       "      <td>159.0</td>\n",
       "      <td>-11</td>\n",
       "      <td>-5.0</td>\n",
       "      <td>1021.0</td>\n",
       "      <td>3.57</td>\n",
       "      <td>0</td>\n",
       "      <td>0</td>\n",
       "    </tr>\n",
       "    <tr>\n",
       "      <th>27</th>\n",
       "      <td>181.0</td>\n",
       "      <td>-7</td>\n",
       "      <td>-5.0</td>\n",
       "      <td>1022.0</td>\n",
       "      <td>5.36</td>\n",
       "      <td>1</td>\n",
       "      <td>0</td>\n",
       "    </tr>\n",
       "    <tr>\n",
       "      <th>28</th>\n",
       "      <td>138.0</td>\n",
       "      <td>-7</td>\n",
       "      <td>-5.0</td>\n",
       "      <td>1022.0</td>\n",
       "      <td>6.25</td>\n",
       "      <td>2</td>\n",
       "      <td>0</td>\n",
       "    </tr>\n",
       "  </tbody>\n",
       "</table>\n",
       "</div>"
      ],
      "text/plain": [
       "    pollution  dew  temp   press  wnd_spd  snow  rain\n",
       "24      129.0  -16  -4.0  1020.0     1.79     0     0\n",
       "25      148.0  -15  -4.0  1020.0     2.68     0     0\n",
       "26      159.0  -11  -5.0  1021.0     3.57     0     0\n",
       "27      181.0   -7  -5.0  1022.0     5.36     1     0\n",
       "28      138.0   -7  -5.0  1022.0     6.25     2     0"
      ]
     },
     "execution_count": 20,
     "metadata": {},
     "output_type": "execute_result"
    }
   ],
   "source": [
    "#df.head()"
   ]
  },
  {
   "cell_type": "code",
   "execution_count": 21,
   "metadata": {
    "collapsed": true
   },
   "outputs": [],
   "source": [
    "# Good so far"
   ]
  },
  {
   "cell_type": "code",
   "execution_count": 22,
   "metadata": {
    "collapsed": true
   },
   "outputs": [],
   "source": [
    "train['past_sequences'] = past_windows(input_vec)\n",
    "train['future_sequences'] = future_windows(output_vec)"
   ]
  },
  {
   "cell_type": "code",
   "execution_count": 23,
   "metadata": {},
   "outputs": [
    {
     "data": {
      "text/html": [
       "<div>\n",
       "<style>\n",
       "    .dataframe thead tr:only-child th {\n",
       "        text-align: right;\n",
       "    }\n",
       "\n",
       "    .dataframe thead th {\n",
       "        text-align: left;\n",
       "    }\n",
       "\n",
       "    .dataframe tbody tr th {\n",
       "        vertical-align: top;\n",
       "    }\n",
       "</style>\n",
       "<table border=\"1\" class=\"dataframe\">\n",
       "  <thead>\n",
       "    <tr style=\"text-align: right;\">\n",
       "      <th></th>\n",
       "      <th>pollution</th>\n",
       "      <th>dew</th>\n",
       "      <th>temp</th>\n",
       "      <th>press</th>\n",
       "      <th>wnd_spd</th>\n",
       "      <th>snow</th>\n",
       "      <th>rain</th>\n",
       "      <th>single_input_vector</th>\n",
       "      <th>single_output_vector</th>\n",
       "      <th>past_sequences</th>\n",
       "      <th>future_sequences</th>\n",
       "    </tr>\n",
       "  </thead>\n",
       "  <tbody>\n",
       "    <tr>\n",
       "      <th>0</th>\n",
       "      <td>11.0</td>\n",
       "      <td>3</td>\n",
       "      <td>21.0</td>\n",
       "      <td>999.0</td>\n",
       "      <td>71.08</td>\n",
       "      <td>0</td>\n",
       "      <td>0</td>\n",
       "      <td>[[11.0, 3.0, 21.0, 999.0, 71.08, 0.0, 0.0]]</td>\n",
       "      <td>[[11.0]]</td>\n",
       "      <td>[[0.0, 0.0, 0.0, 0.0, 0.0, 0.0, 0.0], [0.0, 0....</td>\n",
       "      <td>[[11.0], [27.0], [85.0]]</td>\n",
       "    </tr>\n",
       "    <tr>\n",
       "      <th>1</th>\n",
       "      <td>27.0</td>\n",
       "      <td>-1</td>\n",
       "      <td>20.0</td>\n",
       "      <td>1023.0</td>\n",
       "      <td>3.13</td>\n",
       "      <td>0</td>\n",
       "      <td>0</td>\n",
       "      <td>[[27.0, -1.0, 20.0, 1023.0, 3.13, 0.0, 0.0]]</td>\n",
       "      <td>[[27.0]]</td>\n",
       "      <td>[[0.0, 0.0, 0.0, 0.0, 0.0, 0.0, 0.0], [0.0, 0....</td>\n",
       "      <td>[[27.0], [85.0], [15.0]]</td>\n",
       "    </tr>\n",
       "    <tr>\n",
       "      <th>2</th>\n",
       "      <td>85.0</td>\n",
       "      <td>-22</td>\n",
       "      <td>-9.0</td>\n",
       "      <td>1027.0</td>\n",
       "      <td>2.67</td>\n",
       "      <td>0</td>\n",
       "      <td>0</td>\n",
       "      <td>[[85.0, -22.0, -9.0, 1027.0, 2.67, 0.0, 0.0]]</td>\n",
       "      <td>[[85.0]]</td>\n",
       "      <td>[[0.0, 0.0, 0.0, 0.0, 0.0, 0.0, 0.0], [11.0, 3...</td>\n",
       "      <td>[[85.0], [15.0], [28.0]]</td>\n",
       "    </tr>\n",
       "    <tr>\n",
       "      <th>3</th>\n",
       "      <td>15.0</td>\n",
       "      <td>-4</td>\n",
       "      <td>10.0</td>\n",
       "      <td>1014.0</td>\n",
       "      <td>0.89</td>\n",
       "      <td>0</td>\n",
       "      <td>0</td>\n",
       "      <td>[[15.0, -4.0, 10.0, 1014.0, 0.89, 0.0, 0.0]]</td>\n",
       "      <td>[[15.0]]</td>\n",
       "      <td>[[11.0, 3.0, 21.0, 999.0, 71.08, 0.0, 0.0], [2...</td>\n",
       "      <td>[[15.0], [28.0], [21.0]]</td>\n",
       "    </tr>\n",
       "    <tr>\n",
       "      <th>4</th>\n",
       "      <td>28.0</td>\n",
       "      <td>20</td>\n",
       "      <td>27.0</td>\n",
       "      <td>1008.0</td>\n",
       "      <td>17.89</td>\n",
       "      <td>0</td>\n",
       "      <td>0</td>\n",
       "      <td>[[28.0, 20.0, 27.0, 1008.0, 17.89, 0.0, 0.0]]</td>\n",
       "      <td>[[28.0]]</td>\n",
       "      <td>[[27.0, -1.0, 20.0, 1023.0, 3.13, 0.0, 0.0], [...</td>\n",
       "      <td>[[28.0], [21.0], [143.0]]</td>\n",
       "    </tr>\n",
       "  </tbody>\n",
       "</table>\n",
       "</div>"
      ],
      "text/plain": [
       "   pollution  dew  temp   press  wnd_spd  snow  rain  \\\n",
       "0       11.0    3  21.0   999.0    71.08     0     0   \n",
       "1       27.0   -1  20.0  1023.0     3.13     0     0   \n",
       "2       85.0  -22  -9.0  1027.0     2.67     0     0   \n",
       "3       15.0   -4  10.0  1014.0     0.89     0     0   \n",
       "4       28.0   20  27.0  1008.0    17.89     0     0   \n",
       "\n",
       "                             single_input_vector single_output_vector  \\\n",
       "0    [[11.0, 3.0, 21.0, 999.0, 71.08, 0.0, 0.0]]             [[11.0]]   \n",
       "1   [[27.0, -1.0, 20.0, 1023.0, 3.13, 0.0, 0.0]]             [[27.0]]   \n",
       "2  [[85.0, -22.0, -9.0, 1027.0, 2.67, 0.0, 0.0]]             [[85.0]]   \n",
       "3   [[15.0, -4.0, 10.0, 1014.0, 0.89, 0.0, 0.0]]             [[15.0]]   \n",
       "4  [[28.0, 20.0, 27.0, 1008.0, 17.89, 0.0, 0.0]]             [[28.0]]   \n",
       "\n",
       "                                      past_sequences  \\\n",
       "0  [[0.0, 0.0, 0.0, 0.0, 0.0, 0.0, 0.0], [0.0, 0....   \n",
       "1  [[0.0, 0.0, 0.0, 0.0, 0.0, 0.0, 0.0], [0.0, 0....   \n",
       "2  [[0.0, 0.0, 0.0, 0.0, 0.0, 0.0, 0.0], [11.0, 3...   \n",
       "3  [[11.0, 3.0, 21.0, 999.0, 71.08, 0.0, 0.0], [2...   \n",
       "4  [[27.0, -1.0, 20.0, 1023.0, 3.13, 0.0, 0.0], [...   \n",
       "\n",
       "            future_sequences  \n",
       "0   [[11.0], [27.0], [85.0]]  \n",
       "1   [[27.0], [85.0], [15.0]]  \n",
       "2   [[85.0], [15.0], [28.0]]  \n",
       "3   [[15.0], [28.0], [21.0]]  \n",
       "4  [[28.0], [21.0], [143.0]]  "
      ]
     },
     "execution_count": 23,
     "metadata": {},
     "output_type": "execute_result"
    }
   ],
   "source": [
    "train.head()"
   ]
  },
  {
   "cell_type": "code",
   "execution_count": null,
   "metadata": {
    "collapsed": true
   },
   "outputs": [],
   "source": []
  },
  {
   "cell_type": "code",
   "execution_count": 24,
   "metadata": {
    "collapsed": true
   },
   "outputs": [],
   "source": [
    "# predicting G for now, just a test example\n",
    "# If your output is multi-dimensional, you need to capture those \n",
    "# dimensions in one object\n",
    "# If your output is a single dimension, this step may be unnecessary\n",
    "def set_output_featureset(df):\n",
    "    '''\n",
    "    Let df=train and prepare output vector\n",
    "    '''\n",
    "    df['output_vector'] = df['future_sequences']\n",
    "    return df"
   ]
  },
  {
   "cell_type": "code",
   "execution_count": 25,
   "metadata": {
    "collapsed": true,
    "scrolled": true
   },
   "outputs": [],
   "source": [
    "train = set_output_featureset(train)"
   ]
  },
  {
   "cell_type": "code",
   "execution_count": 26,
   "metadata": {},
   "outputs": [
    {
     "data": {
      "text/html": [
       "<div>\n",
       "<style>\n",
       "    .dataframe thead tr:only-child th {\n",
       "        text-align: right;\n",
       "    }\n",
       "\n",
       "    .dataframe thead th {\n",
       "        text-align: left;\n",
       "    }\n",
       "\n",
       "    .dataframe tbody tr th {\n",
       "        vertical-align: top;\n",
       "    }\n",
       "</style>\n",
       "<table border=\"1\" class=\"dataframe\">\n",
       "  <thead>\n",
       "    <tr style=\"text-align: right;\">\n",
       "      <th></th>\n",
       "      <th>pollution</th>\n",
       "      <th>dew</th>\n",
       "      <th>temp</th>\n",
       "      <th>press</th>\n",
       "      <th>wnd_spd</th>\n",
       "      <th>snow</th>\n",
       "      <th>rain</th>\n",
       "      <th>single_input_vector</th>\n",
       "      <th>single_output_vector</th>\n",
       "      <th>past_sequences</th>\n",
       "      <th>future_sequences</th>\n",
       "      <th>output_vector</th>\n",
       "    </tr>\n",
       "  </thead>\n",
       "  <tbody>\n",
       "    <tr>\n",
       "      <th>0</th>\n",
       "      <td>11.0</td>\n",
       "      <td>3</td>\n",
       "      <td>21.0</td>\n",
       "      <td>999.0</td>\n",
       "      <td>71.08</td>\n",
       "      <td>0</td>\n",
       "      <td>0</td>\n",
       "      <td>[[11.0, 3.0, 21.0, 999.0, 71.08, 0.0, 0.0]]</td>\n",
       "      <td>[[11.0]]</td>\n",
       "      <td>[[0.0, 0.0, 0.0, 0.0, 0.0, 0.0, 0.0], [0.0, 0....</td>\n",
       "      <td>[[11.0], [27.0], [85.0]]</td>\n",
       "      <td>[[11.0], [27.0], [85.0]]</td>\n",
       "    </tr>\n",
       "    <tr>\n",
       "      <th>1</th>\n",
       "      <td>27.0</td>\n",
       "      <td>-1</td>\n",
       "      <td>20.0</td>\n",
       "      <td>1023.0</td>\n",
       "      <td>3.13</td>\n",
       "      <td>0</td>\n",
       "      <td>0</td>\n",
       "      <td>[[27.0, -1.0, 20.0, 1023.0, 3.13, 0.0, 0.0]]</td>\n",
       "      <td>[[27.0]]</td>\n",
       "      <td>[[0.0, 0.0, 0.0, 0.0, 0.0, 0.0, 0.0], [0.0, 0....</td>\n",
       "      <td>[[27.0], [85.0], [15.0]]</td>\n",
       "      <td>[[27.0], [85.0], [15.0]]</td>\n",
       "    </tr>\n",
       "    <tr>\n",
       "      <th>2</th>\n",
       "      <td>85.0</td>\n",
       "      <td>-22</td>\n",
       "      <td>-9.0</td>\n",
       "      <td>1027.0</td>\n",
       "      <td>2.67</td>\n",
       "      <td>0</td>\n",
       "      <td>0</td>\n",
       "      <td>[[85.0, -22.0, -9.0, 1027.0, 2.67, 0.0, 0.0]]</td>\n",
       "      <td>[[85.0]]</td>\n",
       "      <td>[[0.0, 0.0, 0.0, 0.0, 0.0, 0.0, 0.0], [11.0, 3...</td>\n",
       "      <td>[[85.0], [15.0], [28.0]]</td>\n",
       "      <td>[[85.0], [15.0], [28.0]]</td>\n",
       "    </tr>\n",
       "    <tr>\n",
       "      <th>3</th>\n",
       "      <td>15.0</td>\n",
       "      <td>-4</td>\n",
       "      <td>10.0</td>\n",
       "      <td>1014.0</td>\n",
       "      <td>0.89</td>\n",
       "      <td>0</td>\n",
       "      <td>0</td>\n",
       "      <td>[[15.0, -4.0, 10.0, 1014.0, 0.89, 0.0, 0.0]]</td>\n",
       "      <td>[[15.0]]</td>\n",
       "      <td>[[11.0, 3.0, 21.0, 999.0, 71.08, 0.0, 0.0], [2...</td>\n",
       "      <td>[[15.0], [28.0], [21.0]]</td>\n",
       "      <td>[[15.0], [28.0], [21.0]]</td>\n",
       "    </tr>\n",
       "    <tr>\n",
       "      <th>4</th>\n",
       "      <td>28.0</td>\n",
       "      <td>20</td>\n",
       "      <td>27.0</td>\n",
       "      <td>1008.0</td>\n",
       "      <td>17.89</td>\n",
       "      <td>0</td>\n",
       "      <td>0</td>\n",
       "      <td>[[28.0, 20.0, 27.0, 1008.0, 17.89, 0.0, 0.0]]</td>\n",
       "      <td>[[28.0]]</td>\n",
       "      <td>[[27.0, -1.0, 20.0, 1023.0, 3.13, 0.0, 0.0], [...</td>\n",
       "      <td>[[28.0], [21.0], [143.0]]</td>\n",
       "      <td>[[28.0], [21.0], [143.0]]</td>\n",
       "    </tr>\n",
       "  </tbody>\n",
       "</table>\n",
       "</div>"
      ],
      "text/plain": [
       "   pollution  dew  temp   press  wnd_spd  snow  rain  \\\n",
       "0       11.0    3  21.0   999.0    71.08     0     0   \n",
       "1       27.0   -1  20.0  1023.0     3.13     0     0   \n",
       "2       85.0  -22  -9.0  1027.0     2.67     0     0   \n",
       "3       15.0   -4  10.0  1014.0     0.89     0     0   \n",
       "4       28.0   20  27.0  1008.0    17.89     0     0   \n",
       "\n",
       "                             single_input_vector single_output_vector  \\\n",
       "0    [[11.0, 3.0, 21.0, 999.0, 71.08, 0.0, 0.0]]             [[11.0]]   \n",
       "1   [[27.0, -1.0, 20.0, 1023.0, 3.13, 0.0, 0.0]]             [[27.0]]   \n",
       "2  [[85.0, -22.0, -9.0, 1027.0, 2.67, 0.0, 0.0]]             [[85.0]]   \n",
       "3   [[15.0, -4.0, 10.0, 1014.0, 0.89, 0.0, 0.0]]             [[15.0]]   \n",
       "4  [[28.0, 20.0, 27.0, 1008.0, 17.89, 0.0, 0.0]]             [[28.0]]   \n",
       "\n",
       "                                      past_sequences  \\\n",
       "0  [[0.0, 0.0, 0.0, 0.0, 0.0, 0.0, 0.0], [0.0, 0....   \n",
       "1  [[0.0, 0.0, 0.0, 0.0, 0.0, 0.0, 0.0], [0.0, 0....   \n",
       "2  [[0.0, 0.0, 0.0, 0.0, 0.0, 0.0, 0.0], [11.0, 3...   \n",
       "3  [[11.0, 3.0, 21.0, 999.0, 71.08, 0.0, 0.0], [2...   \n",
       "4  [[27.0, -1.0, 20.0, 1023.0, 3.13, 0.0, 0.0], [...   \n",
       "\n",
       "            future_sequences              output_vector  \n",
       "0   [[11.0], [27.0], [85.0]]   [[11.0], [27.0], [85.0]]  \n",
       "1   [[27.0], [85.0], [15.0]]   [[27.0], [85.0], [15.0]]  \n",
       "2   [[85.0], [15.0], [28.0]]   [[85.0], [15.0], [28.0]]  \n",
       "3   [[15.0], [28.0], [21.0]]   [[15.0], [28.0], [21.0]]  \n",
       "4  [[28.0], [21.0], [143.0]]  [[28.0], [21.0], [143.0]]  "
      ]
     },
     "execution_count": 26,
     "metadata": {},
     "output_type": "execute_result"
    }
   ],
   "source": [
    "train.head()"
   ]
  },
  {
   "cell_type": "code",
   "execution_count": 27,
   "metadata": {
    "collapsed": true
   },
   "outputs": [],
   "source": [
    "# Extract your training data\n",
    "X_train_init = np.asarray(train.past_sequences)\n",
    "stride_length = 3\n",
    "# Training data for LSTM should be in the form of a 3D tuple:\n",
    "#   (# of samples, timesteps, input_dim)\n",
    "# Note that the input data that comes out of the dataframe \n",
    "# will not make a 3D array. It makes an array of arrays, \n",
    "# which is not the same thing.\n",
    "# So far X_train_init is an array of arrays.\n",
    "\n",
    "# Convert to 3D vector usng hstack and reshape\n",
    "# horizontal stack = hstack, essentially removes the outer array \n",
    "#  encapsulation.\n",
    "\n",
    "# reshape into (# of records, total_timesteps, input_dim)\n",
    "# The reshape essentially reshaped the inner list into an 11 by 6 matrix,\n",
    "#  or a max_sequence_length (rows) by input_dim (col) matrix\n",
    "X_train = np.hstack(X_train_init).reshape(len(train), \n",
    "                                          stride_length,\n",
    "                                         len(df.columns))\n",
    "y_train_init = np.asarray(train.output_vector)\n",
    "y_train = np.hstack(y_train_init).reshape(len(train), \n",
    "                                          stride_length,\n",
    "                                          len(output_vec.columns))"
   ]
  },
  {
   "cell_type": "code",
   "execution_count": 28,
   "metadata": {
    "collapsed": true
   },
   "outputs": [],
   "source": [
    "#np.hstack(y_train_init)"
   ]
  },
  {
   "cell_type": "code",
   "execution_count": 29,
   "metadata": {},
   "outputs": [
    {
     "data": {
      "text/plain": [
       "(35040, 7)"
      ]
     },
     "execution_count": 29,
     "metadata": {},
     "output_type": "execute_result"
    }
   ],
   "source": [
    "len(train), len(df.columns)"
   ]
  },
  {
   "cell_type": "code",
   "execution_count": 30,
   "metadata": {
    "collapsed": true
   },
   "outputs": [],
   "source": [
    "# Debugging\n",
    "#train[train.output_vector.apply(lambda x: True if len(x) != 3 else False)]"
   ]
  },
  {
   "cell_type": "code",
   "execution_count": 31,
   "metadata": {},
   "outputs": [
    {
     "name": "stdout",
     "output_type": "stream",
     "text": [
      "(35040, 3, 7)\n",
      "(35040, 3, 1)\n"
     ]
    }
   ],
   "source": [
    "print(X_train.shape)\n",
    "print(y_train.shape)"
   ]
  },
  {
   "cell_type": "code",
   "execution_count": null,
   "metadata": {
    "collapsed": true
   },
   "outputs": [],
   "source": []
  },
  {
   "cell_type": "code",
   "execution_count": 32,
   "metadata": {
    "collapsed": true
   },
   "outputs": [],
   "source": [
    "# Get your input dimensions\n",
    "# Input length is the length for one input sequence \n",
    "#  (i.e. the number of rows for your sample, which is\n",
    "#     the max_sequence_length by construction)\n",
    "input_length = X_train.shape[1]\n",
    "# Input dim is the number of dimensions in one input vector \n",
    "#  (i.e. number of input columns)\n",
    "input_dim = X_train.shape[2]\n",
    "output_dim = len(y_train[0])"
   ]
  },
  {
   "cell_type": "code",
   "execution_count": 51,
   "metadata": {},
   "outputs": [
    {
     "data": {
      "text/plain": [
       "3"
      ]
     },
     "execution_count": 51,
     "metadata": {},
     "output_type": "execute_result"
    }
   ],
   "source": [
    "input_length"
   ]
  },
  {
   "cell_type": "code",
   "execution_count": 45,
   "metadata": {
    "collapsed": true
   },
   "outputs": [],
   "source": [
    "from keras.models import Model, Sequential\n",
    "from keras.layers import LSTM, Dense, TimeDistributed, Dropout\n",
    "\n",
    "# Initialize the model\n",
    "model_simple = Sequential()\n",
    "# 100 is the units, which is the size of the hidden vector at any given state\n",
    "# input_length is the stride_length, which is equivalent to the number of cells\n",
    "model_simple.add(LSTM(100, input_shape=(input_length, input_dim), return_sequences=True))\n",
    "model_simple.add(LSTM(50, input_shape=(input_length, input_dim), return_sequences=True))\n",
    "model_simple.add(TimeDistributed(Dense(1, activation='linear')))\n",
    "\n",
    "\n",
    "# Room to build a GPU-powered network using CuDNNLSTM\n",
    "\n",
    "\n",
    "\n",
    "# Below is a very large, 6-layer network (Takes a lot of time to run)\n",
    "model = Sequential()\n",
    "# arbitrarily picked the output dim to be 100\n",
    "model.add(LSTM(2048, input_shape=(input_length, input_dim), return_sequences=True))\n",
    "# The max output value is > 1 so used relu as final activation\n",
    "# 2048 is the output dimension in the layer\n",
    "# Input to this layer will have a shape (None, 3, 50) where 3 = stride_length, None = batch_size,\n",
    "#   and 2048 = output layer size\n",
    "# Add dropout probability\n",
    "model.add(Dropout(0.2))\n",
    "# Another LSTM layer\n",
    "model.add(LSTM(1024, return_sequences=True))\n",
    "model.add(Dropout(0.2))\n",
    "model.add(LSTM(512, return_sequences=True))\n",
    "model.add(Dropout(0.2))\n",
    "model.add(LSTM(512, return_sequences=True))\n",
    "model.add(Dropout(0.2))\n",
    "# Output dimension of 7, since I have a feature length of 7 (pollution + weather stuff)\n",
    "#model.add(Dense(7, activation='softmax'))\n",
    "# Output dimension of 1, since I have a feature length of 1 (pollution is only output feature)\n",
    "model.add(TimeDistributed(Dense(1, activation='linear')))\n",
    "#model.add(Dense(output_dim, activation='relu'))\n",
    "\n",
    "# model.compile(loss='mean_squared_error',\n",
    "#              optimizer='rmsprop',\n",
    "#              metrics=['accuracy'])"
   ]
  },
  {
   "cell_type": "code",
   "execution_count": 48,
   "metadata": {
    "collapsed": true
   },
   "outputs": [],
   "source": [
    "model.compile(loss='mse',\n",
    "             optimizer='adam',\n",
    "             metrics=['accuracy'])"
   ]
  },
  {
   "cell_type": "code",
   "execution_count": 50,
   "metadata": {
    "scrolled": false
   },
   "outputs": [
    {
     "name": "stdout",
     "output_type": "stream",
     "text": [
      "Epoch 1/1\n"
     ]
    },
    {
     "ename": "KeyboardInterrupt",
     "evalue": "",
     "output_type": "error",
     "traceback": [
      "\u001b[0;31m----------------------------------------------------------------------\u001b[0m",
      "\u001b[0;31mKeyboardInterrupt\u001b[0m                    Traceback (most recent call last)",
      "\u001b[0;32m<ipython-input-50-4d1c67f219dc>\u001b[0m in \u001b[0;36m<module>\u001b[0;34m()\u001b[0m\n\u001b[1;32m      3\u001b[0m history = model.fit(X_train, y_train,\n\u001b[1;32m      4\u001b[0m                    \u001b[0mbatch_size\u001b[0m \u001b[0;34m=\u001b[0m \u001b[0;36m10000\u001b[0m\u001b[0;34m,\u001b[0m \u001b[0mepochs\u001b[0m\u001b[0;34m=\u001b[0m\u001b[0;36m1\u001b[0m\u001b[0;34m,\u001b[0m\u001b[0;34m\u001b[0m\u001b[0m\n\u001b[0;32m----> 5\u001b[0;31m                    verbose = 1)\n\u001b[0m",
      "\u001b[0;32m~/anaconda/envs/tensor/lib/python3.6/site-packages/keras/models.py\u001b[0m in \u001b[0;36mfit\u001b[0;34m(self, x, y, batch_size, epochs, verbose, callbacks, validation_split, validation_data, shuffle, class_weight, sample_weight, initial_epoch, steps_per_epoch, validation_steps, **kwargs)\u001b[0m\n\u001b[1;32m    958\u001b[0m                               \u001b[0minitial_epoch\u001b[0m\u001b[0;34m=\u001b[0m\u001b[0minitial_epoch\u001b[0m\u001b[0;34m,\u001b[0m\u001b[0;34m\u001b[0m\u001b[0m\n\u001b[1;32m    959\u001b[0m                               \u001b[0msteps_per_epoch\u001b[0m\u001b[0;34m=\u001b[0m\u001b[0msteps_per_epoch\u001b[0m\u001b[0;34m,\u001b[0m\u001b[0;34m\u001b[0m\u001b[0m\n\u001b[0;32m--> 960\u001b[0;31m                               validation_steps=validation_steps)\n\u001b[0m\u001b[1;32m    961\u001b[0m \u001b[0;34m\u001b[0m\u001b[0m\n\u001b[1;32m    962\u001b[0m     def evaluate(self, x, y, batch_size=32, verbose=1,\n",
      "\u001b[0;32m~/anaconda/envs/tensor/lib/python3.6/site-packages/keras/engine/training.py\u001b[0m in \u001b[0;36mfit\u001b[0;34m(self, x, y, batch_size, epochs, verbose, callbacks, validation_split, validation_data, shuffle, class_weight, sample_weight, initial_epoch, steps_per_epoch, validation_steps, **kwargs)\u001b[0m\n\u001b[1;32m   1655\u001b[0m                               \u001b[0minitial_epoch\u001b[0m\u001b[0;34m=\u001b[0m\u001b[0minitial_epoch\u001b[0m\u001b[0;34m,\u001b[0m\u001b[0;34m\u001b[0m\u001b[0m\n\u001b[1;32m   1656\u001b[0m                               \u001b[0msteps_per_epoch\u001b[0m\u001b[0;34m=\u001b[0m\u001b[0msteps_per_epoch\u001b[0m\u001b[0;34m,\u001b[0m\u001b[0;34m\u001b[0m\u001b[0m\n\u001b[0;32m-> 1657\u001b[0;31m                               validation_steps=validation_steps)\n\u001b[0m\u001b[1;32m   1658\u001b[0m \u001b[0;34m\u001b[0m\u001b[0m\n\u001b[1;32m   1659\u001b[0m     def evaluate(self, x=None, y=None,\n",
      "\u001b[0;32m~/anaconda/envs/tensor/lib/python3.6/site-packages/keras/engine/training.py\u001b[0m in \u001b[0;36m_fit_loop\u001b[0;34m(self, f, ins, out_labels, batch_size, epochs, verbose, callbacks, val_f, val_ins, shuffle, callback_metrics, initial_epoch, steps_per_epoch, validation_steps)\u001b[0m\n\u001b[1;32m   1211\u001b[0m                     \u001b[0mbatch_logs\u001b[0m\u001b[0;34m[\u001b[0m\u001b[0;34m'size'\u001b[0m\u001b[0;34m]\u001b[0m \u001b[0;34m=\u001b[0m \u001b[0mlen\u001b[0m\u001b[0;34m(\u001b[0m\u001b[0mbatch_ids\u001b[0m\u001b[0;34m)\u001b[0m\u001b[0;34m\u001b[0m\u001b[0m\n\u001b[1;32m   1212\u001b[0m                     \u001b[0mcallbacks\u001b[0m\u001b[0;34m.\u001b[0m\u001b[0mon_batch_begin\u001b[0m\u001b[0;34m(\u001b[0m\u001b[0mbatch_index\u001b[0m\u001b[0;34m,\u001b[0m \u001b[0mbatch_logs\u001b[0m\u001b[0;34m)\u001b[0m\u001b[0;34m\u001b[0m\u001b[0m\n\u001b[0;32m-> 1213\u001b[0;31m                     \u001b[0mouts\u001b[0m \u001b[0;34m=\u001b[0m \u001b[0mf\u001b[0m\u001b[0;34m(\u001b[0m\u001b[0mins_batch\u001b[0m\u001b[0;34m)\u001b[0m\u001b[0;34m\u001b[0m\u001b[0m\n\u001b[0m\u001b[1;32m   1214\u001b[0m                     \u001b[0;32mif\u001b[0m \u001b[0;32mnot\u001b[0m \u001b[0misinstance\u001b[0m\u001b[0;34m(\u001b[0m\u001b[0mouts\u001b[0m\u001b[0;34m,\u001b[0m \u001b[0mlist\u001b[0m\u001b[0;34m)\u001b[0m\u001b[0;34m:\u001b[0m\u001b[0;34m\u001b[0m\u001b[0m\n\u001b[1;32m   1215\u001b[0m                         \u001b[0mouts\u001b[0m \u001b[0;34m=\u001b[0m \u001b[0;34m[\u001b[0m\u001b[0mouts\u001b[0m\u001b[0;34m]\u001b[0m\u001b[0;34m\u001b[0m\u001b[0m\n",
      "\u001b[0;32m~/anaconda/envs/tensor/lib/python3.6/site-packages/keras/backend/tensorflow_backend.py\u001b[0m in \u001b[0;36m__call__\u001b[0;34m(self, inputs)\u001b[0m\n\u001b[1;32m   2350\u001b[0m         \u001b[0msession\u001b[0m \u001b[0;34m=\u001b[0m \u001b[0mget_session\u001b[0m\u001b[0;34m(\u001b[0m\u001b[0;34m)\u001b[0m\u001b[0;34m\u001b[0m\u001b[0m\n\u001b[1;32m   2351\u001b[0m         updated = session.run(fetches=fetches, feed_dict=feed_dict,\n\u001b[0;32m-> 2352\u001b[0;31m                               **self.session_kwargs)\n\u001b[0m\u001b[1;32m   2353\u001b[0m         \u001b[0;32mreturn\u001b[0m \u001b[0mupdated\u001b[0m\u001b[0;34m[\u001b[0m\u001b[0;34m:\u001b[0m\u001b[0mlen\u001b[0m\u001b[0;34m(\u001b[0m\u001b[0mself\u001b[0m\u001b[0;34m.\u001b[0m\u001b[0moutputs\u001b[0m\u001b[0;34m)\u001b[0m\u001b[0;34m]\u001b[0m\u001b[0;34m\u001b[0m\u001b[0m\n\u001b[1;32m   2354\u001b[0m \u001b[0;34m\u001b[0m\u001b[0m\n",
      "\u001b[0;32m~/anaconda/envs/tensor/lib/python3.6/site-packages/tensorflow/python/client/session.py\u001b[0m in \u001b[0;36mrun\u001b[0;34m(self, fetches, feed_dict, options, run_metadata)\u001b[0m\n\u001b[1;32m    776\u001b[0m     \u001b[0;32mtry\u001b[0m\u001b[0;34m:\u001b[0m\u001b[0;34m\u001b[0m\u001b[0m\n\u001b[1;32m    777\u001b[0m       result = self._run(None, fetches, feed_dict, options_ptr,\n\u001b[0;32m--> 778\u001b[0;31m                          run_metadata_ptr)\n\u001b[0m\u001b[1;32m    779\u001b[0m       \u001b[0;32mif\u001b[0m \u001b[0mrun_metadata\u001b[0m\u001b[0;34m:\u001b[0m\u001b[0;34m\u001b[0m\u001b[0m\n\u001b[1;32m    780\u001b[0m         \u001b[0mproto_data\u001b[0m \u001b[0;34m=\u001b[0m \u001b[0mtf_session\u001b[0m\u001b[0;34m.\u001b[0m\u001b[0mTF_GetBuffer\u001b[0m\u001b[0;34m(\u001b[0m\u001b[0mrun_metadata_ptr\u001b[0m\u001b[0;34m)\u001b[0m\u001b[0;34m\u001b[0m\u001b[0m\n",
      "\u001b[0;32m~/anaconda/envs/tensor/lib/python3.6/site-packages/tensorflow/python/client/session.py\u001b[0m in \u001b[0;36m_run\u001b[0;34m(self, handle, fetches, feed_dict, options, run_metadata)\u001b[0m\n\u001b[1;32m    980\u001b[0m     \u001b[0;32mif\u001b[0m \u001b[0mfinal_fetches\u001b[0m \u001b[0;32mor\u001b[0m \u001b[0mfinal_targets\u001b[0m\u001b[0;34m:\u001b[0m\u001b[0;34m\u001b[0m\u001b[0m\n\u001b[1;32m    981\u001b[0m       results = self._do_run(handle, final_targets, final_fetches,\n\u001b[0;32m--> 982\u001b[0;31m                              feed_dict_string, options, run_metadata)\n\u001b[0m\u001b[1;32m    983\u001b[0m     \u001b[0;32melse\u001b[0m\u001b[0;34m:\u001b[0m\u001b[0;34m\u001b[0m\u001b[0m\n\u001b[1;32m    984\u001b[0m       \u001b[0mresults\u001b[0m \u001b[0;34m=\u001b[0m \u001b[0;34m[\u001b[0m\u001b[0;34m]\u001b[0m\u001b[0;34m\u001b[0m\u001b[0m\n",
      "\u001b[0;32m~/anaconda/envs/tensor/lib/python3.6/site-packages/tensorflow/python/client/session.py\u001b[0m in \u001b[0;36m_do_run\u001b[0;34m(self, handle, target_list, fetch_list, feed_dict, options, run_metadata)\u001b[0m\n\u001b[1;32m   1030\u001b[0m     \u001b[0;32mif\u001b[0m \u001b[0mhandle\u001b[0m \u001b[0;32mis\u001b[0m \u001b[0;32mNone\u001b[0m\u001b[0;34m:\u001b[0m\u001b[0;34m\u001b[0m\u001b[0m\n\u001b[1;32m   1031\u001b[0m       return self._do_call(_run_fn, self._session, feed_dict, fetch_list,\n\u001b[0;32m-> 1032\u001b[0;31m                            target_list, options, run_metadata)\n\u001b[0m\u001b[1;32m   1033\u001b[0m     \u001b[0;32melse\u001b[0m\u001b[0;34m:\u001b[0m\u001b[0;34m\u001b[0m\u001b[0m\n\u001b[1;32m   1034\u001b[0m       return self._do_call(_prun_fn, self._session, handle, feed_dict,\n",
      "\u001b[0;32m~/anaconda/envs/tensor/lib/python3.6/site-packages/tensorflow/python/client/session.py\u001b[0m in \u001b[0;36m_do_call\u001b[0;34m(self, fn, *args)\u001b[0m\n\u001b[1;32m   1037\u001b[0m   \u001b[0;32mdef\u001b[0m \u001b[0m_do_call\u001b[0m\u001b[0;34m(\u001b[0m\u001b[0mself\u001b[0m\u001b[0;34m,\u001b[0m \u001b[0mfn\u001b[0m\u001b[0;34m,\u001b[0m \u001b[0;34m*\u001b[0m\u001b[0margs\u001b[0m\u001b[0;34m)\u001b[0m\u001b[0;34m:\u001b[0m\u001b[0;34m\u001b[0m\u001b[0m\n\u001b[1;32m   1038\u001b[0m     \u001b[0;32mtry\u001b[0m\u001b[0;34m:\u001b[0m\u001b[0;34m\u001b[0m\u001b[0m\n\u001b[0;32m-> 1039\u001b[0;31m       \u001b[0;32mreturn\u001b[0m \u001b[0mfn\u001b[0m\u001b[0;34m(\u001b[0m\u001b[0;34m*\u001b[0m\u001b[0margs\u001b[0m\u001b[0;34m)\u001b[0m\u001b[0;34m\u001b[0m\u001b[0m\n\u001b[0m\u001b[1;32m   1040\u001b[0m     \u001b[0;32mexcept\u001b[0m \u001b[0merrors\u001b[0m\u001b[0;34m.\u001b[0m\u001b[0mOpError\u001b[0m \u001b[0;32mas\u001b[0m \u001b[0me\u001b[0m\u001b[0;34m:\u001b[0m\u001b[0;34m\u001b[0m\u001b[0m\n\u001b[1;32m   1041\u001b[0m       \u001b[0mmessage\u001b[0m \u001b[0;34m=\u001b[0m \u001b[0mcompat\u001b[0m\u001b[0;34m.\u001b[0m\u001b[0mas_text\u001b[0m\u001b[0;34m(\u001b[0m\u001b[0me\u001b[0m\u001b[0;34m.\u001b[0m\u001b[0mmessage\u001b[0m\u001b[0;34m)\u001b[0m\u001b[0;34m\u001b[0m\u001b[0m\n",
      "\u001b[0;32m~/anaconda/envs/tensor/lib/python3.6/site-packages/tensorflow/python/client/session.py\u001b[0m in \u001b[0;36m_run_fn\u001b[0;34m(session, feed_dict, fetch_list, target_list, options, run_metadata)\u001b[0m\n\u001b[1;32m   1019\u001b[0m         return tf_session.TF_Run(session, options,\n\u001b[1;32m   1020\u001b[0m                                  \u001b[0mfeed_dict\u001b[0m\u001b[0;34m,\u001b[0m \u001b[0mfetch_list\u001b[0m\u001b[0;34m,\u001b[0m \u001b[0mtarget_list\u001b[0m\u001b[0;34m,\u001b[0m\u001b[0;34m\u001b[0m\u001b[0m\n\u001b[0;32m-> 1021\u001b[0;31m                                  status, run_metadata)\n\u001b[0m\u001b[1;32m   1022\u001b[0m \u001b[0;34m\u001b[0m\u001b[0m\n\u001b[1;32m   1023\u001b[0m     \u001b[0;32mdef\u001b[0m \u001b[0m_prun_fn\u001b[0m\u001b[0;34m(\u001b[0m\u001b[0msession\u001b[0m\u001b[0;34m,\u001b[0m \u001b[0mhandle\u001b[0m\u001b[0;34m,\u001b[0m \u001b[0mfeed_dict\u001b[0m\u001b[0;34m,\u001b[0m \u001b[0mfetch_list\u001b[0m\u001b[0;34m)\u001b[0m\u001b[0;34m:\u001b[0m\u001b[0;34m\u001b[0m\u001b[0m\n",
      "\u001b[0;31mKeyboardInterrupt\u001b[0m: "
     ]
    }
   ],
   "source": [
    "# Set batch_size to 30 to show that it doesn't have to be a factor \n",
    "# or multiple of your sample size\n",
    "history = model.fit(X_train, y_train,\n",
    "                   batch_size = 20, epochs=1,\n",
    "                   verbose = 1)"
   ]
  },
  {
   "cell_type": "code",
   "execution_count": 43,
   "metadata": {
    "scrolled": true
   },
   "outputs": [
    {
     "data": {
      "text/plain": [
       "array([[[   9.75070953],\n",
       "        [  36.31097412],\n",
       "        [ 104.66318512]],\n",
       "\n",
       "       [[  82.32813263],\n",
       "        [  97.49900055],\n",
       "        [  99.82424927]],\n",
       "\n",
       "       [[  82.32813263],\n",
       "        [  97.49900055],\n",
       "        [  99.82424927]],\n",
       "\n",
       "       ..., \n",
       "       [[  82.32813263],\n",
       "        [  97.49900055],\n",
       "        [  99.82424927]],\n",
       "\n",
       "       [[  82.32813263],\n",
       "        [  97.49900055],\n",
       "        [  99.82424927]],\n",
       "\n",
       "       [[  82.32813263],\n",
       "        [  97.49900055],\n",
       "        [  99.82424927]]], dtype=float32)"
      ]
     },
     "execution_count": 43,
     "metadata": {},
     "output_type": "execute_result"
    }
   ],
   "source": [
    "model.predict(X_train)"
   ]
  },
  {
   "cell_type": "code",
   "execution_count": 44,
   "metadata": {},
   "outputs": [
    {
     "data": {
      "text/plain": [
       "array([[[  11.],\n",
       "        [  27.],\n",
       "        [  85.]],\n",
       "\n",
       "       [[  15.],\n",
       "        [  28.],\n",
       "        [  21.]],\n",
       "\n",
       "       [[ 143.],\n",
       "        [  79.],\n",
       "        [ 230.]],\n",
       "\n",
       "       ..., \n",
       "       [[  53.],\n",
       "        [ 259.],\n",
       "        [  93.]],\n",
       "\n",
       "       [[  85.],\n",
       "        [ 118.],\n",
       "        [  11.]],\n",
       "\n",
       "       [[ 126.],\n",
       "        [ 126.],\n",
       "        [ 126.]]])"
      ]
     },
     "execution_count": 44,
     "metadata": {},
     "output_type": "execute_result"
    }
   ],
   "source": [
    "y_train"
   ]
  },
  {
   "cell_type": "code",
   "execution_count": null,
   "metadata": {
    "collapsed": true
   },
   "outputs": [],
   "source": []
  }
 ],
 "metadata": {
  "kernelspec": {
   "display_name": "Python 3",
   "language": "python",
   "name": "python3"
  },
  "language_info": {
   "codemirror_mode": {
    "name": "ipython",
    "version": 3
   },
   "file_extension": ".py",
   "mimetype": "text/x-python",
   "name": "python",
   "nbconvert_exporter": "python",
   "pygments_lexer": "ipython3",
   "version": "3.6.2"
  }
 },
 "nbformat": 4,
 "nbformat_minor": 2
}
