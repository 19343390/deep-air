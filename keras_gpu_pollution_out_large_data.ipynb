{
 "cells": [
  {
   "cell_type": "markdown",
   "metadata": {},
   "source": [
    "Imports"
   ]
  },
  {
   "cell_type": "code",
   "execution_count": 4,
   "metadata": {},
   "outputs": [
    {
     "name": "stderr",
     "output_type": "stream",
     "text": [
      "Using TensorFlow backend.\n",
      "/home/ubuntu/anaconda3/envs/deep-air/lib/python3.6/importlib/_bootstrap.py:205: RuntimeWarning: compiletime version 3.5 of module 'tensorflow.python.framework.fast_tensor_util' does not match runtime version 3.6\n",
      "  return f(*args, **kwds)\n"
     ]
    }
   ],
   "source": [
    "from math import sqrt\n",
    "from numpy import concatenate\n",
    "from matplotlib import pyplot as plt\n",
    "%matplotlib inline\n",
    "from sklearn.model_selection import train_test_split\n",
    "from sklearn.preprocessing import MinMaxScaler\n",
    "from sklearn.preprocessing import LabelEncoder\n",
    "from sklearn.metrics import mean_squared_error\n",
    "from keras.models import Sequential\n",
    "from keras.layers import Dense\n",
    "from keras.layers import LSTM\n",
    "from keras.preprocessing.sequence import pad_sequences\n",
    "import numpy as np\n",
    "import pandas as pd\n",
    "import time\n",
    "import warnings; warnings.filterwarnings('ignore');\n",
    "from tensorflow.python.client import device_lib"
   ]
  },
  {
   "cell_type": "code",
   "execution_count": 8,
   "metadata": {
    "collapsed": true
   },
   "outputs": [],
   "source": [
    "# CuDNN-powered LSTM\n",
    "from keras.layers import CuDNNLSTM"
   ]
  },
  {
   "cell_type": "code",
   "execution_count": 9,
   "metadata": {
    "collapsed": true
   },
   "outputs": [],
   "source": [
    "def get_available_gpus():\n",
    "    local_devices = device_lib.list_local_devices()\n",
    "    return [x for x in local_devices if x.device_type == 'GPU']"
   ]
  },
  {
   "cell_type": "code",
   "execution_count": 10,
   "metadata": {
    "scrolled": true
   },
   "outputs": [
    {
     "data": {
      "text/plain": [
       "[name: \"/device:GPU:0\"\n",
       " device_type: \"GPU\"\n",
       " memory_limit: 357957632\n",
       " locality {\n",
       "   bus_id: 1\n",
       " }\n",
       " incarnation: 1033613650667949710\n",
       " physical_device_desc: \"device: 0, name: Tesla K80, pci bus id: 0000:00:1e.0, compute capability: 3.7\"]"
      ]
     },
     "execution_count": 10,
     "metadata": {},
     "output_type": "execute_result"
    }
   ],
   "source": [
    "get_available_gpus()"
   ]
  },
  {
   "cell_type": "markdown",
   "metadata": {},
   "source": [
    "## Baseline LSTM + room to change network architecture"
   ]
  },
  {
   "cell_type": "code",
   "execution_count": 90,
   "metadata": {
    "collapsed": true
   },
   "outputs": [],
   "source": [
    "def handle_wind_dir(data):\n",
    "    '''\n",
    "    Different ways to handle the string format:\n",
    "     1. Drop it\n",
    "     2. LabelEncode it\n",
    "     3. One-hot encode it\n",
    "     \n",
    "    The reason I need to handle it is because Keras' pad_sequences function takes int() of\n",
    "    all the columns.\n",
    "    '''\n",
    "    # I'll drop it first\n",
    "    data = data.drop('wnd_dir', axis=1, inplace=False)\n",
    "    return data"
   ]
  },
  {
   "cell_type": "code",
   "execution_count": 91,
   "metadata": {
    "collapsed": true
   },
   "outputs": [],
   "source": [
    "df = pd.read_csv('data/pollution.csv', header=0, index_col=0)"
   ]
  },
  {
   "cell_type": "code",
   "execution_count": 92,
   "metadata": {
    "collapsed": true
   },
   "outputs": [],
   "source": [
    "# Optionally drop wind dir\n",
    "df = handle_wind_dir(df)"
   ]
  },
  {
   "cell_type": "code",
   "execution_count": 93,
   "metadata": {
    "scrolled": true
   },
   "outputs": [
    {
     "data": {
      "text/html": [
       "<div>\n",
       "<style>\n",
       "    .dataframe thead tr:only-child th {\n",
       "        text-align: right;\n",
       "    }\n",
       "\n",
       "    .dataframe thead th {\n",
       "        text-align: left;\n",
       "    }\n",
       "\n",
       "    .dataframe tbody tr th {\n",
       "        vertical-align: top;\n",
       "    }\n",
       "</style>\n",
       "<table border=\"1\" class=\"dataframe\">\n",
       "  <thead>\n",
       "    <tr style=\"text-align: right;\">\n",
       "      <th></th>\n",
       "      <th>pollution</th>\n",
       "      <th>dew</th>\n",
       "      <th>temp</th>\n",
       "      <th>press</th>\n",
       "      <th>wnd_spd</th>\n",
       "      <th>snow</th>\n",
       "      <th>rain</th>\n",
       "    </tr>\n",
       "  </thead>\n",
       "  <tbody>\n",
       "    <tr>\n",
       "      <th>24</th>\n",
       "      <td>129.0</td>\n",
       "      <td>-16</td>\n",
       "      <td>-4.0</td>\n",
       "      <td>1020.0</td>\n",
       "      <td>1.79</td>\n",
       "      <td>0</td>\n",
       "      <td>0</td>\n",
       "    </tr>\n",
       "    <tr>\n",
       "      <th>25</th>\n",
       "      <td>148.0</td>\n",
       "      <td>-15</td>\n",
       "      <td>-4.0</td>\n",
       "      <td>1020.0</td>\n",
       "      <td>2.68</td>\n",
       "      <td>0</td>\n",
       "      <td>0</td>\n",
       "    </tr>\n",
       "    <tr>\n",
       "      <th>26</th>\n",
       "      <td>159.0</td>\n",
       "      <td>-11</td>\n",
       "      <td>-5.0</td>\n",
       "      <td>1021.0</td>\n",
       "      <td>3.57</td>\n",
       "      <td>0</td>\n",
       "      <td>0</td>\n",
       "    </tr>\n",
       "    <tr>\n",
       "      <th>27</th>\n",
       "      <td>181.0</td>\n",
       "      <td>-7</td>\n",
       "      <td>-5.0</td>\n",
       "      <td>1022.0</td>\n",
       "      <td>5.36</td>\n",
       "      <td>1</td>\n",
       "      <td>0</td>\n",
       "    </tr>\n",
       "    <tr>\n",
       "      <th>28</th>\n",
       "      <td>138.0</td>\n",
       "      <td>-7</td>\n",
       "      <td>-5.0</td>\n",
       "      <td>1022.0</td>\n",
       "      <td>6.25</td>\n",
       "      <td>2</td>\n",
       "      <td>0</td>\n",
       "    </tr>\n",
       "  </tbody>\n",
       "</table>\n",
       "</div>"
      ],
      "text/plain": [
       "    pollution  dew  temp   press  wnd_spd  snow  rain\n",
       "24      129.0  -16  -4.0  1020.0     1.79     0     0\n",
       "25      148.0  -15  -4.0  1020.0     2.68     0     0\n",
       "26      159.0  -11  -5.0  1021.0     3.57     0     0\n",
       "27      181.0   -7  -5.0  1022.0     5.36     1     0\n",
       "28      138.0   -7  -5.0  1022.0     6.25     2     0"
      ]
     },
     "execution_count": 93,
     "metadata": {},
     "output_type": "execute_result"
    }
   ],
   "source": [
    "df.head()"
   ]
  },
  {
   "cell_type": "code",
   "execution_count": 94,
   "metadata": {
    "collapsed": true
   },
   "outputs": [],
   "source": [
    "df_features = df.iloc[:, 1:]"
   ]
  },
  {
   "cell_type": "code",
   "execution_count": 95,
   "metadata": {
    "collapsed": true
   },
   "outputs": [],
   "source": [
    "df_label = pd.DataFrame(df.iloc[:,0], columns=['pollution'])"
   ]
  },
  {
   "cell_type": "code",
   "execution_count": 96,
   "metadata": {
    "collapsed": true
   },
   "outputs": [],
   "source": [
    "def standardize(df):\n",
    "    return ((df.values - np.mean(df.values, axis = 0)) / np.std(df.values, axis = 0))"
   ]
  },
  {
   "cell_type": "code",
   "execution_count": 97,
   "metadata": {
    "collapsed": true
   },
   "outputs": [],
   "source": [
    "stand = pd.DataFrame(standardize(df_features), columns=df_features.columns)"
   ]
  },
  {
   "cell_type": "code",
   "execution_count": 98,
   "metadata": {},
   "outputs": [
    {
     "data": {
      "text/html": [
       "<div>\n",
       "<style>\n",
       "    .dataframe thead tr:only-child th {\n",
       "        text-align: right;\n",
       "    }\n",
       "\n",
       "    .dataframe thead th {\n",
       "        text-align: left;\n",
       "    }\n",
       "\n",
       "    .dataframe tbody tr th {\n",
       "        vertical-align: top;\n",
       "    }\n",
       "</style>\n",
       "<table border=\"1\" class=\"dataframe\">\n",
       "  <thead>\n",
       "    <tr style=\"text-align: right;\">\n",
       "      <th></th>\n",
       "      <th>dew</th>\n",
       "      <th>temp</th>\n",
       "      <th>press</th>\n",
       "      <th>wnd_spd</th>\n",
       "      <th>snow</th>\n",
       "      <th>rain</th>\n",
       "    </tr>\n",
       "  </thead>\n",
       "  <tbody>\n",
       "    <tr>\n",
       "      <th>0</th>\n",
       "      <td>-1.235589</td>\n",
       "      <td>-1.349849</td>\n",
       "      <td>0.345886</td>\n",
       "      <td>-0.441890</td>\n",
       "      <td>-0.069372</td>\n",
       "      <td>-0.137706</td>\n",
       "    </tr>\n",
       "    <tr>\n",
       "      <th>1</th>\n",
       "      <td>-1.166285</td>\n",
       "      <td>-1.349849</td>\n",
       "      <td>0.345886</td>\n",
       "      <td>-0.424098</td>\n",
       "      <td>-0.069372</td>\n",
       "      <td>-0.137706</td>\n",
       "    </tr>\n",
       "    <tr>\n",
       "      <th>2</th>\n",
       "      <td>-0.889069</td>\n",
       "      <td>-1.431862</td>\n",
       "      <td>0.443244</td>\n",
       "      <td>-0.406306</td>\n",
       "      <td>-0.069372</td>\n",
       "      <td>-0.137706</td>\n",
       "    </tr>\n",
       "    <tr>\n",
       "      <th>3</th>\n",
       "      <td>-0.611852</td>\n",
       "      <td>-1.431862</td>\n",
       "      <td>0.540603</td>\n",
       "      <td>-0.370522</td>\n",
       "      <td>1.245425</td>\n",
       "      <td>-0.137706</td>\n",
       "    </tr>\n",
       "    <tr>\n",
       "      <th>4</th>\n",
       "      <td>-0.611852</td>\n",
       "      <td>-1.431862</td>\n",
       "      <td>0.540603</td>\n",
       "      <td>-0.352730</td>\n",
       "      <td>2.560223</td>\n",
       "      <td>-0.137706</td>\n",
       "    </tr>\n",
       "  </tbody>\n",
       "</table>\n",
       "</div>"
      ],
      "text/plain": [
       "        dew      temp     press   wnd_spd      snow      rain\n",
       "0 -1.235589 -1.349849  0.345886 -0.441890 -0.069372 -0.137706\n",
       "1 -1.166285 -1.349849  0.345886 -0.424098 -0.069372 -0.137706\n",
       "2 -0.889069 -1.431862  0.443244 -0.406306 -0.069372 -0.137706\n",
       "3 -0.611852 -1.431862  0.540603 -0.370522  1.245425 -0.137706\n",
       "4 -0.611852 -1.431862  0.540603 -0.352730  2.560223 -0.137706"
      ]
     },
     "execution_count": 98,
     "metadata": {},
     "output_type": "execute_result"
    }
   ],
   "source": [
    "stand.head()"
   ]
  },
  {
   "cell_type": "markdown",
   "metadata": {},
   "source": [
    "### Split Train and Leave Out set"
   ]
  },
  {
   "cell_type": "code",
   "execution_count": 99,
   "metadata": {
    "collapsed": true
   },
   "outputs": [],
   "source": [
    "train_features, test_features, train_label, test_label = train_test_split(df_features, df_label,\n",
    "                                                                          test_size=.20, \n",
    "                                                                          random_state=789)"
   ]
  },
  {
   "cell_type": "code",
   "execution_count": 100,
   "metadata": {
    "collapsed": true
   },
   "outputs": [],
   "source": [
    "def prepare_sequences(df_features, df_label):\n",
    "    ''' \n",
    "    Let df = train and prepare sequences.\n",
    "    '''\n",
    "    input_cols = list(df_features.columns)\n",
    "    df_features['single_input_vector'] = df_features[input_cols].apply(tuple, axis=1).apply(list)\\\n",
    "        .apply(lambda x: [list(x)])\n",
    "    df_label['single_output_vector'] = df_label['pollution'].apply(lambda x: [[x]])\n",
    "    train_full = pd.concat((df_features, df_label), axis=1)\n",
    "    return df_features, df_label, train_full"
   ]
  },
  {
   "cell_type": "code",
   "execution_count": 101,
   "metadata": {},
   "outputs": [],
   "source": [
    "train_features, train_label, train_full = prepare_sequences(train_features, train_label)"
   ]
  },
  {
   "cell_type": "code",
   "execution_count": 85,
   "metadata": {
    "collapsed": true
   },
   "outputs": [],
   "source": [
    "# train_features, test_features, train_label, test_label = train_test_split(stand, df_label,\n",
    "#                                                                           test_size=.50, \n",
    "#                                                                           random_state=789)"
   ]
  },
  {
   "cell_type": "markdown",
   "metadata": {},
   "source": [
    "### Split Train into Train and Dev Set"
   ]
  },
  {
   "cell_type": "code",
   "execution_count": 104,
   "metadata": {
    "collapsed": true
   },
   "outputs": [],
   "source": [
    "train_features, dev_features, train_label, dev_label = train_test_split(train_features, train_label,\n",
    "                                                                          test_size=.20, \n",
    "                                                                          random_state=789)"
   ]
  },
  {
   "cell_type": "code",
   "execution_count": 105,
   "metadata": {},
   "outputs": [
    {
     "data": {
      "text/plain": [
       "28032"
      ]
     },
     "execution_count": 105,
     "metadata": {},
     "output_type": "execute_result"
    }
   ],
   "source": [
    "len(train_features)"
   ]
  },
  {
   "cell_type": "code",
   "execution_count": 106,
   "metadata": {},
   "outputs": [
    {
     "data": {
      "text/plain": [
       "28032"
      ]
     },
     "execution_count": 106,
     "metadata": {},
     "output_type": "execute_result"
    }
   ],
   "source": [
    "len(train_label)"
   ]
  },
  {
   "cell_type": "code",
   "execution_count": null,
   "metadata": {
    "collapsed": true
   },
   "outputs": [],
   "source": []
  },
  {
   "cell_type": "code",
   "execution_count": null,
   "metadata": {
    "collapsed": true
   },
   "outputs": [],
   "source": []
  },
  {
   "cell_type": "code",
   "execution_count": 107,
   "metadata": {},
   "outputs": [
    {
     "data": {
      "text/html": [
       "<div>\n",
       "<style>\n",
       "    .dataframe thead tr:only-child th {\n",
       "        text-align: right;\n",
       "    }\n",
       "\n",
       "    .dataframe thead th {\n",
       "        text-align: left;\n",
       "    }\n",
       "\n",
       "    .dataframe tbody tr th {\n",
       "        vertical-align: top;\n",
       "    }\n",
       "</style>\n",
       "<table border=\"1\" class=\"dataframe\">\n",
       "  <thead>\n",
       "    <tr style=\"text-align: right;\">\n",
       "      <th></th>\n",
       "      <th>dew</th>\n",
       "      <th>temp</th>\n",
       "      <th>press</th>\n",
       "      <th>wnd_spd</th>\n",
       "      <th>snow</th>\n",
       "      <th>rain</th>\n",
       "      <th>single_input_vector</th>\n",
       "    </tr>\n",
       "  </thead>\n",
       "  <tbody>\n",
       "    <tr>\n",
       "      <th>36595</th>\n",
       "      <td>-21</td>\n",
       "      <td>6.0</td>\n",
       "      <td>1025.0</td>\n",
       "      <td>49.61</td>\n",
       "      <td>0</td>\n",
       "      <td>0</td>\n",
       "      <td>[[-21.0, 6.0, 1025.0, 49.61, 0.0, 0.0]]</td>\n",
       "    </tr>\n",
       "    <tr>\n",
       "      <th>37118</th>\n",
       "      <td>0</td>\n",
       "      <td>15.0</td>\n",
       "      <td>1011.0</td>\n",
       "      <td>23.23</td>\n",
       "      <td>0</td>\n",
       "      <td>0</td>\n",
       "      <td>[[0.0, 15.0, 1011.0, 23.23, 0.0, 0.0]]</td>\n",
       "    </tr>\n",
       "    <tr>\n",
       "      <th>27250</th>\n",
       "      <td>-13</td>\n",
       "      <td>-6.0</td>\n",
       "      <td>1026.0</td>\n",
       "      <td>1.79</td>\n",
       "      <td>0</td>\n",
       "      <td>0</td>\n",
       "      <td>[[-13.0, -6.0, 1026.0, 1.79, 0.0, 0.0]]</td>\n",
       "    </tr>\n",
       "    <tr>\n",
       "      <th>16914</th>\n",
       "      <td>-1</td>\n",
       "      <td>0.0</td>\n",
       "      <td>1031.0</td>\n",
       "      <td>4.47</td>\n",
       "      <td>0</td>\n",
       "      <td>0</td>\n",
       "      <td>[[-1.0, 0.0, 1031.0, 4.47, 0.0, 0.0]]</td>\n",
       "    </tr>\n",
       "    <tr>\n",
       "      <th>26062</th>\n",
       "      <td>-17</td>\n",
       "      <td>-6.0</td>\n",
       "      <td>1035.0</td>\n",
       "      <td>54.53</td>\n",
       "      <td>0</td>\n",
       "      <td>0</td>\n",
       "      <td>[[-17.0, -6.0, 1035.0, 54.53, 0.0, 0.0]]</td>\n",
       "    </tr>\n",
       "  </tbody>\n",
       "</table>\n",
       "</div>"
      ],
      "text/plain": [
       "       dew  temp   press  wnd_spd  snow  rain  \\\n",
       "36595  -21   6.0  1025.0    49.61     0     0   \n",
       "37118    0  15.0  1011.0    23.23     0     0   \n",
       "27250  -13  -6.0  1026.0     1.79     0     0   \n",
       "16914   -1   0.0  1031.0     4.47     0     0   \n",
       "26062  -17  -6.0  1035.0    54.53     0     0   \n",
       "\n",
       "                            single_input_vector  \n",
       "36595   [[-21.0, 6.0, 1025.0, 49.61, 0.0, 0.0]]  \n",
       "37118    [[0.0, 15.0, 1011.0, 23.23, 0.0, 0.0]]  \n",
       "27250   [[-13.0, -6.0, 1026.0, 1.79, 0.0, 0.0]]  \n",
       "16914     [[-1.0, 0.0, 1031.0, 4.47, 0.0, 0.0]]  \n",
       "26062  [[-17.0, -6.0, 1035.0, 54.53, 0.0, 0.0]]  "
      ]
     },
     "execution_count": 107,
     "metadata": {},
     "output_type": "execute_result"
    }
   ],
   "source": [
    "train_features.head()"
   ]
  },
  {
   "cell_type": "code",
   "execution_count": 108,
   "metadata": {},
   "outputs": [
    {
     "data": {
      "text/html": [
       "<div>\n",
       "<style>\n",
       "    .dataframe thead tr:only-child th {\n",
       "        text-align: right;\n",
       "    }\n",
       "\n",
       "    .dataframe thead th {\n",
       "        text-align: left;\n",
       "    }\n",
       "\n",
       "    .dataframe tbody tr th {\n",
       "        vertical-align: top;\n",
       "    }\n",
       "</style>\n",
       "<table border=\"1\" class=\"dataframe\">\n",
       "  <thead>\n",
       "    <tr style=\"text-align: right;\">\n",
       "      <th></th>\n",
       "      <th>pollution</th>\n",
       "      <th>single_output_vector</th>\n",
       "    </tr>\n",
       "  </thead>\n",
       "  <tbody>\n",
       "    <tr>\n",
       "      <th>36595</th>\n",
       "      <td>49.0</td>\n",
       "      <td>[[49.0]]</td>\n",
       "    </tr>\n",
       "    <tr>\n",
       "      <th>37118</th>\n",
       "      <td>115.0</td>\n",
       "      <td>[[115.0]]</td>\n",
       "    </tr>\n",
       "    <tr>\n",
       "      <th>27250</th>\n",
       "      <td>185.0</td>\n",
       "      <td>[[185.0]]</td>\n",
       "    </tr>\n",
       "    <tr>\n",
       "      <th>16914</th>\n",
       "      <td>187.0</td>\n",
       "      <td>[[187.0]]</td>\n",
       "    </tr>\n",
       "    <tr>\n",
       "      <th>26062</th>\n",
       "      <td>15.0</td>\n",
       "      <td>[[15.0]]</td>\n",
       "    </tr>\n",
       "  </tbody>\n",
       "</table>\n",
       "</div>"
      ],
      "text/plain": [
       "       pollution single_output_vector\n",
       "36595       49.0             [[49.0]]\n",
       "37118      115.0            [[115.0]]\n",
       "27250      185.0            [[185.0]]\n",
       "16914      187.0            [[187.0]]\n",
       "26062       15.0             [[15.0]]"
      ]
     },
     "execution_count": 108,
     "metadata": {},
     "output_type": "execute_result"
    }
   ],
   "source": [
    "train_label.head()"
   ]
  },
  {
   "cell_type": "code",
   "execution_count": 117,
   "metadata": {
    "collapsed": true
   },
   "outputs": [],
   "source": [
    "def func(x, maxlen=None):\n",
    "    '''\n",
    "    Pad sequences with lists of 0s. Functional lambda programming.\n",
    "    '''\n",
    "    zeros_to_add = maxlen - len(x)\n",
    "    prepended = [np.zeros(7).tolist()]\n",
    "    y = prepended*zeros_to_add + x\n",
    "    return y\n",
    "\n",
    "def func_output(x, maxlen=None):\n",
    "    '''\n",
    "    Pad sequences with lists of 0s. Functional lambda programming.\n",
    "    '''\n",
    "    zeros_to_add = maxlen - len(x)\n",
    "    prepended = [np.zeros(1).tolist()]\n",
    "    y = prepended*zeros_to_add + x\n",
    "    return y\n",
    "\n",
    "def balanced_sliding_windows(df, stride=3):\n",
    "    '''\n",
    "    Create sliding windows of size [n - 3, n + 3]. Let df=train.\n",
    "    '''\n",
    "    seqs = []\n",
    "    for i, value in df.iterrows():\n",
    "        if i >= stride and i < len(df) - stride:\n",
    "            sequences = df.iloc[i-stride:i+stride, -1].sum()\n",
    "        elif i < stride:\n",
    "            sequences = df.iloc[i:i+stride, -1].sum()\n",
    "        else:\n",
    "            sequences = df.iloc[i-stride:i, -1].sum()\n",
    "        seqs.append(sequences)\n",
    "    return pd.Series(seqs)\n",
    "        \n",
    "def past_windows(df, stride=3):\n",
    "    '''\n",
    "    Create windows of size [n - 3: n]. Let df=train.\n",
    "    '''\n",
    "    seqs = []\n",
    "    for i, value in df.iterrows():\n",
    "        if i >= stride and i < len(df) - stride:\n",
    "            sequences = df.iloc[i-stride:i, -1].sum()\n",
    "        elif i < stride:\n",
    "            sequences = df.iloc[0:i, -1].sum()\n",
    "        else:\n",
    "            sequences = df.iloc[i-stride:i, -1].sum()\n",
    "        if sequences == 0:\n",
    "            # Pad empty array with arrays of 0s\n",
    "            sequences = func([], stride)\n",
    "        if len(sequences) < stride:\n",
    "            # Pad with arrays of 0s\n",
    "            sequences = func(sequences, stride)\n",
    "        seqs.append(sequences)\n",
    "    return pd.Series(seqs)\n",
    "\n",
    "def future_windows(df, stride=3):\n",
    "    '''\n",
    "    Create windows of size [n : n+3]. Let df=train.\n",
    "    '''\n",
    "    seqs = []\n",
    "    for i, value in df.iterrows():\n",
    "        if i >= stride and i < len(df) - stride:\n",
    "            sequences = df.iloc[i:i+stride, -1].sum()\n",
    "        elif i < stride:\n",
    "            sequences = df.iloc[i:i+stride, -1].sum()\n",
    "        else:\n",
    "            sequences = df.iloc[i:, -1].sum()\n",
    "        if type(sequences) == 'int' and sequences == 0:\n",
    "            sequences = func_output([], stride)\n",
    "        elif type(sequences) == 'int' and len(sequences) < stride:\n",
    "            # Pad with arrays of 0s\n",
    "            print(sequences)\n",
    "            sequences = func_output(sequences, stride)\n",
    "        seqs.append(sequences)\n",
    "    return pd.Series(seqs)"
   ]
  },
  {
   "cell_type": "code",
   "execution_count": 110,
   "metadata": {},
   "outputs": [],
   "source": [
    "input_vec = train_features['single_input_vector']\n",
    "input_vec = pd.DataFrame(input_vec)"
   ]
  },
  {
   "cell_type": "code",
   "execution_count": 111,
   "metadata": {},
   "outputs": [],
   "source": [
    "output_vec = train_label['single_output_vector']\n",
    "output_vec = pd.DataFrame(output_vec)"
   ]
  },
  {
   "cell_type": "code",
   "execution_count": 34,
   "metadata": {
    "collapsed": true
   },
   "outputs": [],
   "source": [
    "# Good so far."
   ]
  },
  {
   "cell_type": "code",
   "execution_count": 35,
   "metadata": {
    "collapsed": true
   },
   "outputs": [],
   "source": [
    "#balanced_sliding_windows(input_vec).head()"
   ]
  },
  {
   "cell_type": "code",
   "execution_count": 36,
   "metadata": {
    "collapsed": true
   },
   "outputs": [],
   "source": [
    "#past_windows(input_vec).head()"
   ]
  },
  {
   "cell_type": "code",
   "execution_count": 37,
   "metadata": {
    "collapsed": true
   },
   "outputs": [],
   "source": [
    "#future_windows(output_vec).head()"
   ]
  },
  {
   "cell_type": "code",
   "execution_count": 38,
   "metadata": {
    "collapsed": true
   },
   "outputs": [],
   "source": [
    "#df.head()"
   ]
  },
  {
   "cell_type": "code",
   "execution_count": 39,
   "metadata": {
    "collapsed": true
   },
   "outputs": [],
   "source": [
    "# Good so far"
   ]
  },
  {
   "cell_type": "code",
   "execution_count": 118,
   "metadata": {},
   "outputs": [],
   "source": [
    "train['past_sequences'] = past_windows(input_vec)\n",
    "train['future_sequences'] = future_windows(output_vec)"
   ]
  },
  {
   "cell_type": "code",
   "execution_count": 119,
   "metadata": {},
   "outputs": [
    {
     "data": {
      "text/html": [
       "<div>\n",
       "<style>\n",
       "    .dataframe thead tr:only-child th {\n",
       "        text-align: right;\n",
       "    }\n",
       "\n",
       "    .dataframe thead th {\n",
       "        text-align: left;\n",
       "    }\n",
       "\n",
       "    .dataframe tbody tr th {\n",
       "        vertical-align: top;\n",
       "    }\n",
       "</style>\n",
       "<table border=\"1\" class=\"dataframe\">\n",
       "  <thead>\n",
       "    <tr style=\"text-align: right;\">\n",
       "      <th></th>\n",
       "      <th>dew</th>\n",
       "      <th>pollution</th>\n",
       "      <th>press</th>\n",
       "      <th>rain</th>\n",
       "      <th>single_input_vector</th>\n",
       "      <th>single_output_vector</th>\n",
       "      <th>snow</th>\n",
       "      <th>temp</th>\n",
       "      <th>wnd_spd</th>\n",
       "      <th>past_sequences</th>\n",
       "      <th>future_sequences</th>\n",
       "    </tr>\n",
       "  </thead>\n",
       "  <tbody>\n",
       "    <tr>\n",
       "      <th>0</th>\n",
       "      <td>1.328662</td>\n",
       "      <td>NaN</td>\n",
       "      <td>-0.725060</td>\n",
       "      <td>-0.137706</td>\n",
       "      <td>NaN</td>\n",
       "      <td>NaN</td>\n",
       "      <td>-0.069372</td>\n",
       "      <td>1.028517</td>\n",
       "      <td>-0.379318</td>\n",
       "      <td>[[0.0, 0.0, 0.0, 0.0, 0.0, 0.0, 0.0], [0.0, 0....</td>\n",
       "      <td>0</td>\n",
       "    </tr>\n",
       "    <tr>\n",
       "      <th>1</th>\n",
       "      <td>-0.334636</td>\n",
       "      <td>NaN</td>\n",
       "      <td>0.443244</td>\n",
       "      <td>-0.137706</td>\n",
       "      <td>NaN</td>\n",
       "      <td>NaN</td>\n",
       "      <td>-0.069372</td>\n",
       "      <td>-1.103811</td>\n",
       "      <td>-0.441890</td>\n",
       "      <td>[[0.0, 0.0, 0.0, 0.0, 0.0, 0.0, 0.0], [0.0, 0....</td>\n",
       "      <td>0</td>\n",
       "    </tr>\n",
       "    <tr>\n",
       "      <th>2</th>\n",
       "      <td>0.150493</td>\n",
       "      <td>NaN</td>\n",
       "      <td>0.832679</td>\n",
       "      <td>-0.137706</td>\n",
       "      <td>NaN</td>\n",
       "      <td>NaN</td>\n",
       "      <td>-0.069372</td>\n",
       "      <td>-0.529723</td>\n",
       "      <td>-0.459882</td>\n",
       "      <td>[[1.0, 3.0, 1012.0, 3.12, 0.0, 0.0], [14.0, 35...</td>\n",
       "      <td>[[0.0], [35.0], [41.0]]</td>\n",
       "    </tr>\n",
       "    <tr>\n",
       "      <th>3</th>\n",
       "      <td>1.397966</td>\n",
       "      <td>NaN</td>\n",
       "      <td>-1.406571</td>\n",
       "      <td>-0.137706</td>\n",
       "      <td>NaN</td>\n",
       "      <td>NaN</td>\n",
       "      <td>-0.069372</td>\n",
       "      <td>1.028517</td>\n",
       "      <td>-0.057661</td>\n",
       "      <td>[[-23.0, -5.0, 1031.0, 75.09, 0.0, 0.0], [17.0...</td>\n",
       "      <td>[[8.0], [33.0], [13.0]]</td>\n",
       "    </tr>\n",
       "    <tr>\n",
       "      <th>4</th>\n",
       "      <td>-0.750461</td>\n",
       "      <td>NaN</td>\n",
       "      <td>0.540603</td>\n",
       "      <td>-0.137706</td>\n",
       "      <td>NaN</td>\n",
       "      <td>NaN</td>\n",
       "      <td>-0.069372</td>\n",
       "      <td>0.208391</td>\n",
       "      <td>0.111864</td>\n",
       "      <td>[[-15.0, -9.0, 1029.0, 3.13, 0.0, 0.0], [9.0, ...</td>\n",
       "      <td>[[51.0], [73.0], [32.0]]</td>\n",
       "    </tr>\n",
       "  </tbody>\n",
       "</table>\n",
       "</div>"
      ],
      "text/plain": [
       "        dew  pollution     press      rain single_input_vector  \\\n",
       "0  1.328662        NaN -0.725060 -0.137706                 NaN   \n",
       "1 -0.334636        NaN  0.443244 -0.137706                 NaN   \n",
       "2  0.150493        NaN  0.832679 -0.137706                 NaN   \n",
       "3  1.397966        NaN -1.406571 -0.137706                 NaN   \n",
       "4 -0.750461        NaN  0.540603 -0.137706                 NaN   \n",
       "\n",
       "  single_output_vector      snow      temp   wnd_spd  \\\n",
       "0                  NaN -0.069372  1.028517 -0.379318   \n",
       "1                  NaN -0.069372 -1.103811 -0.441890   \n",
       "2                  NaN -0.069372 -0.529723 -0.459882   \n",
       "3                  NaN -0.069372  1.028517 -0.057661   \n",
       "4                  NaN -0.069372  0.208391  0.111864   \n",
       "\n",
       "                                      past_sequences          future_sequences  \n",
       "0  [[0.0, 0.0, 0.0, 0.0, 0.0, 0.0, 0.0], [0.0, 0....                         0  \n",
       "1  [[0.0, 0.0, 0.0, 0.0, 0.0, 0.0, 0.0], [0.0, 0....                         0  \n",
       "2  [[1.0, 3.0, 1012.0, 3.12, 0.0, 0.0], [14.0, 35...   [[0.0], [35.0], [41.0]]  \n",
       "3  [[-23.0, -5.0, 1031.0, 75.09, 0.0, 0.0], [17.0...   [[8.0], [33.0], [13.0]]  \n",
       "4  [[-15.0, -9.0, 1029.0, 3.13, 0.0, 0.0], [9.0, ...  [[51.0], [73.0], [32.0]]  "
      ]
     },
     "execution_count": 119,
     "metadata": {},
     "output_type": "execute_result"
    }
   ],
   "source": [
    "train.head()"
   ]
  },
  {
   "cell_type": "code",
   "execution_count": null,
   "metadata": {
    "collapsed": true
   },
   "outputs": [],
   "source": []
  },
  {
   "cell_type": "code",
   "execution_count": 86,
   "metadata": {
    "collapsed": true
   },
   "outputs": [],
   "source": [
    "# predicting G for now, just a test example\n",
    "# If your output is multi-dimensional, you need to capture those \n",
    "# dimensions in one object\n",
    "# If your output is a single dimension, this step may be unnecessary\n",
    "def set_output_featureset(df):\n",
    "    '''\n",
    "    Let df=train and prepare output vector\n",
    "    '''\n",
    "    df['output_vector'] = df['future_sequences']\n",
    "    return df"
   ]
  },
  {
   "cell_type": "code",
   "execution_count": 87,
   "metadata": {
    "collapsed": true,
    "scrolled": true
   },
   "outputs": [],
   "source": [
    "train = set_output_featureset(train)"
   ]
  },
  {
   "cell_type": "code",
   "execution_count": 88,
   "metadata": {},
   "outputs": [
    {
     "data": {
      "text/html": [
       "<div>\n",
       "<style>\n",
       "    .dataframe thead tr:only-child th {\n",
       "        text-align: right;\n",
       "    }\n",
       "\n",
       "    .dataframe thead th {\n",
       "        text-align: left;\n",
       "    }\n",
       "\n",
       "    .dataframe tbody tr th {\n",
       "        vertical-align: top;\n",
       "    }\n",
       "</style>\n",
       "<table border=\"1\" class=\"dataframe\">\n",
       "  <thead>\n",
       "    <tr style=\"text-align: right;\">\n",
       "      <th></th>\n",
       "      <th>pollution</th>\n",
       "      <th>dew</th>\n",
       "      <th>temp</th>\n",
       "      <th>press</th>\n",
       "      <th>wnd_spd</th>\n",
       "      <th>snow</th>\n",
       "      <th>rain</th>\n",
       "      <th>single_input_vector</th>\n",
       "      <th>single_output_vector</th>\n",
       "      <th>past_sequences</th>\n",
       "      <th>future_sequences</th>\n",
       "      <th>output_vector</th>\n",
       "    </tr>\n",
       "  </thead>\n",
       "  <tbody>\n",
       "    <tr>\n",
       "      <th>0</th>\n",
       "      <td>129.0</td>\n",
       "      <td>-16</td>\n",
       "      <td>-4.0</td>\n",
       "      <td>1020.0</td>\n",
       "      <td>1.79</td>\n",
       "      <td>0</td>\n",
       "      <td>0</td>\n",
       "      <td>[[129.0, -16.0, -4.0, 1020.0, 1.79, 0.0, 0.0]]</td>\n",
       "      <td>[[129.0]]</td>\n",
       "      <td>[[0.0, 0.0, 0.0, 0.0, 0.0, 0.0, 0.0], [0.0, 0....</td>\n",
       "      <td>[[129.0], [148.0], [159.0]]</td>\n",
       "      <td>[[129.0], [148.0], [159.0]]</td>\n",
       "    </tr>\n",
       "    <tr>\n",
       "      <th>1</th>\n",
       "      <td>148.0</td>\n",
       "      <td>-15</td>\n",
       "      <td>-4.0</td>\n",
       "      <td>1020.0</td>\n",
       "      <td>2.68</td>\n",
       "      <td>0</td>\n",
       "      <td>0</td>\n",
       "      <td>[[148.0, -15.0, -4.0, 1020.0, 2.68, 0.0, 0.0]]</td>\n",
       "      <td>[[148.0]]</td>\n",
       "      <td>[[0.0, 0.0, 0.0, 0.0, 0.0, 0.0, 0.0], [0.0, 0....</td>\n",
       "      <td>[[148.0], [159.0], [181.0]]</td>\n",
       "      <td>[[148.0], [159.0], [181.0]]</td>\n",
       "    </tr>\n",
       "    <tr>\n",
       "      <th>2</th>\n",
       "      <td>159.0</td>\n",
       "      <td>-11</td>\n",
       "      <td>-5.0</td>\n",
       "      <td>1021.0</td>\n",
       "      <td>3.57</td>\n",
       "      <td>0</td>\n",
       "      <td>0</td>\n",
       "      <td>[[159.0, -11.0, -5.0, 1021.0, 3.57, 0.0, 0.0]]</td>\n",
       "      <td>[[159.0]]</td>\n",
       "      <td>[[0.0, 0.0, 0.0, 0.0, 0.0, 0.0, 0.0], [129.0, ...</td>\n",
       "      <td>[[159.0], [181.0], [138.0]]</td>\n",
       "      <td>[[159.0], [181.0], [138.0]]</td>\n",
       "    </tr>\n",
       "    <tr>\n",
       "      <th>3</th>\n",
       "      <td>181.0</td>\n",
       "      <td>-7</td>\n",
       "      <td>-5.0</td>\n",
       "      <td>1022.0</td>\n",
       "      <td>5.36</td>\n",
       "      <td>1</td>\n",
       "      <td>0</td>\n",
       "      <td>[[181.0, -7.0, -5.0, 1022.0, 5.36, 1.0, 0.0]]</td>\n",
       "      <td>[[181.0]]</td>\n",
       "      <td>[[129.0, -16.0, -4.0, 1020.0, 1.79, 0.0, 0.0],...</td>\n",
       "      <td>[[181.0], [138.0], [109.0]]</td>\n",
       "      <td>[[181.0], [138.0], [109.0]]</td>\n",
       "    </tr>\n",
       "    <tr>\n",
       "      <th>4</th>\n",
       "      <td>138.0</td>\n",
       "      <td>-7</td>\n",
       "      <td>-5.0</td>\n",
       "      <td>1022.0</td>\n",
       "      <td>6.25</td>\n",
       "      <td>2</td>\n",
       "      <td>0</td>\n",
       "      <td>[[138.0, -7.0, -5.0, 1022.0, 6.25, 2.0, 0.0]]</td>\n",
       "      <td>[[138.0]]</td>\n",
       "      <td>[[148.0, -15.0, -4.0, 1020.0, 2.68, 0.0, 0.0],...</td>\n",
       "      <td>[[138.0], [109.0], [105.0]]</td>\n",
       "      <td>[[138.0], [109.0], [105.0]]</td>\n",
       "    </tr>\n",
       "  </tbody>\n",
       "</table>\n",
       "</div>"
      ],
      "text/plain": [
       "   pollution  dew  temp   press  wnd_spd  snow  rain  \\\n",
       "0      129.0  -16  -4.0  1020.0     1.79     0     0   \n",
       "1      148.0  -15  -4.0  1020.0     2.68     0     0   \n",
       "2      159.0  -11  -5.0  1021.0     3.57     0     0   \n",
       "3      181.0   -7  -5.0  1022.0     5.36     1     0   \n",
       "4      138.0   -7  -5.0  1022.0     6.25     2     0   \n",
       "\n",
       "                              single_input_vector single_output_vector  \\\n",
       "0  [[129.0, -16.0, -4.0, 1020.0, 1.79, 0.0, 0.0]]            [[129.0]]   \n",
       "1  [[148.0, -15.0, -4.0, 1020.0, 2.68, 0.0, 0.0]]            [[148.0]]   \n",
       "2  [[159.0, -11.0, -5.0, 1021.0, 3.57, 0.0, 0.0]]            [[159.0]]   \n",
       "3   [[181.0, -7.0, -5.0, 1022.0, 5.36, 1.0, 0.0]]            [[181.0]]   \n",
       "4   [[138.0, -7.0, -5.0, 1022.0, 6.25, 2.0, 0.0]]            [[138.0]]   \n",
       "\n",
       "                                      past_sequences  \\\n",
       "0  [[0.0, 0.0, 0.0, 0.0, 0.0, 0.0, 0.0], [0.0, 0....   \n",
       "1  [[0.0, 0.0, 0.0, 0.0, 0.0, 0.0, 0.0], [0.0, 0....   \n",
       "2  [[0.0, 0.0, 0.0, 0.0, 0.0, 0.0, 0.0], [129.0, ...   \n",
       "3  [[129.0, -16.0, -4.0, 1020.0, 1.79, 0.0, 0.0],...   \n",
       "4  [[148.0, -15.0, -4.0, 1020.0, 2.68, 0.0, 0.0],...   \n",
       "\n",
       "              future_sequences                output_vector  \n",
       "0  [[129.0], [148.0], [159.0]]  [[129.0], [148.0], [159.0]]  \n",
       "1  [[148.0], [159.0], [181.0]]  [[148.0], [159.0], [181.0]]  \n",
       "2  [[159.0], [181.0], [138.0]]  [[159.0], [181.0], [138.0]]  \n",
       "3  [[181.0], [138.0], [109.0]]  [[181.0], [138.0], [109.0]]  \n",
       "4  [[138.0], [109.0], [105.0]]  [[138.0], [109.0], [105.0]]  "
      ]
     },
     "execution_count": 88,
     "metadata": {},
     "output_type": "execute_result"
    }
   ],
   "source": [
    "train.head()"
   ]
  },
  {
   "cell_type": "code",
   "execution_count": 90,
   "metadata": {
    "collapsed": true
   },
   "outputs": [],
   "source": [
    "# Extract your training data\n",
    "X_train_init = np.asarray(train.past_sequences)\n",
    "stride_length = 3\n",
    "# Training data for LSTM should be in the form of a 3D tuple:\n",
    "#   (# of samples, timesteps, input_dim)\n",
    "# Note that the input data that comes out of the dataframe \n",
    "# will not make a 3D array. It makes an array of arrays, \n",
    "# which is not the same thing.\n",
    "# So far X_train_init is an array of arrays.\n",
    "\n",
    "# Convert to 3D vector usng hstack and reshape\n",
    "# horizontal stack = hstack, essentially removes the outer array \n",
    "#  encapsulation.\n",
    "\n",
    "# reshape into (# of records, total_timesteps, input_dim)\n",
    "# The reshape essentially reshaped the inner list into an 11 by 6 matrix,\n",
    "#  or a max_sequence_length (rows) by input_dim (col) matrix\n",
    "X_train = np.hstack(X_train_init).reshape(len(train), \n",
    "                                          stride_length,\n",
    "                                         len(df_features.columns) + len(df_label.columns))\n",
    "y_train_init = np.asarray(train.output_vector)\n",
    "y_train = np.hstack(y_train_init).reshape(len(train), \n",
    "                                          stride_length,\n",
    "                                          len(output_vec.columns))"
   ]
  },
  {
   "cell_type": "code",
   "execution_count": null,
   "metadata": {
    "collapsed": true
   },
   "outputs": [],
   "source": []
  },
  {
   "cell_type": "code",
   "execution_count": 91,
   "metadata": {},
   "outputs": [
    {
     "data": {
      "text/plain": [
       "(3, 306600)"
      ]
     },
     "execution_count": 91,
     "metadata": {},
     "output_type": "execute_result"
    }
   ],
   "source": [
    "np.hstack(X_train_init).shape"
   ]
  },
  {
   "cell_type": "code",
   "execution_count": 92,
   "metadata": {
    "collapsed": true
   },
   "outputs": [],
   "source": [
    "#np.hstack(y_train_init)"
   ]
  },
  {
   "cell_type": "code",
   "execution_count": 93,
   "metadata": {},
   "outputs": [
    {
     "data": {
      "text/plain": [
       "(43800, 9)"
      ]
     },
     "execution_count": 93,
     "metadata": {},
     "output_type": "execute_result"
    }
   ],
   "source": [
    "len(train), len(df.columns)"
   ]
  },
  {
   "cell_type": "code",
   "execution_count": 94,
   "metadata": {
    "collapsed": true
   },
   "outputs": [],
   "source": [
    "# Debugging\n",
    "#train[train.output_vector.apply(lambda x: True if len(x) != 3 else False)]"
   ]
  },
  {
   "cell_type": "code",
   "execution_count": 95,
   "metadata": {},
   "outputs": [
    {
     "name": "stdout",
     "output_type": "stream",
     "text": [
      "(43800, 3, 7)\n",
      "(43800, 3, 1)\n"
     ]
    }
   ],
   "source": [
    "print(X_train.shape)\n",
    "print(y_train.shape)"
   ]
  },
  {
   "cell_type": "code",
   "execution_count": null,
   "metadata": {
    "collapsed": true
   },
   "outputs": [],
   "source": []
  },
  {
   "cell_type": "code",
   "execution_count": 96,
   "metadata": {
    "collapsed": true
   },
   "outputs": [],
   "source": [
    "# Get your input dimensions\n",
    "# Input length is the length for one input sequence \n",
    "#  (i.e. the number of rows for your sample, which is\n",
    "#     the max_sequence_length by construction)\n",
    "input_length = X_train.shape[1]\n",
    "# Input dim is the number of dimensions in one input vector \n",
    "#  (i.e. number of input columns)\n",
    "input_dim = X_train.shape[2]\n",
    "output_dim = len(y_train[0])"
   ]
  },
  {
   "cell_type": "code",
   "execution_count": 97,
   "metadata": {},
   "outputs": [
    {
     "data": {
      "text/plain": [
       "3"
      ]
     },
     "execution_count": 97,
     "metadata": {},
     "output_type": "execute_result"
    }
   ],
   "source": [
    "input_length"
   ]
  },
  {
   "cell_type": "code",
   "execution_count": 101,
   "metadata": {},
   "outputs": [
    {
     "ename": "ImportError",
     "evalue": "cannot import name 'CuDNNLSTM'",
     "output_type": "error",
     "traceback": [
      "\u001b[0;31m---------------------------------------------------------------------------\u001b[0m",
      "\u001b[0;31mImportError\u001b[0m                               Traceback (most recent call last)",
      "\u001b[0;32m<ipython-input-101-4a1051a3d903>\u001b[0m in \u001b[0;36m<module>\u001b[0;34m()\u001b[0m\n\u001b[0;32m----> 1\u001b[0;31m \u001b[0;32mfrom\u001b[0m \u001b[0mkeras\u001b[0m\u001b[0;34m.\u001b[0m\u001b[0mlayers\u001b[0m \u001b[0;32mimport\u001b[0m \u001b[0mCuDNNLSTM\u001b[0m\u001b[0;34m\u001b[0m\u001b[0m\n\u001b[0m\u001b[1;32m      2\u001b[0m \u001b[0;31m# Room to build a GPU-powered network using CuDNNLSTM\u001b[0m\u001b[0;34m\u001b[0m\u001b[0;34m\u001b[0m\u001b[0m\n\u001b[1;32m      3\u001b[0m \u001b[0mmodel_GPU\u001b[0m \u001b[0;34m=\u001b[0m \u001b[0mSequential\u001b[0m\u001b[0;34m(\u001b[0m\u001b[0;34m)\u001b[0m\u001b[0;34m\u001b[0m\u001b[0m\n\u001b[1;32m      4\u001b[0m \u001b[0mmodel_GPU\u001b[0m\u001b[0;34m.\u001b[0m\u001b[0madd\u001b[0m\u001b[0;34m(\u001b[0m\u001b[0mCuDNNLSTM\u001b[0m\u001b[0;34m(\u001b[0m\u001b[0;36m100\u001b[0m\u001b[0;34m,\u001b[0m \u001b[0minput_shape\u001b[0m\u001b[0;34m=\u001b[0m\u001b[0;34m(\u001b[0m\u001b[0minput_length\u001b[0m\u001b[0;34m,\u001b[0m \u001b[0minput_dim\u001b[0m\u001b[0;34m)\u001b[0m\u001b[0;34m,\u001b[0m \u001b[0mreturn_sequences\u001b[0m\u001b[0;34m=\u001b[0m\u001b[0;32mTrue\u001b[0m\u001b[0;34m)\u001b[0m\u001b[0;34m)\u001b[0m\u001b[0;34m\u001b[0m\u001b[0m\n\u001b[1;32m      5\u001b[0m \u001b[0mmodel_GPU\u001b[0m\u001b[0;34m.\u001b[0m\u001b[0madd\u001b[0m\u001b[0;34m(\u001b[0m\u001b[0mDropout\u001b[0m\u001b[0;34m(\u001b[0m\u001b[0;36m.20\u001b[0m\u001b[0;34m)\u001b[0m\u001b[0;34m)\u001b[0m\u001b[0;34m\u001b[0m\u001b[0m\n",
      "\u001b[0;31mImportError\u001b[0m: cannot import name 'CuDNNLSTM'"
     ]
    }
   ],
   "source": [
    "from keras.layers import CuDNNLSTM\n",
    "# Room to build a GPU-powered network using CuDNNLSTM\n",
    "model_GPU = Sequential()\n",
    "model_GPU.add(CuDNNLSTM(100, input_shape=(input_length, input_dim), return_sequences=True))\n",
    "model_GPU.add(Dropout(.20))\n",
    "model_GPU.add(CuDNNLSTM(50, input_shape=(input_length, input_dim), return_sequences=True))\n",
    "model_GPU.add(Dropout(.20))\n",
    "model_GPU.add(TimeDistributed(Dense(1, activation='softmax')))\n",
    "\n"
   ]
  },
  {
   "cell_type": "code",
   "execution_count": 141,
   "metadata": {
    "collapsed": true
   },
   "outputs": [],
   "source": [
    "model_GPU.compile(loss='mse',\n",
    "             optimizer='adam',\n",
    "             metrics=['accuracy'])"
   ]
  },
  {
   "cell_type": "code",
   "execution_count": 143,
   "metadata": {},
   "outputs": [
    {
     "name": "stdout",
     "output_type": "stream",
     "text": [
      "Epoch 1/10\n",
      "35040/35040 [==============================] - 2s 66us/step - loss: 2.0061 - acc: 0.0000e+00\n",
      "Epoch 2/10\n",
      "35040/35040 [==============================] - 2s 66us/step - loss: 2.0061 - acc: 0.0000e+00\n",
      "Epoch 3/10\n",
      "35040/35040 [==============================] - 2s 66us/step - loss: 2.0061 - acc: 0.0000e+00\n",
      "Epoch 4/10\n",
      "35040/35040 [==============================] - 2s 66us/step - loss: 2.0061 - acc: 0.0000e+00\n",
      "Epoch 5/10\n",
      "35040/35040 [==============================] - 2s 66us/step - loss: 2.0061 - acc: 0.0000e+00\n",
      "Epoch 6/10\n",
      "35040/35040 [==============================] - 2s 67us/step - loss: 2.0061 - acc: 0.0000e+00\n",
      "Epoch 7/10\n",
      "35040/35040 [==============================] - 2s 67us/step - loss: 2.0061 - acc: 0.0000e+00\n",
      "Epoch 8/10\n",
      "35040/35040 [==============================] - 2s 66us/step - loss: 2.0061 - acc: 0.0000e+00\n",
      "Epoch 9/10\n",
      "35040/35040 [==============================] - 2s 66us/step - loss: 2.0061 - acc: 0.0000e+00\n",
      "Epoch 10/10\n",
      "35040/35040 [==============================] - 2s 67us/step - loss: 2.0061 - acc: 0.0000e+00\n"
     ]
    }
   ],
   "source": [
    "# Set batch_size to 30 to show that it doesn't have to be a factor \n",
    "# or multiple of your sample size\n",
    "history = model_GPU.fit(X_train, y_train,\n",
    "                   batch_size = 24*5, epochs=10,\n",
    "                   verbose = 1)"
   ]
  },
  {
   "cell_type": "code",
   "execution_count": null,
   "metadata": {
    "collapsed": true
   },
   "outputs": [],
   "source": [
    "# Reduced from 2 hours per epoch in a CPU to 2 minutes per epoch in the GPU"
   ]
  },
  {
   "cell_type": "code",
   "execution_count": 87,
   "metadata": {
    "collapsed": true
   },
   "outputs": [],
   "source": [
    "from keras.models import Model, Sequential\n",
    "from keras.layers import LSTM, Dense, TimeDistributed, Dropout\n",
    "\n",
    "# Initialize the model\n",
    "model_simple = Sequential()\n",
    "# 100 is the units, which is the size of the hidden vector at any given state\n",
    "# input_length is the stride_length, which is equivalent to the number of cells\n",
    "model_simple.add(LSTM(100, input_shape=(input_length, input_dim), return_sequences=True))\n",
    "#model_simple.add(LSTM(50, input_shape=(input_length, input_dim), return_sequences=True))\n",
    "model_simple.add(TimeDistributed(Dense(1, activation='linear')))\n",
    "\n",
    "\n",
    "# Below is a very large, 6-layer network (Takes a lot of time to run)\n",
    "model = Sequential()\n",
    "# arbitrarily picked the output dim to be 100\n",
    "model.add(LSTM(2048, input_shape=(input_length, input_dim), return_sequences=True))\n",
    "# The max output value is > 1 so used relu as final activation\n",
    "# 2048 is the output dimension in the layer\n",
    "# Input to this layer will have a shape (None, 3, 50) where 3 = stride_length, None = batch_size,\n",
    "#   and 2048 = output layer size\n",
    "# Add dropout probability\n",
    "model.add(Dropout(0.2))\n",
    "# Another LSTM layer\n",
    "model.add(LSTM(1024, return_sequences=True))\n",
    "model.add(Dropout(0.2))\n",
    "model.add(LSTM(512, return_sequences=True))\n",
    "model.add(Dropout(0.2))\n",
    "model.add(LSTM(512, return_sequences=True))\n",
    "model.add(Dropout(0.2))\n",
    "# Output dimension of 7, since I have a feature length of 7 (pollution + weather stuff)\n",
    "#model.add(Dense(7, activation='softmax'))\n",
    "# Output dimension of 1, since I have a feature length of 1 (pollution is only output feature)\n",
    "model.add(TimeDistributed(Dense(1, activation='linear')))\n",
    "#model.add(Dense(output_dim, activation='relu'))\n",
    "\n",
    "# model.compile(loss='mean_squared_error',\n",
    "#              optimizer='rmsprop',\n",
    "#              metrics=['accuracy'])"
   ]
  },
  {
   "cell_type": "code",
   "execution_count": 88,
   "metadata": {
    "collapsed": true
   },
   "outputs": [],
   "source": [
    "model_simple.compile(loss='mse',\n",
    "             optimizer='adam',\n",
    "             metrics=['accuracy'])"
   ]
  },
  {
   "cell_type": "code",
   "execution_count": 89,
   "metadata": {
    "scrolled": false
   },
   "outputs": [
    {
     "name": "stdout",
     "output_type": "stream",
     "text": [
      "Epoch 1/5\n",
      "35040/35040 [==============================] - 17s 488us/step - loss: 13368.9472 - acc: 0.0070\n",
      "Epoch 2/5\n",
      "35040/35040 [==============================] - 14s 405us/step - loss: 9420.4976 - acc: 0.0052\n",
      "Epoch 3/5\n",
      "35040/35040 [==============================] - 14s 405us/step - loss: 8671.4822 - acc: 0.0042\n",
      "Epoch 4/5\n",
      "35040/35040 [==============================] - 14s 405us/step - loss: 8628.8452 - acc: 0.0039\n",
      "Epoch 5/5\n",
      "35040/35040 [==============================] - 14s 406us/step - loss: 8627.3278 - acc: 0.0041\n"
     ]
    }
   ],
   "source": [
    "# Set batch_size to 30 to show that it doesn't have to be a factor \n",
    "# or multiple of your sample size\n",
    "history = model_simple.fit(X_train, y_train,\n",
    "                   batch_size = 20, epochs=5,\n",
    "                   verbose = 1)"
   ]
  },
  {
   "cell_type": "code",
   "execution_count": null,
   "metadata": {
    "collapsed": true
   },
   "outputs": [],
   "source": [
    "# Took 1.5min on CPU --> On GPU it took 40 seconds"
   ]
  },
  {
   "cell_type": "code",
   "execution_count": 43,
   "metadata": {
    "scrolled": true
   },
   "outputs": [
    {
     "data": {
      "text/plain": [
       "array([[[   9.75070953],\n",
       "        [  36.31097412],\n",
       "        [ 104.66318512]],\n",
       "\n",
       "       [[  82.32813263],\n",
       "        [  97.49900055],\n",
       "        [  99.82424927]],\n",
       "\n",
       "       [[  82.32813263],\n",
       "        [  97.49900055],\n",
       "        [  99.82424927]],\n",
       "\n",
       "       ..., \n",
       "       [[  82.32813263],\n",
       "        [  97.49900055],\n",
       "        [  99.82424927]],\n",
       "\n",
       "       [[  82.32813263],\n",
       "        [  97.49900055],\n",
       "        [  99.82424927]],\n",
       "\n",
       "       [[  82.32813263],\n",
       "        [  97.49900055],\n",
       "        [  99.82424927]]], dtype=float32)"
      ]
     },
     "execution_count": 43,
     "metadata": {},
     "output_type": "execute_result"
    }
   ],
   "source": [
    "model.predict(X_train)"
   ]
  },
  {
   "cell_type": "code",
   "execution_count": 44,
   "metadata": {},
   "outputs": [
    {
     "data": {
      "text/plain": [
       "array([[[  11.],\n",
       "        [  27.],\n",
       "        [  85.]],\n",
       "\n",
       "       [[  15.],\n",
       "        [  28.],\n",
       "        [  21.]],\n",
       "\n",
       "       [[ 143.],\n",
       "        [  79.],\n",
       "        [ 230.]],\n",
       "\n",
       "       ..., \n",
       "       [[  53.],\n",
       "        [ 259.],\n",
       "        [  93.]],\n",
       "\n",
       "       [[  85.],\n",
       "        [ 118.],\n",
       "        [  11.]],\n",
       "\n",
       "       [[ 126.],\n",
       "        [ 126.],\n",
       "        [ 126.]]])"
      ]
     },
     "execution_count": 44,
     "metadata": {},
     "output_type": "execute_result"
    }
   ],
   "source": [
    "y_train"
   ]
  },
  {
   "cell_type": "code",
   "execution_count": null,
   "metadata": {
    "collapsed": true
   },
   "outputs": [],
   "source": []
  }
 ],
 "metadata": {
  "anaconda-cloud": {},
  "kernelspec": {
   "display_name": "Python [conda env:deep-air]",
   "language": "python",
   "name": "conda-env-deep-air-py"
  },
  "language_info": {
   "codemirror_mode": {
    "name": "ipython",
    "version": 3
   },
   "file_extension": ".py",
   "mimetype": "text/x-python",
   "name": "python",
   "nbconvert_exporter": "python",
   "pygments_lexer": "ipython3",
   "version": "3.6.2"
  }
 },
 "nbformat": 4,
 "nbformat_minor": 2
}
