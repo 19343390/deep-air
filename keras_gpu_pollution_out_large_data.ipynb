{
 "cells": [
  {
   "cell_type": "markdown",
   "metadata": {},
   "source": [
    "Imports"
   ]
  },
  {
   "cell_type": "code",
   "execution_count": 1,
   "metadata": {},
   "outputs": [
    {
     "name": "stderr",
     "output_type": "stream",
     "text": [
      "Using TensorFlow backend.\n",
      "/home/ubuntu/anaconda3/envs/deep-air/lib/python3.6/importlib/_bootstrap.py:205: RuntimeWarning: compiletime version 3.5 of module 'tensorflow.python.framework.fast_tensor_util' does not match runtime version 3.6\n",
      "  return f(*args, **kwds)\n"
     ]
    }
   ],
   "source": [
    "from math import sqrt\n",
    "from numpy import concatenate\n",
    "from matplotlib import pyplot as plt\n",
    "%matplotlib inline\n",
    "from sklearn.preprocessing import MinMaxScaler\n",
    "from sklearn.preprocessing import LabelEncoder\n",
    "from sklearn.metrics import mean_squared_error\n",
    "from keras.models import Sequential\n",
    "from keras.layers import Dense\n",
    "from keras.layers import LSTM\n",
    "import numpy as np\n",
    "import pandas as pd\n",
    "import time"
   ]
  },
  {
   "cell_type": "code",
   "execution_count": 2,
   "metadata": {
    "collapsed": true
   },
   "outputs": [],
   "source": [
    "from sklearn.model_selection import train_test_split\n",
    "from keras.preprocessing.sequence import pad_sequences"
   ]
  },
  {
   "cell_type": "markdown",
   "metadata": {},
   "source": [
    "## Baseline LSTM + room to change network architecture"
   ]
  },
  {
   "cell_type": "code",
   "execution_count": 179,
   "metadata": {
    "collapsed": true
   },
   "outputs": [],
   "source": [
    "def handle_wind_dir(data):\n",
    "    '''\n",
    "    Different ways to handle the string format:\n",
    "     1. Drop it\n",
    "     2. LabelEncode it\n",
    "     3. One-hot encode it\n",
    "     \n",
    "    The reason I need to handle it is because Keras' pad_sequences function takes int() of\n",
    "    all the columns.\n",
    "    '''\n",
    "    # I'll drop it first\n",
    "    data = data.drop('wnd_dir', axis=1, inplace=False)\n",
    "    return data"
   ]
  },
  {
   "cell_type": "code",
   "execution_count": 180,
   "metadata": {
    "collapsed": true
   },
   "outputs": [],
   "source": [
    "import warnings; warnings.filterwarnings('ignore')"
   ]
  },
  {
   "cell_type": "code",
   "execution_count": 204,
   "metadata": {
    "collapsed": true
   },
   "outputs": [],
   "source": [
    "df = pd.read_csv('pollution.csv', header=0, index_col=0)"
   ]
  },
  {
   "cell_type": "code",
   "execution_count": 205,
   "metadata": {
    "collapsed": true
   },
   "outputs": [],
   "source": [
    "# Optionally drop wind dir\n",
    "df = handle_wind_dir(df)"
   ]
  },
  {
   "cell_type": "code",
   "execution_count": 207,
   "metadata": {},
   "outputs": [
    {
     "data": {
      "text/html": [
       "<div>\n",
       "<style>\n",
       "    .dataframe thead tr:only-child th {\n",
       "        text-align: right;\n",
       "    }\n",
       "\n",
       "    .dataframe thead th {\n",
       "        text-align: left;\n",
       "    }\n",
       "\n",
       "    .dataframe tbody tr th {\n",
       "        vertical-align: top;\n",
       "    }\n",
       "</style>\n",
       "<table border=\"1\" class=\"dataframe\">\n",
       "  <thead>\n",
       "    <tr style=\"text-align: right;\">\n",
       "      <th></th>\n",
       "      <th>pollution</th>\n",
       "      <th>dew</th>\n",
       "      <th>temp</th>\n",
       "      <th>press</th>\n",
       "      <th>wnd_spd</th>\n",
       "      <th>snow</th>\n",
       "      <th>rain</th>\n",
       "    </tr>\n",
       "  </thead>\n",
       "  <tbody>\n",
       "    <tr>\n",
       "      <th>24</th>\n",
       "      <td>129.0</td>\n",
       "      <td>-16</td>\n",
       "      <td>-4.0</td>\n",
       "      <td>1020.0</td>\n",
       "      <td>1.79</td>\n",
       "      <td>0</td>\n",
       "      <td>0</td>\n",
       "    </tr>\n",
       "    <tr>\n",
       "      <th>25</th>\n",
       "      <td>148.0</td>\n",
       "      <td>-15</td>\n",
       "      <td>-4.0</td>\n",
       "      <td>1020.0</td>\n",
       "      <td>2.68</td>\n",
       "      <td>0</td>\n",
       "      <td>0</td>\n",
       "    </tr>\n",
       "    <tr>\n",
       "      <th>26</th>\n",
       "      <td>159.0</td>\n",
       "      <td>-11</td>\n",
       "      <td>-5.0</td>\n",
       "      <td>1021.0</td>\n",
       "      <td>3.57</td>\n",
       "      <td>0</td>\n",
       "      <td>0</td>\n",
       "    </tr>\n",
       "    <tr>\n",
       "      <th>27</th>\n",
       "      <td>181.0</td>\n",
       "      <td>-7</td>\n",
       "      <td>-5.0</td>\n",
       "      <td>1022.0</td>\n",
       "      <td>5.36</td>\n",
       "      <td>1</td>\n",
       "      <td>0</td>\n",
       "    </tr>\n",
       "    <tr>\n",
       "      <th>28</th>\n",
       "      <td>138.0</td>\n",
       "      <td>-7</td>\n",
       "      <td>-5.0</td>\n",
       "      <td>1022.0</td>\n",
       "      <td>6.25</td>\n",
       "      <td>2</td>\n",
       "      <td>0</td>\n",
       "    </tr>\n",
       "  </tbody>\n",
       "</table>\n",
       "</div>"
      ],
      "text/plain": [
       "    pollution  dew  temp   press  wnd_spd  snow  rain\n",
       "24      129.0  -16  -4.0  1020.0     1.79     0     0\n",
       "25      148.0  -15  -4.0  1020.0     2.68     0     0\n",
       "26      159.0  -11  -5.0  1021.0     3.57     0     0\n",
       "27      181.0   -7  -5.0  1022.0     5.36     1     0\n",
       "28      138.0   -7  -5.0  1022.0     6.25     2     0"
      ]
     },
     "execution_count": 207,
     "metadata": {},
     "output_type": "execute_result"
    }
   ],
   "source": [
    "df.head()"
   ]
  },
  {
   "cell_type": "code",
   "execution_count": 208,
   "metadata": {},
   "outputs": [],
   "source": [
    "df_features = df.iloc[:, 1:]"
   ]
  },
  {
   "cell_type": "code",
   "execution_count": 209,
   "metadata": {
    "collapsed": true
   },
   "outputs": [],
   "source": [
    "df_label = pd.DataFrame(df.iloc[:,0], columns=['pollution'])"
   ]
  },
  {
   "cell_type": "code",
   "execution_count": 210,
   "metadata": {
    "collapsed": true
   },
   "outputs": [],
   "source": [
    "def standardize(df):\n",
    "    return ((df.values - np.mean(df.values, axis = 0)) / np.std(df.values, axis = 0))"
   ]
  },
  {
   "cell_type": "code",
   "execution_count": 211,
   "metadata": {},
   "outputs": [],
   "source": [
    "stand = pd.DataFrame(standardize(df_features), columns=df_features.columns)"
   ]
  },
  {
   "cell_type": "code",
   "execution_count": 212,
   "metadata": {
    "collapsed": true
   },
   "outputs": [],
   "source": [
    "train_features, train_label, test_features, test_label = train_test_split(stand, df_label,\n",
    "                                                                          test_size=.998, \n",
    "                                                                          random_state=789)"
   ]
  },
  {
   "cell_type": "code",
   "execution_count": 215,
   "metadata": {},
   "outputs": [
    {
     "data": {
      "text/plain": [
       "87"
      ]
     },
     "execution_count": 215,
     "metadata": {},
     "output_type": "execute_result"
    }
   ],
   "source": [
    "len(train_features)"
   ]
  },
  {
   "cell_type": "code",
   "execution_count": 217,
   "metadata": {},
   "outputs": [
    {
     "data": {
      "text/plain": [
       "43713"
      ]
     },
     "execution_count": 217,
     "metadata": {},
     "output_type": "execute_result"
    }
   ],
   "source": [
    "len(train_label)"
   ]
  },
  {
   "cell_type": "code",
   "execution_count": 190,
   "metadata": {
    "collapsed": true
   },
   "outputs": [],
   "source": [
    "def prepare_sequences(df_features, df_label):\n",
    "    ''' \n",
    "    Let df = train and prepare sequences.\n",
    "    '''\n",
    "    input_cols = list(df.columns)\n",
    "    df['single_input_vector'] = df[input_cols].apply(tuple, axis=1).apply(list)\\\n",
    "        .apply(lambda x: [list(x)])\n",
    "    df['single_output_vector'] = df['pollution'].apply(lambda x: [[x]])\n",
    "    return df.reset_index(drop=True)"
   ]
  },
  {
   "cell_type": "code",
   "execution_count": 218,
   "metadata": {},
   "outputs": [
    {
     "ename": "KeyError",
     "evalue": "'pollution'",
     "output_type": "error",
     "traceback": [
      "\u001b[0;31m---------------------------------------------------------------------------\u001b[0m",
      "\u001b[0;31mKeyError\u001b[0m                                  Traceback (most recent call last)",
      "\u001b[0;32m~/anaconda3/envs/deep-air/lib/python3.6/site-packages/pandas/core/indexes/base.py\u001b[0m in \u001b[0;36mget_loc\u001b[0;34m(self, key, method, tolerance)\u001b[0m\n\u001b[1;32m   2441\u001b[0m             \u001b[0;32mtry\u001b[0m\u001b[0;34m:\u001b[0m\u001b[0;34m\u001b[0m\u001b[0m\n\u001b[0;32m-> 2442\u001b[0;31m                 \u001b[0;32mreturn\u001b[0m \u001b[0mself\u001b[0m\u001b[0;34m.\u001b[0m\u001b[0m_engine\u001b[0m\u001b[0;34m.\u001b[0m\u001b[0mget_loc\u001b[0m\u001b[0;34m(\u001b[0m\u001b[0mkey\u001b[0m\u001b[0;34m)\u001b[0m\u001b[0;34m\u001b[0m\u001b[0m\n\u001b[0m\u001b[1;32m   2443\u001b[0m             \u001b[0;32mexcept\u001b[0m \u001b[0mKeyError\u001b[0m\u001b[0;34m:\u001b[0m\u001b[0;34m\u001b[0m\u001b[0m\n",
      "\u001b[0;32mpandas/_libs/index.pyx\u001b[0m in \u001b[0;36mpandas._libs.index.IndexEngine.get_loc (pandas/_libs/index.c:5280)\u001b[0;34m()\u001b[0m\n",
      "\u001b[0;32mpandas/_libs/index.pyx\u001b[0m in \u001b[0;36mpandas._libs.index.IndexEngine.get_loc (pandas/_libs/index.c:5126)\u001b[0;34m()\u001b[0m\n",
      "\u001b[0;32mpandas/_libs/hashtable_class_helper.pxi\u001b[0m in \u001b[0;36mpandas._libs.hashtable.PyObjectHashTable.get_item (pandas/_libs/hashtable.c:20523)\u001b[0;34m()\u001b[0m\n",
      "\u001b[0;32mpandas/_libs/hashtable_class_helper.pxi\u001b[0m in \u001b[0;36mpandas._libs.hashtable.PyObjectHashTable.get_item (pandas/_libs/hashtable.c:20477)\u001b[0;34m()\u001b[0m\n",
      "\u001b[0;31mKeyError\u001b[0m: 'pollution'",
      "\nDuring handling of the above exception, another exception occurred:\n",
      "\u001b[0;31mKeyError\u001b[0m                                  Traceback (most recent call last)",
      "\u001b[0;32m<ipython-input-218-dd2203278f20>\u001b[0m in \u001b[0;36m<module>\u001b[0;34m()\u001b[0m\n\u001b[0;32m----> 1\u001b[0;31m \u001b[0mtrain\u001b[0m \u001b[0;34m=\u001b[0m \u001b[0mprepare_sequences\u001b[0m\u001b[0;34m(\u001b[0m\u001b[0mtrain_features\u001b[0m\u001b[0;34m)\u001b[0m\u001b[0;34m\u001b[0m\u001b[0m\n\u001b[0m",
      "\u001b[0;32m<ipython-input-190-d315d00b79b3>\u001b[0m in \u001b[0;36mprepare_sequences\u001b[0;34m(df)\u001b[0m\n\u001b[1;32m      5\u001b[0m     \u001b[0minput_cols\u001b[0m \u001b[0;34m=\u001b[0m \u001b[0mlist\u001b[0m\u001b[0;34m(\u001b[0m\u001b[0mdf\u001b[0m\u001b[0;34m.\u001b[0m\u001b[0mcolumns\u001b[0m\u001b[0;34m)\u001b[0m\u001b[0;34m\u001b[0m\u001b[0m\n\u001b[1;32m      6\u001b[0m     \u001b[0mdf\u001b[0m\u001b[0;34m[\u001b[0m\u001b[0;34m'single_input_vector'\u001b[0m\u001b[0;34m]\u001b[0m \u001b[0;34m=\u001b[0m \u001b[0mdf\u001b[0m\u001b[0;34m[\u001b[0m\u001b[0minput_cols\u001b[0m\u001b[0;34m]\u001b[0m\u001b[0;34m.\u001b[0m\u001b[0mapply\u001b[0m\u001b[0;34m(\u001b[0m\u001b[0mtuple\u001b[0m\u001b[0;34m,\u001b[0m \u001b[0maxis\u001b[0m\u001b[0;34m=\u001b[0m\u001b[0;36m1\u001b[0m\u001b[0;34m)\u001b[0m\u001b[0;34m.\u001b[0m\u001b[0mapply\u001b[0m\u001b[0;34m(\u001b[0m\u001b[0mlist\u001b[0m\u001b[0;34m)\u001b[0m        \u001b[0;34m.\u001b[0m\u001b[0mapply\u001b[0m\u001b[0;34m(\u001b[0m\u001b[0;32mlambda\u001b[0m \u001b[0mx\u001b[0m\u001b[0;34m:\u001b[0m \u001b[0;34m[\u001b[0m\u001b[0mlist\u001b[0m\u001b[0;34m(\u001b[0m\u001b[0mx\u001b[0m\u001b[0;34m)\u001b[0m\u001b[0;34m]\u001b[0m\u001b[0;34m)\u001b[0m\u001b[0;34m\u001b[0m\u001b[0m\n\u001b[0;32m----> 7\u001b[0;31m     \u001b[0mdf\u001b[0m\u001b[0;34m[\u001b[0m\u001b[0;34m'single_output_vector'\u001b[0m\u001b[0;34m]\u001b[0m \u001b[0;34m=\u001b[0m \u001b[0mdf\u001b[0m\u001b[0;34m[\u001b[0m\u001b[0;34m'pollution'\u001b[0m\u001b[0;34m]\u001b[0m\u001b[0;34m.\u001b[0m\u001b[0mapply\u001b[0m\u001b[0;34m(\u001b[0m\u001b[0;32mlambda\u001b[0m \u001b[0mx\u001b[0m\u001b[0;34m:\u001b[0m \u001b[0;34m[\u001b[0m\u001b[0;34m[\u001b[0m\u001b[0mx\u001b[0m\u001b[0;34m]\u001b[0m\u001b[0;34m]\u001b[0m\u001b[0;34m)\u001b[0m\u001b[0;34m\u001b[0m\u001b[0m\n\u001b[0m\u001b[1;32m      8\u001b[0m     \u001b[0;32mreturn\u001b[0m \u001b[0mdf\u001b[0m\u001b[0;34m.\u001b[0m\u001b[0mreset_index\u001b[0m\u001b[0;34m(\u001b[0m\u001b[0mdrop\u001b[0m\u001b[0;34m=\u001b[0m\u001b[0;32mTrue\u001b[0m\u001b[0;34m)\u001b[0m\u001b[0;34m\u001b[0m\u001b[0m\n",
      "\u001b[0;32m~/anaconda3/envs/deep-air/lib/python3.6/site-packages/pandas/core/frame.py\u001b[0m in \u001b[0;36m__getitem__\u001b[0;34m(self, key)\u001b[0m\n\u001b[1;32m   1962\u001b[0m             \u001b[0;32mreturn\u001b[0m \u001b[0mself\u001b[0m\u001b[0;34m.\u001b[0m\u001b[0m_getitem_multilevel\u001b[0m\u001b[0;34m(\u001b[0m\u001b[0mkey\u001b[0m\u001b[0;34m)\u001b[0m\u001b[0;34m\u001b[0m\u001b[0m\n\u001b[1;32m   1963\u001b[0m         \u001b[0;32melse\u001b[0m\u001b[0;34m:\u001b[0m\u001b[0;34m\u001b[0m\u001b[0m\n\u001b[0;32m-> 1964\u001b[0;31m             \u001b[0;32mreturn\u001b[0m \u001b[0mself\u001b[0m\u001b[0;34m.\u001b[0m\u001b[0m_getitem_column\u001b[0m\u001b[0;34m(\u001b[0m\u001b[0mkey\u001b[0m\u001b[0;34m)\u001b[0m\u001b[0;34m\u001b[0m\u001b[0m\n\u001b[0m\u001b[1;32m   1965\u001b[0m \u001b[0;34m\u001b[0m\u001b[0m\n\u001b[1;32m   1966\u001b[0m     \u001b[0;32mdef\u001b[0m \u001b[0m_getitem_column\u001b[0m\u001b[0;34m(\u001b[0m\u001b[0mself\u001b[0m\u001b[0;34m,\u001b[0m \u001b[0mkey\u001b[0m\u001b[0;34m)\u001b[0m\u001b[0;34m:\u001b[0m\u001b[0;34m\u001b[0m\u001b[0m\n",
      "\u001b[0;32m~/anaconda3/envs/deep-air/lib/python3.6/site-packages/pandas/core/frame.py\u001b[0m in \u001b[0;36m_getitem_column\u001b[0;34m(self, key)\u001b[0m\n\u001b[1;32m   1969\u001b[0m         \u001b[0;31m# get column\u001b[0m\u001b[0;34m\u001b[0m\u001b[0;34m\u001b[0m\u001b[0m\n\u001b[1;32m   1970\u001b[0m         \u001b[0;32mif\u001b[0m \u001b[0mself\u001b[0m\u001b[0;34m.\u001b[0m\u001b[0mcolumns\u001b[0m\u001b[0;34m.\u001b[0m\u001b[0mis_unique\u001b[0m\u001b[0;34m:\u001b[0m\u001b[0;34m\u001b[0m\u001b[0m\n\u001b[0;32m-> 1971\u001b[0;31m             \u001b[0;32mreturn\u001b[0m \u001b[0mself\u001b[0m\u001b[0;34m.\u001b[0m\u001b[0m_get_item_cache\u001b[0m\u001b[0;34m(\u001b[0m\u001b[0mkey\u001b[0m\u001b[0;34m)\u001b[0m\u001b[0;34m\u001b[0m\u001b[0m\n\u001b[0m\u001b[1;32m   1972\u001b[0m \u001b[0;34m\u001b[0m\u001b[0m\n\u001b[1;32m   1973\u001b[0m         \u001b[0;31m# duplicate columns & possible reduce dimensionality\u001b[0m\u001b[0;34m\u001b[0m\u001b[0;34m\u001b[0m\u001b[0m\n",
      "\u001b[0;32m~/anaconda3/envs/deep-air/lib/python3.6/site-packages/pandas/core/generic.py\u001b[0m in \u001b[0;36m_get_item_cache\u001b[0;34m(self, item)\u001b[0m\n\u001b[1;32m   1643\u001b[0m         \u001b[0mres\u001b[0m \u001b[0;34m=\u001b[0m \u001b[0mcache\u001b[0m\u001b[0;34m.\u001b[0m\u001b[0mget\u001b[0m\u001b[0;34m(\u001b[0m\u001b[0mitem\u001b[0m\u001b[0;34m)\u001b[0m\u001b[0;34m\u001b[0m\u001b[0m\n\u001b[1;32m   1644\u001b[0m         \u001b[0;32mif\u001b[0m \u001b[0mres\u001b[0m \u001b[0;32mis\u001b[0m \u001b[0;32mNone\u001b[0m\u001b[0;34m:\u001b[0m\u001b[0;34m\u001b[0m\u001b[0m\n\u001b[0;32m-> 1645\u001b[0;31m             \u001b[0mvalues\u001b[0m \u001b[0;34m=\u001b[0m \u001b[0mself\u001b[0m\u001b[0;34m.\u001b[0m\u001b[0m_data\u001b[0m\u001b[0;34m.\u001b[0m\u001b[0mget\u001b[0m\u001b[0;34m(\u001b[0m\u001b[0mitem\u001b[0m\u001b[0;34m)\u001b[0m\u001b[0;34m\u001b[0m\u001b[0m\n\u001b[0m\u001b[1;32m   1646\u001b[0m             \u001b[0mres\u001b[0m \u001b[0;34m=\u001b[0m \u001b[0mself\u001b[0m\u001b[0;34m.\u001b[0m\u001b[0m_box_item_values\u001b[0m\u001b[0;34m(\u001b[0m\u001b[0mitem\u001b[0m\u001b[0;34m,\u001b[0m \u001b[0mvalues\u001b[0m\u001b[0;34m)\u001b[0m\u001b[0;34m\u001b[0m\u001b[0m\n\u001b[1;32m   1647\u001b[0m             \u001b[0mcache\u001b[0m\u001b[0;34m[\u001b[0m\u001b[0mitem\u001b[0m\u001b[0;34m]\u001b[0m \u001b[0;34m=\u001b[0m \u001b[0mres\u001b[0m\u001b[0;34m\u001b[0m\u001b[0m\n",
      "\u001b[0;32m~/anaconda3/envs/deep-air/lib/python3.6/site-packages/pandas/core/internals.py\u001b[0m in \u001b[0;36mget\u001b[0;34m(self, item, fastpath)\u001b[0m\n\u001b[1;32m   3588\u001b[0m \u001b[0;34m\u001b[0m\u001b[0m\n\u001b[1;32m   3589\u001b[0m             \u001b[0;32mif\u001b[0m \u001b[0;32mnot\u001b[0m \u001b[0misnull\u001b[0m\u001b[0;34m(\u001b[0m\u001b[0mitem\u001b[0m\u001b[0;34m)\u001b[0m\u001b[0;34m:\u001b[0m\u001b[0;34m\u001b[0m\u001b[0m\n\u001b[0;32m-> 3590\u001b[0;31m                 \u001b[0mloc\u001b[0m \u001b[0;34m=\u001b[0m \u001b[0mself\u001b[0m\u001b[0;34m.\u001b[0m\u001b[0mitems\u001b[0m\u001b[0;34m.\u001b[0m\u001b[0mget_loc\u001b[0m\u001b[0;34m(\u001b[0m\u001b[0mitem\u001b[0m\u001b[0;34m)\u001b[0m\u001b[0;34m\u001b[0m\u001b[0m\n\u001b[0m\u001b[1;32m   3591\u001b[0m             \u001b[0;32melse\u001b[0m\u001b[0;34m:\u001b[0m\u001b[0;34m\u001b[0m\u001b[0m\n\u001b[1;32m   3592\u001b[0m                 \u001b[0mindexer\u001b[0m \u001b[0;34m=\u001b[0m \u001b[0mnp\u001b[0m\u001b[0;34m.\u001b[0m\u001b[0marange\u001b[0m\u001b[0;34m(\u001b[0m\u001b[0mlen\u001b[0m\u001b[0;34m(\u001b[0m\u001b[0mself\u001b[0m\u001b[0;34m.\u001b[0m\u001b[0mitems\u001b[0m\u001b[0;34m)\u001b[0m\u001b[0;34m)\u001b[0m\u001b[0;34m[\u001b[0m\u001b[0misnull\u001b[0m\u001b[0;34m(\u001b[0m\u001b[0mself\u001b[0m\u001b[0;34m.\u001b[0m\u001b[0mitems\u001b[0m\u001b[0;34m)\u001b[0m\u001b[0;34m]\u001b[0m\u001b[0;34m\u001b[0m\u001b[0m\n",
      "\u001b[0;32m~/anaconda3/envs/deep-air/lib/python3.6/site-packages/pandas/core/indexes/base.py\u001b[0m in \u001b[0;36mget_loc\u001b[0;34m(self, key, method, tolerance)\u001b[0m\n\u001b[1;32m   2442\u001b[0m                 \u001b[0;32mreturn\u001b[0m \u001b[0mself\u001b[0m\u001b[0;34m.\u001b[0m\u001b[0m_engine\u001b[0m\u001b[0;34m.\u001b[0m\u001b[0mget_loc\u001b[0m\u001b[0;34m(\u001b[0m\u001b[0mkey\u001b[0m\u001b[0;34m)\u001b[0m\u001b[0;34m\u001b[0m\u001b[0m\n\u001b[1;32m   2443\u001b[0m             \u001b[0;32mexcept\u001b[0m \u001b[0mKeyError\u001b[0m\u001b[0;34m:\u001b[0m\u001b[0;34m\u001b[0m\u001b[0m\n\u001b[0;32m-> 2444\u001b[0;31m                 \u001b[0;32mreturn\u001b[0m \u001b[0mself\u001b[0m\u001b[0;34m.\u001b[0m\u001b[0m_engine\u001b[0m\u001b[0;34m.\u001b[0m\u001b[0mget_loc\u001b[0m\u001b[0;34m(\u001b[0m\u001b[0mself\u001b[0m\u001b[0;34m.\u001b[0m\u001b[0m_maybe_cast_indexer\u001b[0m\u001b[0;34m(\u001b[0m\u001b[0mkey\u001b[0m\u001b[0;34m)\u001b[0m\u001b[0;34m)\u001b[0m\u001b[0;34m\u001b[0m\u001b[0m\n\u001b[0m\u001b[1;32m   2445\u001b[0m \u001b[0;34m\u001b[0m\u001b[0m\n\u001b[1;32m   2446\u001b[0m         \u001b[0mindexer\u001b[0m \u001b[0;34m=\u001b[0m \u001b[0mself\u001b[0m\u001b[0;34m.\u001b[0m\u001b[0mget_indexer\u001b[0m\u001b[0;34m(\u001b[0m\u001b[0;34m[\u001b[0m\u001b[0mkey\u001b[0m\u001b[0;34m]\u001b[0m\u001b[0;34m,\u001b[0m \u001b[0mmethod\u001b[0m\u001b[0;34m=\u001b[0m\u001b[0mmethod\u001b[0m\u001b[0;34m,\u001b[0m \u001b[0mtolerance\u001b[0m\u001b[0;34m=\u001b[0m\u001b[0mtolerance\u001b[0m\u001b[0;34m)\u001b[0m\u001b[0;34m\u001b[0m\u001b[0m\n",
      "\u001b[0;32mpandas/_libs/index.pyx\u001b[0m in \u001b[0;36mpandas._libs.index.IndexEngine.get_loc (pandas/_libs/index.c:5280)\u001b[0;34m()\u001b[0m\n",
      "\u001b[0;32mpandas/_libs/index.pyx\u001b[0m in \u001b[0;36mpandas._libs.index.IndexEngine.get_loc (pandas/_libs/index.c:5126)\u001b[0;34m()\u001b[0m\n",
      "\u001b[0;32mpandas/_libs/hashtable_class_helper.pxi\u001b[0m in \u001b[0;36mpandas._libs.hashtable.PyObjectHashTable.get_item (pandas/_libs/hashtable.c:20523)\u001b[0;34m()\u001b[0m\n",
      "\u001b[0;32mpandas/_libs/hashtable_class_helper.pxi\u001b[0m in \u001b[0;36mpandas._libs.hashtable.PyObjectHashTable.get_item (pandas/_libs/hashtable.c:20477)\u001b[0;34m()\u001b[0m\n",
      "\u001b[0;31mKeyError\u001b[0m: 'pollution'"
     ]
    }
   ],
   "source": [
    "train = prepare_sequences(train_features)"
   ]
  },
  {
   "cell_type": "code",
   "execution_count": 192,
   "metadata": {},
   "outputs": [
    {
     "data": {
      "text/html": [
       "<div>\n",
       "<style>\n",
       "    .dataframe thead tr:only-child th {\n",
       "        text-align: right;\n",
       "    }\n",
       "\n",
       "    .dataframe thead th {\n",
       "        text-align: left;\n",
       "    }\n",
       "\n",
       "    .dataframe tbody tr th {\n",
       "        vertical-align: top;\n",
       "    }\n",
       "</style>\n",
       "<table border=\"1\" class=\"dataframe\">\n",
       "  <thead>\n",
       "    <tr style=\"text-align: right;\">\n",
       "      <th></th>\n",
       "      <th>pollution</th>\n",
       "      <th>dew</th>\n",
       "      <th>temp</th>\n",
       "      <th>press</th>\n",
       "      <th>wnd_spd</th>\n",
       "      <th>snow</th>\n",
       "      <th>rain</th>\n",
       "      <th>single_input_vector</th>\n",
       "      <th>single_output_vector</th>\n",
       "      <th>past_sequences</th>\n",
       "      <th>future_sequences</th>\n",
       "      <th>output_vector</th>\n",
       "    </tr>\n",
       "  </thead>\n",
       "  <tbody>\n",
       "    <tr>\n",
       "      <th>0</th>\n",
       "      <td>-0.899864</td>\n",
       "      <td>0.081189</td>\n",
       "      <td>0.700466</td>\n",
       "      <td>-1.698647</td>\n",
       "      <td>0.943296</td>\n",
       "      <td>-0.069372</td>\n",
       "      <td>-0.137706</td>\n",
       "      <td>[[-0.8998635805922878, 0.0811886402383994, 0.7...</td>\n",
       "      <td>[[-0.8998635805922878]]</td>\n",
       "      <td>[[0.0, 0.0, 0.0, 0.0, 0.0, 0.0, 0.0], [0.0, 0....</td>\n",
       "      <td>[[-0.8998635805922878], [-0.7264241458303095],...</td>\n",
       "      <td>[[-0.8998635805922878], [-0.7264241458303095],...</td>\n",
       "    </tr>\n",
       "    <tr>\n",
       "      <th>1</th>\n",
       "      <td>-0.726424</td>\n",
       "      <td>-0.196028</td>\n",
       "      <td>0.618454</td>\n",
       "      <td>0.637962</td>\n",
       "      <td>-0.415102</td>\n",
       "      <td>-0.069372</td>\n",
       "      <td>-0.137706</td>\n",
       "      <td>[[-0.7264241458303095, -0.19602774162450667, 0...</td>\n",
       "      <td>[[-0.7264241458303095]]</td>\n",
       "      <td>[[0.0, 0.0, 0.0, 0.0, 0.0, 0.0, 0.0], [0.0, 0....</td>\n",
       "      <td>[[-0.7264241458303095], [-0.09770619481813773]...</td>\n",
       "      <td>[[-0.7264241458303095], [-0.09770619481813773]...</td>\n",
       "    </tr>\n",
       "    <tr>\n",
       "      <th>2</th>\n",
       "      <td>-0.097706</td>\n",
       "      <td>-1.651414</td>\n",
       "      <td>-1.759912</td>\n",
       "      <td>1.027397</td>\n",
       "      <td>-0.424298</td>\n",
       "      <td>-0.069372</td>\n",
       "      <td>-0.137706</td>\n",
       "      <td>[[-0.09770619481813773, -1.6514137464047636, -...</td>\n",
       "      <td>[[-0.09770619481813773]]</td>\n",
       "      <td>[[0.0, 0.0, 0.0, 0.0, 0.0, 0.0, 0.0], [-0.8998...</td>\n",
       "      <td>[[-0.09770619481813773], [-0.8565037219017932]...</td>\n",
       "      <td>[[-0.09770619481813773], [-0.8565037219017932]...</td>\n",
       "    </tr>\n",
       "    <tr>\n",
       "      <th>3</th>\n",
       "      <td>-0.856504</td>\n",
       "      <td>-0.403940</td>\n",
       "      <td>-0.201672</td>\n",
       "      <td>-0.238267</td>\n",
       "      <td>-0.459882</td>\n",
       "      <td>-0.069372</td>\n",
       "      <td>-0.137706</td>\n",
       "      <td>[[-0.8565037219017932, -0.40394002802168627, -...</td>\n",
       "      <td>[[-0.8565037219017932]]</td>\n",
       "      <td>[[-0.8998635805922878, 0.0811886402383994, 0.7...</td>\n",
       "      <td>[[-0.8565037219017932], [-0.7155841811576857],...</td>\n",
       "      <td>[[-0.8565037219017932], [-0.7155841811576857],...</td>\n",
       "    </tr>\n",
       "    <tr>\n",
       "      <th>4</th>\n",
       "      <td>-0.715584</td>\n",
       "      <td>1.259358</td>\n",
       "      <td>1.192542</td>\n",
       "      <td>-0.822419</td>\n",
       "      <td>-0.120033</td>\n",
       "      <td>-0.069372</td>\n",
       "      <td>-0.137706</td>\n",
       "      <td>[[-0.7155841811576857, 1.2593582631557503, 1.1...</td>\n",
       "      <td>[[-0.7155841811576857]]</td>\n",
       "      <td>[[-0.7264241458303095, -0.19602774162450667, 0...</td>\n",
       "      <td>[[-0.7155841811576857], [-0.7914639338660513],...</td>\n",
       "      <td>[[-0.7155841811576857], [-0.7914639338660513],...</td>\n",
       "    </tr>\n",
       "  </tbody>\n",
       "</table>\n",
       "</div>"
      ],
      "text/plain": [
       "   pollution       dew      temp     press   wnd_spd      snow      rain  \\\n",
       "0  -0.899864  0.081189  0.700466 -1.698647  0.943296 -0.069372 -0.137706   \n",
       "1  -0.726424 -0.196028  0.618454  0.637962 -0.415102 -0.069372 -0.137706   \n",
       "2  -0.097706 -1.651414 -1.759912  1.027397 -0.424298 -0.069372 -0.137706   \n",
       "3  -0.856504 -0.403940 -0.201672 -0.238267 -0.459882 -0.069372 -0.137706   \n",
       "4  -0.715584  1.259358  1.192542 -0.822419 -0.120033 -0.069372 -0.137706   \n",
       "\n",
       "                                 single_input_vector  \\\n",
       "0  [[-0.8998635805922878, 0.0811886402383994, 0.7...   \n",
       "1  [[-0.7264241458303095, -0.19602774162450667, 0...   \n",
       "2  [[-0.09770619481813773, -1.6514137464047636, -...   \n",
       "3  [[-0.8565037219017932, -0.40394002802168627, -...   \n",
       "4  [[-0.7155841811576857, 1.2593582631557503, 1.1...   \n",
       "\n",
       "       single_output_vector  \\\n",
       "0   [[-0.8998635805922878]]   \n",
       "1   [[-0.7264241458303095]]   \n",
       "2  [[-0.09770619481813773]]   \n",
       "3   [[-0.8565037219017932]]   \n",
       "4   [[-0.7155841811576857]]   \n",
       "\n",
       "                                      past_sequences  \\\n",
       "0  [[0.0, 0.0, 0.0, 0.0, 0.0, 0.0, 0.0], [0.0, 0....   \n",
       "1  [[0.0, 0.0, 0.0, 0.0, 0.0, 0.0, 0.0], [0.0, 0....   \n",
       "2  [[0.0, 0.0, 0.0, 0.0, 0.0, 0.0, 0.0], [-0.8998...   \n",
       "3  [[-0.8998635805922878, 0.0811886402383994, 0.7...   \n",
       "4  [[-0.7264241458303095, -0.19602774162450667, 0...   \n",
       "\n",
       "                                    future_sequences  \\\n",
       "0  [[-0.8998635805922878], [-0.7264241458303095],...   \n",
       "1  [[-0.7264241458303095], [-0.09770619481813773]...   \n",
       "2  [[-0.09770619481813773], [-0.8565037219017932]...   \n",
       "3  [[-0.8565037219017932], [-0.7155841811576857],...   \n",
       "4  [[-0.7155841811576857], [-0.7914639338660513],...   \n",
       "\n",
       "                                       output_vector  \n",
       "0  [[-0.8998635805922878], [-0.7264241458303095],...  \n",
       "1  [[-0.7264241458303095], [-0.09770619481813773]...  \n",
       "2  [[-0.09770619481813773], [-0.8565037219017932]...  \n",
       "3  [[-0.8565037219017932], [-0.7155841811576857],...  \n",
       "4  [[-0.7155841811576857], [-0.7914639338660513],...  "
      ]
     },
     "execution_count": 192,
     "metadata": {},
     "output_type": "execute_result"
    }
   ],
   "source": [
    "train.head()"
   ]
  },
  {
   "cell_type": "code",
   "execution_count": 193,
   "metadata": {
    "collapsed": true
   },
   "outputs": [],
   "source": [
    "def func(x, maxlen=None):\n",
    "    '''\n",
    "    Pad sequences with lists of 0s. Functional lambda programming.\n",
    "    '''\n",
    "    zeros_to_add = maxlen - len(x)\n",
    "    prepended = [np.zeros(7).tolist()]\n",
    "    y = prepended*zeros_to_add + x\n",
    "    return y\n",
    "\n",
    "def func_output(x, maxlen=None):\n",
    "    '''\n",
    "    Pad sequences with lists of 0s. Functional lambda programming.\n",
    "    '''\n",
    "    zeros_to_add = maxlen - len(x)\n",
    "    prepended = [np.zeros(1).tolist()]\n",
    "    y = prepended*zeros_to_add + x\n",
    "    return y\n",
    "\n",
    "def balanced_sliding_windows(df, stride=3):\n",
    "    '''\n",
    "    Create sliding windows of size [n - 3, n + 3]. Let df=train.\n",
    "    '''\n",
    "    seqs = []\n",
    "    for i, value in df.iterrows():\n",
    "        if i >= stride and i < len(df) - stride:\n",
    "            sequences = df.iloc[i-stride:i+stride, -1].sum()\n",
    "        elif i < stride:\n",
    "            sequences = df.iloc[i:i+stride, -1].sum()\n",
    "        else:\n",
    "            sequences = df.iloc[i-stride:i, -1].sum()\n",
    "        seqs.append(sequences)\n",
    "    return pd.Series(seqs)\n",
    "        \n",
    "def past_windows(df, stride=3):\n",
    "    '''\n",
    "    Create windows of size [n - 3: n]. Let df=train.\n",
    "    '''\n",
    "    seqs = []\n",
    "    for i, value in df.iterrows():\n",
    "        if i >= stride and i < len(df) - stride:\n",
    "            sequences = df.iloc[i-stride:i, -1].sum()\n",
    "        elif i < stride:\n",
    "            sequences = df.iloc[0:i, -1].sum()\n",
    "        else:\n",
    "            sequences = df.iloc[i-stride:i, -1].sum()\n",
    "        if sequences == 0:\n",
    "            # Pad empty array with arrays of 0s\n",
    "            sequences = func([], stride)\n",
    "        if len(sequences) < stride:\n",
    "            # Pad with arrays of 0s\n",
    "            sequences = func(sequences, stride)\n",
    "        seqs.append(sequences)\n",
    "    return pd.Series(seqs)\n",
    "\n",
    "def future_windows(df, stride=3):\n",
    "    '''\n",
    "    Create windows of size [n : n+3]. Let df=train.\n",
    "    '''\n",
    "    seqs = []\n",
    "    for i, value in df.iterrows():\n",
    "        if i >= stride and i < len(df) - stride:\n",
    "            sequences = df.iloc[i:i+stride, -1].sum()\n",
    "        elif i < stride:\n",
    "            sequences = df.iloc[i:i+stride, -1].sum()\n",
    "        else:\n",
    "            sequences = df.iloc[i:, -1].sum()\n",
    "        if type(sequences) == 'int' and sequences == 0:\n",
    "            sequences = func_output([], stride)\n",
    "        if len(sequences) < stride:\n",
    "            # Pad with arrays of 0s\n",
    "            sequences = func_output(sequences, stride)\n",
    "        seqs.append(sequences)\n",
    "    return pd.Series(seqs)"
   ]
  },
  {
   "cell_type": "code",
   "execution_count": 194,
   "metadata": {
    "collapsed": true
   },
   "outputs": [],
   "source": [
    "input_vec = train['single_input_vector']\n",
    "input_vec = pd.DataFrame(input_vec)"
   ]
  },
  {
   "cell_type": "code",
   "execution_count": 195,
   "metadata": {
    "collapsed": true
   },
   "outputs": [],
   "source": [
    "output_vec = train['single_output_vector']\n",
    "output_vec = pd.DataFrame(output_vec)"
   ]
  },
  {
   "cell_type": "code",
   "execution_count": 196,
   "metadata": {
    "collapsed": true
   },
   "outputs": [],
   "source": [
    "# Good so far."
   ]
  },
  {
   "cell_type": "code",
   "execution_count": 197,
   "metadata": {
    "collapsed": true
   },
   "outputs": [],
   "source": [
    "#balanced_sliding_windows(input_vec).head()"
   ]
  },
  {
   "cell_type": "code",
   "execution_count": 198,
   "metadata": {
    "collapsed": true
   },
   "outputs": [],
   "source": [
    "#past_windows(input_vec).head()"
   ]
  },
  {
   "cell_type": "code",
   "execution_count": 199,
   "metadata": {
    "collapsed": true
   },
   "outputs": [],
   "source": [
    "#future_windows(output_vec).head()"
   ]
  },
  {
   "cell_type": "code",
   "execution_count": 200,
   "metadata": {
    "collapsed": true
   },
   "outputs": [],
   "source": [
    "#df.head()"
   ]
  },
  {
   "cell_type": "code",
   "execution_count": 201,
   "metadata": {
    "collapsed": true
   },
   "outputs": [],
   "source": [
    "# Good so far"
   ]
  },
  {
   "cell_type": "code",
   "execution_count": 202,
   "metadata": {},
   "outputs": [
    {
     "ename": "KeyboardInterrupt",
     "evalue": "",
     "output_type": "error",
     "traceback": [
      "\u001b[0;31m---------------------------------------------------------------------------\u001b[0m",
      "\u001b[0;31mKeyboardInterrupt\u001b[0m                         Traceback (most recent call last)",
      "\u001b[0;32m<ipython-input-202-fbc3a0ed2b18>\u001b[0m in \u001b[0;36m<module>\u001b[0;34m()\u001b[0m\n\u001b[0;32m----> 1\u001b[0;31m \u001b[0mtrain\u001b[0m\u001b[0;34m[\u001b[0m\u001b[0;34m'past_sequences'\u001b[0m\u001b[0;34m]\u001b[0m \u001b[0;34m=\u001b[0m \u001b[0mpast_windows\u001b[0m\u001b[0;34m(\u001b[0m\u001b[0minput_vec\u001b[0m\u001b[0;34m)\u001b[0m\u001b[0;34m\u001b[0m\u001b[0m\n\u001b[0m\u001b[1;32m      2\u001b[0m \u001b[0mtrain\u001b[0m\u001b[0;34m[\u001b[0m\u001b[0;34m'future_sequences'\u001b[0m\u001b[0;34m]\u001b[0m \u001b[0;34m=\u001b[0m \u001b[0mfuture_windows\u001b[0m\u001b[0;34m(\u001b[0m\u001b[0moutput_vec\u001b[0m\u001b[0;34m)\u001b[0m\u001b[0;34m\u001b[0m\u001b[0m\n",
      "\u001b[0;32m<ipython-input-193-144e9070e762>\u001b[0m in \u001b[0;36mpast_windows\u001b[0;34m(df, stride)\u001b[0m\n\u001b[1;32m     37\u001b[0m     '''\n\u001b[1;32m     38\u001b[0m     \u001b[0mseqs\u001b[0m \u001b[0;34m=\u001b[0m \u001b[0;34m[\u001b[0m\u001b[0;34m]\u001b[0m\u001b[0;34m\u001b[0m\u001b[0m\n\u001b[0;32m---> 39\u001b[0;31m     \u001b[0;32mfor\u001b[0m \u001b[0mi\u001b[0m\u001b[0;34m,\u001b[0m \u001b[0mvalue\u001b[0m \u001b[0;32min\u001b[0m \u001b[0mdf\u001b[0m\u001b[0;34m.\u001b[0m\u001b[0miterrows\u001b[0m\u001b[0;34m(\u001b[0m\u001b[0;34m)\u001b[0m\u001b[0;34m:\u001b[0m\u001b[0;34m\u001b[0m\u001b[0m\n\u001b[0m\u001b[1;32m     40\u001b[0m         \u001b[0;32mif\u001b[0m \u001b[0mi\u001b[0m \u001b[0;34m>=\u001b[0m \u001b[0mstride\u001b[0m \u001b[0;32mand\u001b[0m \u001b[0mi\u001b[0m \u001b[0;34m<\u001b[0m \u001b[0mlen\u001b[0m\u001b[0;34m(\u001b[0m\u001b[0mdf\u001b[0m\u001b[0;34m)\u001b[0m \u001b[0;34m-\u001b[0m \u001b[0mstride\u001b[0m\u001b[0;34m:\u001b[0m\u001b[0;34m\u001b[0m\u001b[0m\n\u001b[1;32m     41\u001b[0m             \u001b[0msequences\u001b[0m \u001b[0;34m=\u001b[0m \u001b[0mdf\u001b[0m\u001b[0;34m.\u001b[0m\u001b[0miloc\u001b[0m\u001b[0;34m[\u001b[0m\u001b[0mi\u001b[0m\u001b[0;34m-\u001b[0m\u001b[0mstride\u001b[0m\u001b[0;34m:\u001b[0m\u001b[0mi\u001b[0m\u001b[0;34m,\u001b[0m \u001b[0;34m-\u001b[0m\u001b[0;36m1\u001b[0m\u001b[0;34m]\u001b[0m\u001b[0;34m.\u001b[0m\u001b[0msum\u001b[0m\u001b[0;34m(\u001b[0m\u001b[0;34m)\u001b[0m\u001b[0;34m\u001b[0m\u001b[0m\n",
      "\u001b[0;32m~/anaconda3/envs/deep-air/lib/python3.6/site-packages/pandas/core/frame.py\u001b[0m in \u001b[0;36miterrows\u001b[0;34m(self)\u001b[0m\n\u001b[1;32m    696\u001b[0m         \u001b[0mklass\u001b[0m \u001b[0;34m=\u001b[0m \u001b[0mself\u001b[0m\u001b[0;34m.\u001b[0m\u001b[0m_constructor_sliced\u001b[0m\u001b[0;34m\u001b[0m\u001b[0m\n\u001b[1;32m    697\u001b[0m         \u001b[0;32mfor\u001b[0m \u001b[0mk\u001b[0m\u001b[0;34m,\u001b[0m \u001b[0mv\u001b[0m \u001b[0;32min\u001b[0m \u001b[0mzip\u001b[0m\u001b[0;34m(\u001b[0m\u001b[0mself\u001b[0m\u001b[0;34m.\u001b[0m\u001b[0mindex\u001b[0m\u001b[0;34m,\u001b[0m \u001b[0mself\u001b[0m\u001b[0;34m.\u001b[0m\u001b[0mvalues\u001b[0m\u001b[0;34m)\u001b[0m\u001b[0;34m:\u001b[0m\u001b[0;34m\u001b[0m\u001b[0m\n\u001b[0;32m--> 698\u001b[0;31m             \u001b[0ms\u001b[0m \u001b[0;34m=\u001b[0m \u001b[0mklass\u001b[0m\u001b[0;34m(\u001b[0m\u001b[0mv\u001b[0m\u001b[0;34m,\u001b[0m \u001b[0mindex\u001b[0m\u001b[0;34m=\u001b[0m\u001b[0mcolumns\u001b[0m\u001b[0;34m,\u001b[0m \u001b[0mname\u001b[0m\u001b[0;34m=\u001b[0m\u001b[0mk\u001b[0m\u001b[0;34m)\u001b[0m\u001b[0;34m\u001b[0m\u001b[0m\n\u001b[0m\u001b[1;32m    699\u001b[0m             \u001b[0;32myield\u001b[0m \u001b[0mk\u001b[0m\u001b[0;34m,\u001b[0m \u001b[0ms\u001b[0m\u001b[0;34m\u001b[0m\u001b[0m\n\u001b[1;32m    700\u001b[0m \u001b[0;34m\u001b[0m\u001b[0m\n",
      "\u001b[0;32m~/anaconda3/envs/deep-air/lib/python3.6/site-packages/pandas/core/series.py\u001b[0m in \u001b[0;36m__init__\u001b[0;34m(self, data, index, dtype, name, copy, fastpath)\u001b[0m\n\u001b[1;32m    246\u001b[0m             \u001b[0;32melse\u001b[0m\u001b[0;34m:\u001b[0m\u001b[0;34m\u001b[0m\u001b[0m\n\u001b[1;32m    247\u001b[0m                 data = _sanitize_array(data, index, dtype, copy,\n\u001b[0;32m--> 248\u001b[0;31m                                        raise_cast_failure=True)\n\u001b[0m\u001b[1;32m    249\u001b[0m \u001b[0;34m\u001b[0m\u001b[0m\n\u001b[1;32m    250\u001b[0m                 \u001b[0mdata\u001b[0m \u001b[0;34m=\u001b[0m \u001b[0mSingleBlockManager\u001b[0m\u001b[0;34m(\u001b[0m\u001b[0mdata\u001b[0m\u001b[0;34m,\u001b[0m \u001b[0mindex\u001b[0m\u001b[0;34m,\u001b[0m \u001b[0mfastpath\u001b[0m\u001b[0;34m=\u001b[0m\u001b[0;32mTrue\u001b[0m\u001b[0;34m)\u001b[0m\u001b[0;34m\u001b[0m\u001b[0m\n",
      "\u001b[0;32m~/anaconda3/envs/deep-air/lib/python3.6/site-packages/pandas/core/series.py\u001b[0m in \u001b[0;36m_sanitize_array\u001b[0;34m(data, index, dtype, copy, raise_cast_failure)\u001b[0m\n\u001b[1;32m   3019\u001b[0m \u001b[0;34m\u001b[0m\u001b[0m\n\u001b[1;32m   3020\u001b[0m             \u001b[0;31m# a 1-element ndarray\u001b[0m\u001b[0;34m\u001b[0m\u001b[0;34m\u001b[0m\u001b[0m\n\u001b[0;32m-> 3021\u001b[0;31m             \u001b[0;32mif\u001b[0m \u001b[0mlen\u001b[0m\u001b[0;34m(\u001b[0m\u001b[0msubarr\u001b[0m\u001b[0;34m)\u001b[0m \u001b[0;34m!=\u001b[0m \u001b[0mlen\u001b[0m\u001b[0;34m(\u001b[0m\u001b[0mindex\u001b[0m\u001b[0;34m)\u001b[0m \u001b[0;32mand\u001b[0m \u001b[0mlen\u001b[0m\u001b[0;34m(\u001b[0m\u001b[0msubarr\u001b[0m\u001b[0;34m)\u001b[0m \u001b[0;34m==\u001b[0m \u001b[0;36m1\u001b[0m\u001b[0;34m:\u001b[0m\u001b[0;34m\u001b[0m\u001b[0m\n\u001b[0m\u001b[1;32m   3022\u001b[0m                 subarr = create_from_value(subarr[0], index,\n\u001b[1;32m   3023\u001b[0m                                            subarr.dtype)\n",
      "\u001b[0;31mKeyboardInterrupt\u001b[0m: "
     ]
    }
   ],
   "source": [
    "train['past_sequences'] = past_windows(input_vec)\n",
    "train['future_sequences'] = future_windows(output_vec)"
   ]
  },
  {
   "cell_type": "code",
   "execution_count": 178,
   "metadata": {},
   "outputs": [
    {
     "data": {
      "text/html": [
       "<div>\n",
       "<style>\n",
       "    .dataframe thead tr:only-child th {\n",
       "        text-align: right;\n",
       "    }\n",
       "\n",
       "    .dataframe thead th {\n",
       "        text-align: left;\n",
       "    }\n",
       "\n",
       "    .dataframe tbody tr th {\n",
       "        vertical-align: top;\n",
       "    }\n",
       "</style>\n",
       "<table border=\"1\" class=\"dataframe\">\n",
       "  <thead>\n",
       "    <tr style=\"text-align: right;\">\n",
       "      <th></th>\n",
       "      <th>pollution</th>\n",
       "      <th>dew</th>\n",
       "      <th>temp</th>\n",
       "      <th>press</th>\n",
       "      <th>wnd_spd</th>\n",
       "      <th>snow</th>\n",
       "      <th>rain</th>\n",
       "      <th>single_input_vector</th>\n",
       "      <th>single_output_vector</th>\n",
       "      <th>past_sequences</th>\n",
       "      <th>future_sequences</th>\n",
       "      <th>output_vector</th>\n",
       "    </tr>\n",
       "  </thead>\n",
       "  <tbody>\n",
       "    <tr>\n",
       "      <th>0</th>\n",
       "      <td>-0.899864</td>\n",
       "      <td>0.081189</td>\n",
       "      <td>0.700466</td>\n",
       "      <td>-1.698647</td>\n",
       "      <td>0.943296</td>\n",
       "      <td>-0.069372</td>\n",
       "      <td>-0.137706</td>\n",
       "      <td>[[-0.8998635805922878, 0.0811886402383994, 0.7...</td>\n",
       "      <td>[[-0.8998635805922878]]</td>\n",
       "      <td>[[0.0, 0.0, 0.0, 0.0, 0.0, 0.0, 0.0], [0.0, 0....</td>\n",
       "      <td>[[-0.8998635805922878], [-0.7264241458303095],...</td>\n",
       "      <td>[[-0.8998635805922878], [-0.7264241458303095],...</td>\n",
       "    </tr>\n",
       "    <tr>\n",
       "      <th>1</th>\n",
       "      <td>-0.726424</td>\n",
       "      <td>-0.196028</td>\n",
       "      <td>0.618454</td>\n",
       "      <td>0.637962</td>\n",
       "      <td>-0.415102</td>\n",
       "      <td>-0.069372</td>\n",
       "      <td>-0.137706</td>\n",
       "      <td>[[-0.7264241458303095, -0.19602774162450667, 0...</td>\n",
       "      <td>[[-0.7264241458303095]]</td>\n",
       "      <td>[[0.0, 0.0, 0.0, 0.0, 0.0, 0.0, 0.0], [0.0, 0....</td>\n",
       "      <td>[[-0.7264241458303095], [-0.09770619481813773]...</td>\n",
       "      <td>[[-0.7264241458303095], [-0.09770619481813773]...</td>\n",
       "    </tr>\n",
       "    <tr>\n",
       "      <th>2</th>\n",
       "      <td>-0.097706</td>\n",
       "      <td>-1.651414</td>\n",
       "      <td>-1.759912</td>\n",
       "      <td>1.027397</td>\n",
       "      <td>-0.424298</td>\n",
       "      <td>-0.069372</td>\n",
       "      <td>-0.137706</td>\n",
       "      <td>[[-0.09770619481813773, -1.6514137464047636, -...</td>\n",
       "      <td>[[-0.09770619481813773]]</td>\n",
       "      <td>[[0.0, 0.0, 0.0, 0.0, 0.0, 0.0, 0.0], [-0.8998...</td>\n",
       "      <td>[[-0.09770619481813773], [-0.8565037219017932]...</td>\n",
       "      <td>[[-0.09770619481813773], [-0.8565037219017932]...</td>\n",
       "    </tr>\n",
       "    <tr>\n",
       "      <th>3</th>\n",
       "      <td>-0.856504</td>\n",
       "      <td>-0.403940</td>\n",
       "      <td>-0.201672</td>\n",
       "      <td>-0.238267</td>\n",
       "      <td>-0.459882</td>\n",
       "      <td>-0.069372</td>\n",
       "      <td>-0.137706</td>\n",
       "      <td>[[-0.8565037219017932, -0.40394002802168627, -...</td>\n",
       "      <td>[[-0.8565037219017932]]</td>\n",
       "      <td>[[-0.8998635805922878, 0.0811886402383994, 0.7...</td>\n",
       "      <td>[[-0.8565037219017932], [-0.7155841811576857],...</td>\n",
       "      <td>[[-0.8565037219017932], [-0.7155841811576857],...</td>\n",
       "    </tr>\n",
       "    <tr>\n",
       "      <th>4</th>\n",
       "      <td>-0.715584</td>\n",
       "      <td>1.259358</td>\n",
       "      <td>1.192542</td>\n",
       "      <td>-0.822419</td>\n",
       "      <td>-0.120033</td>\n",
       "      <td>-0.069372</td>\n",
       "      <td>-0.137706</td>\n",
       "      <td>[[-0.7155841811576857, 1.2593582631557503, 1.1...</td>\n",
       "      <td>[[-0.7155841811576857]]</td>\n",
       "      <td>[[-0.7264241458303095, -0.19602774162450667, 0...</td>\n",
       "      <td>[[-0.7155841811576857], [-0.7914639338660513],...</td>\n",
       "      <td>[[-0.7155841811576857], [-0.7914639338660513],...</td>\n",
       "    </tr>\n",
       "  </tbody>\n",
       "</table>\n",
       "</div>"
      ],
      "text/plain": [
       "   pollution       dew      temp     press   wnd_spd      snow      rain  \\\n",
       "0  -0.899864  0.081189  0.700466 -1.698647  0.943296 -0.069372 -0.137706   \n",
       "1  -0.726424 -0.196028  0.618454  0.637962 -0.415102 -0.069372 -0.137706   \n",
       "2  -0.097706 -1.651414 -1.759912  1.027397 -0.424298 -0.069372 -0.137706   \n",
       "3  -0.856504 -0.403940 -0.201672 -0.238267 -0.459882 -0.069372 -0.137706   \n",
       "4  -0.715584  1.259358  1.192542 -0.822419 -0.120033 -0.069372 -0.137706   \n",
       "\n",
       "                                 single_input_vector  \\\n",
       "0  [[-0.8998635805922878, 0.0811886402383994, 0.7...   \n",
       "1  [[-0.7264241458303095, -0.19602774162450667, 0...   \n",
       "2  [[-0.09770619481813773, -1.6514137464047636, -...   \n",
       "3  [[-0.8565037219017932, -0.40394002802168627, -...   \n",
       "4  [[-0.7155841811576857, 1.2593582631557503, 1.1...   \n",
       "\n",
       "       single_output_vector  \\\n",
       "0   [[-0.8998635805922878]]   \n",
       "1   [[-0.7264241458303095]]   \n",
       "2  [[-0.09770619481813773]]   \n",
       "3   [[-0.8565037219017932]]   \n",
       "4   [[-0.7155841811576857]]   \n",
       "\n",
       "                                      past_sequences  \\\n",
       "0  [[0.0, 0.0, 0.0, 0.0, 0.0, 0.0, 0.0], [0.0, 0....   \n",
       "1  [[0.0, 0.0, 0.0, 0.0, 0.0, 0.0, 0.0], [0.0, 0....   \n",
       "2  [[0.0, 0.0, 0.0, 0.0, 0.0, 0.0, 0.0], [-0.8998...   \n",
       "3  [[-0.8998635805922878, 0.0811886402383994, 0.7...   \n",
       "4  [[-0.7264241458303095, -0.19602774162450667, 0...   \n",
       "\n",
       "                                    future_sequences  \\\n",
       "0  [[-0.8998635805922878], [-0.7264241458303095],...   \n",
       "1  [[-0.7264241458303095], [-0.09770619481813773]...   \n",
       "2  [[-0.09770619481813773], [-0.8565037219017932]...   \n",
       "3  [[-0.8565037219017932], [-0.7155841811576857],...   \n",
       "4  [[-0.7155841811576857], [-0.7914639338660513],...   \n",
       "\n",
       "                                       output_vector  \n",
       "0  [[-0.8998635805922878], [-0.7264241458303095],...  \n",
       "1  [[-0.7264241458303095], [-0.09770619481813773]...  \n",
       "2  [[-0.09770619481813773], [-0.8565037219017932]...  \n",
       "3  [[-0.8565037219017932], [-0.7155841811576857],...  \n",
       "4  [[-0.7155841811576857], [-0.7914639338660513],...  "
      ]
     },
     "execution_count": 178,
     "metadata": {},
     "output_type": "execute_result"
    }
   ],
   "source": [
    "train.head()"
   ]
  },
  {
   "cell_type": "code",
   "execution_count": null,
   "metadata": {
    "collapsed": true
   },
   "outputs": [],
   "source": []
  },
  {
   "cell_type": "code",
   "execution_count": 174,
   "metadata": {
    "collapsed": true
   },
   "outputs": [],
   "source": [
    "# predicting G for now, just a test example\n",
    "# If your output is multi-dimensional, you need to capture those \n",
    "# dimensions in one object\n",
    "# If your output is a single dimension, this step may be unnecessary\n",
    "def set_output_featureset(df):\n",
    "    '''\n",
    "    Let df=train and prepare output vector\n",
    "    '''\n",
    "    df['output_vector'] = df['future_sequences']\n",
    "    return df"
   ]
  },
  {
   "cell_type": "code",
   "execution_count": 175,
   "metadata": {
    "collapsed": true,
    "scrolled": true
   },
   "outputs": [],
   "source": [
    "train = set_output_featureset(train)"
   ]
  },
  {
   "cell_type": "code",
   "execution_count": 176,
   "metadata": {},
   "outputs": [
    {
     "data": {
      "text/html": [
       "<div>\n",
       "<style>\n",
       "    .dataframe thead tr:only-child th {\n",
       "        text-align: right;\n",
       "    }\n",
       "\n",
       "    .dataframe thead th {\n",
       "        text-align: left;\n",
       "    }\n",
       "\n",
       "    .dataframe tbody tr th {\n",
       "        vertical-align: top;\n",
       "    }\n",
       "</style>\n",
       "<table border=\"1\" class=\"dataframe\">\n",
       "  <thead>\n",
       "    <tr style=\"text-align: right;\">\n",
       "      <th></th>\n",
       "      <th>pollution</th>\n",
       "      <th>dew</th>\n",
       "      <th>temp</th>\n",
       "      <th>press</th>\n",
       "      <th>wnd_spd</th>\n",
       "      <th>snow</th>\n",
       "      <th>rain</th>\n",
       "      <th>single_input_vector</th>\n",
       "      <th>single_output_vector</th>\n",
       "      <th>past_sequences</th>\n",
       "      <th>future_sequences</th>\n",
       "      <th>output_vector</th>\n",
       "    </tr>\n",
       "  </thead>\n",
       "  <tbody>\n",
       "    <tr>\n",
       "      <th>0</th>\n",
       "      <td>-0.899864</td>\n",
       "      <td>0.081189</td>\n",
       "      <td>0.700466</td>\n",
       "      <td>-1.698647</td>\n",
       "      <td>0.943296</td>\n",
       "      <td>-0.069372</td>\n",
       "      <td>-0.137706</td>\n",
       "      <td>[[-0.8998635805922878, 0.0811886402383994, 0.7...</td>\n",
       "      <td>[[-0.8998635805922878]]</td>\n",
       "      <td>[[0.0, 0.0, 0.0, 0.0, 0.0, 0.0, 0.0], [0.0, 0....</td>\n",
       "      <td>[[-0.8998635805922878], [-0.7264241458303095],...</td>\n",
       "      <td>[[-0.8998635805922878], [-0.7264241458303095],...</td>\n",
       "    </tr>\n",
       "    <tr>\n",
       "      <th>1</th>\n",
       "      <td>-0.726424</td>\n",
       "      <td>-0.196028</td>\n",
       "      <td>0.618454</td>\n",
       "      <td>0.637962</td>\n",
       "      <td>-0.415102</td>\n",
       "      <td>-0.069372</td>\n",
       "      <td>-0.137706</td>\n",
       "      <td>[[-0.7264241458303095, -0.19602774162450667, 0...</td>\n",
       "      <td>[[-0.7264241458303095]]</td>\n",
       "      <td>[[0.0, 0.0, 0.0, 0.0, 0.0, 0.0, 0.0], [0.0, 0....</td>\n",
       "      <td>[[-0.7264241458303095], [-0.09770619481813773]...</td>\n",
       "      <td>[[-0.7264241458303095], [-0.09770619481813773]...</td>\n",
       "    </tr>\n",
       "    <tr>\n",
       "      <th>2</th>\n",
       "      <td>-0.097706</td>\n",
       "      <td>-1.651414</td>\n",
       "      <td>-1.759912</td>\n",
       "      <td>1.027397</td>\n",
       "      <td>-0.424298</td>\n",
       "      <td>-0.069372</td>\n",
       "      <td>-0.137706</td>\n",
       "      <td>[[-0.09770619481813773, -1.6514137464047636, -...</td>\n",
       "      <td>[[-0.09770619481813773]]</td>\n",
       "      <td>[[0.0, 0.0, 0.0, 0.0, 0.0, 0.0, 0.0], [-0.8998...</td>\n",
       "      <td>[[-0.09770619481813773], [-0.8565037219017932]...</td>\n",
       "      <td>[[-0.09770619481813773], [-0.8565037219017932]...</td>\n",
       "    </tr>\n",
       "    <tr>\n",
       "      <th>3</th>\n",
       "      <td>-0.856504</td>\n",
       "      <td>-0.403940</td>\n",
       "      <td>-0.201672</td>\n",
       "      <td>-0.238267</td>\n",
       "      <td>-0.459882</td>\n",
       "      <td>-0.069372</td>\n",
       "      <td>-0.137706</td>\n",
       "      <td>[[-0.8565037219017932, -0.40394002802168627, -...</td>\n",
       "      <td>[[-0.8565037219017932]]</td>\n",
       "      <td>[[-0.8998635805922878, 0.0811886402383994, 0.7...</td>\n",
       "      <td>[[-0.8565037219017932], [-0.7155841811576857],...</td>\n",
       "      <td>[[-0.8565037219017932], [-0.7155841811576857],...</td>\n",
       "    </tr>\n",
       "    <tr>\n",
       "      <th>4</th>\n",
       "      <td>-0.715584</td>\n",
       "      <td>1.259358</td>\n",
       "      <td>1.192542</td>\n",
       "      <td>-0.822419</td>\n",
       "      <td>-0.120033</td>\n",
       "      <td>-0.069372</td>\n",
       "      <td>-0.137706</td>\n",
       "      <td>[[-0.7155841811576857, 1.2593582631557503, 1.1...</td>\n",
       "      <td>[[-0.7155841811576857]]</td>\n",
       "      <td>[[-0.7264241458303095, -0.19602774162450667, 0...</td>\n",
       "      <td>[[-0.7155841811576857], [-0.7914639338660513],...</td>\n",
       "      <td>[[-0.7155841811576857], [-0.7914639338660513],...</td>\n",
       "    </tr>\n",
       "  </tbody>\n",
       "</table>\n",
       "</div>"
      ],
      "text/plain": [
       "   pollution       dew      temp     press   wnd_spd      snow      rain  \\\n",
       "0  -0.899864  0.081189  0.700466 -1.698647  0.943296 -0.069372 -0.137706   \n",
       "1  -0.726424 -0.196028  0.618454  0.637962 -0.415102 -0.069372 -0.137706   \n",
       "2  -0.097706 -1.651414 -1.759912  1.027397 -0.424298 -0.069372 -0.137706   \n",
       "3  -0.856504 -0.403940 -0.201672 -0.238267 -0.459882 -0.069372 -0.137706   \n",
       "4  -0.715584  1.259358  1.192542 -0.822419 -0.120033 -0.069372 -0.137706   \n",
       "\n",
       "                                 single_input_vector  \\\n",
       "0  [[-0.8998635805922878, 0.0811886402383994, 0.7...   \n",
       "1  [[-0.7264241458303095, -0.19602774162450667, 0...   \n",
       "2  [[-0.09770619481813773, -1.6514137464047636, -...   \n",
       "3  [[-0.8565037219017932, -0.40394002802168627, -...   \n",
       "4  [[-0.7155841811576857, 1.2593582631557503, 1.1...   \n",
       "\n",
       "       single_output_vector  \\\n",
       "0   [[-0.8998635805922878]]   \n",
       "1   [[-0.7264241458303095]]   \n",
       "2  [[-0.09770619481813773]]   \n",
       "3   [[-0.8565037219017932]]   \n",
       "4   [[-0.7155841811576857]]   \n",
       "\n",
       "                                      past_sequences  \\\n",
       "0  [[0.0, 0.0, 0.0, 0.0, 0.0, 0.0, 0.0], [0.0, 0....   \n",
       "1  [[0.0, 0.0, 0.0, 0.0, 0.0, 0.0, 0.0], [0.0, 0....   \n",
       "2  [[0.0, 0.0, 0.0, 0.0, 0.0, 0.0, 0.0], [-0.8998...   \n",
       "3  [[-0.8998635805922878, 0.0811886402383994, 0.7...   \n",
       "4  [[-0.7264241458303095, -0.19602774162450667, 0...   \n",
       "\n",
       "                                    future_sequences  \\\n",
       "0  [[-0.8998635805922878], [-0.7264241458303095],...   \n",
       "1  [[-0.7264241458303095], [-0.09770619481813773]...   \n",
       "2  [[-0.09770619481813773], [-0.8565037219017932]...   \n",
       "3  [[-0.8565037219017932], [-0.7155841811576857],...   \n",
       "4  [[-0.7155841811576857], [-0.7914639338660513],...   \n",
       "\n",
       "                                       output_vector  \n",
       "0  [[-0.8998635805922878], [-0.7264241458303095],...  \n",
       "1  [[-0.7264241458303095], [-0.09770619481813773]...  \n",
       "2  [[-0.09770619481813773], [-0.8565037219017932]...  \n",
       "3  [[-0.8565037219017932], [-0.7155841811576857],...  \n",
       "4  [[-0.7155841811576857], [-0.7914639338660513],...  "
      ]
     },
     "execution_count": 176,
     "metadata": {},
     "output_type": "execute_result"
    }
   ],
   "source": [
    "train.head()"
   ]
  },
  {
   "cell_type": "code",
   "execution_count": 177,
   "metadata": {},
   "outputs": [
    {
     "ename": "ValueError",
     "evalue": "setting an array element with a sequence.",
     "output_type": "error",
     "traceback": [
      "\u001b[0;31m---------------------------------------------------------------------------\u001b[0m",
      "\u001b[0;31mValueError\u001b[0m                                Traceback (most recent call last)",
      "\u001b[0;32m<ipython-input-177-7cf87bfe3103>\u001b[0m in \u001b[0;36m<module>\u001b[0;34m()\u001b[0m\n\u001b[1;32m     16\u001b[0m \u001b[0;31m# The reshape essentially reshaped the inner list into an 11 by 6 matrix,\u001b[0m\u001b[0;34m\u001b[0m\u001b[0;34m\u001b[0m\u001b[0m\n\u001b[1;32m     17\u001b[0m \u001b[0;31m#  or a max_sequence_length (rows) by input_dim (col) matrix\u001b[0m\u001b[0;34m\u001b[0m\u001b[0;34m\u001b[0m\u001b[0m\n\u001b[0;32m---> 18\u001b[0;31m X_train = np.hstack(X_train_init).reshape(len(train), \n\u001b[0m\u001b[1;32m     19\u001b[0m                                           \u001b[0mstride_length\u001b[0m\u001b[0;34m,\u001b[0m\u001b[0;34m\u001b[0m\u001b[0m\n\u001b[1;32m     20\u001b[0m                                          len(df.columns))\n",
      "\u001b[0;32m~/anaconda3/envs/deep-air/lib/python3.6/site-packages/numpy/core/shape_base.py\u001b[0m in \u001b[0;36mhstack\u001b[0;34m(tup)\u001b[0m\n\u001b[1;32m    286\u001b[0m \u001b[0;34m\u001b[0m\u001b[0m\n\u001b[1;32m    287\u001b[0m     \"\"\"\n\u001b[0;32m--> 288\u001b[0;31m     \u001b[0marrs\u001b[0m \u001b[0;34m=\u001b[0m \u001b[0;34m[\u001b[0m\u001b[0matleast_1d\u001b[0m\u001b[0;34m(\u001b[0m\u001b[0m_m\u001b[0m\u001b[0;34m)\u001b[0m \u001b[0;32mfor\u001b[0m \u001b[0m_m\u001b[0m \u001b[0;32min\u001b[0m \u001b[0mtup\u001b[0m\u001b[0;34m]\u001b[0m\u001b[0;34m\u001b[0m\u001b[0m\n\u001b[0m\u001b[1;32m    289\u001b[0m     \u001b[0;31m# As a special case, dimension 0 of 1-dimensional arrays is \"horizontal\"\u001b[0m\u001b[0;34m\u001b[0m\u001b[0;34m\u001b[0m\u001b[0m\n\u001b[1;32m    290\u001b[0m     \u001b[0;32mif\u001b[0m \u001b[0marrs\u001b[0m \u001b[0;32mand\u001b[0m \u001b[0marrs\u001b[0m\u001b[0;34m[\u001b[0m\u001b[0;36m0\u001b[0m\u001b[0;34m]\u001b[0m\u001b[0;34m.\u001b[0m\u001b[0mndim\u001b[0m \u001b[0;34m==\u001b[0m \u001b[0;36m1\u001b[0m\u001b[0;34m:\u001b[0m\u001b[0;34m\u001b[0m\u001b[0m\n",
      "\u001b[0;32m~/anaconda3/envs/deep-air/lib/python3.6/site-packages/numpy/core/shape_base.py\u001b[0m in \u001b[0;36m<listcomp>\u001b[0;34m(.0)\u001b[0m\n\u001b[1;32m    286\u001b[0m \u001b[0;34m\u001b[0m\u001b[0m\n\u001b[1;32m    287\u001b[0m     \"\"\"\n\u001b[0;32m--> 288\u001b[0;31m     \u001b[0marrs\u001b[0m \u001b[0;34m=\u001b[0m \u001b[0;34m[\u001b[0m\u001b[0matleast_1d\u001b[0m\u001b[0;34m(\u001b[0m\u001b[0m_m\u001b[0m\u001b[0;34m)\u001b[0m \u001b[0;32mfor\u001b[0m \u001b[0m_m\u001b[0m \u001b[0;32min\u001b[0m \u001b[0mtup\u001b[0m\u001b[0;34m]\u001b[0m\u001b[0;34m\u001b[0m\u001b[0m\n\u001b[0m\u001b[1;32m    289\u001b[0m     \u001b[0;31m# As a special case, dimension 0 of 1-dimensional arrays is \"horizontal\"\u001b[0m\u001b[0;34m\u001b[0m\u001b[0;34m\u001b[0m\u001b[0m\n\u001b[1;32m    290\u001b[0m     \u001b[0;32mif\u001b[0m \u001b[0marrs\u001b[0m \u001b[0;32mand\u001b[0m \u001b[0marrs\u001b[0m\u001b[0;34m[\u001b[0m\u001b[0;36m0\u001b[0m\u001b[0;34m]\u001b[0m\u001b[0;34m.\u001b[0m\u001b[0mndim\u001b[0m \u001b[0;34m==\u001b[0m \u001b[0;36m1\u001b[0m\u001b[0;34m:\u001b[0m\u001b[0;34m\u001b[0m\u001b[0m\n",
      "\u001b[0;32m~/anaconda3/envs/deep-air/lib/python3.6/site-packages/numpy/core/shape_base.py\u001b[0m in \u001b[0;36matleast_1d\u001b[0;34m(*arys)\u001b[0m\n\u001b[1;32m     50\u001b[0m     \u001b[0mres\u001b[0m \u001b[0;34m=\u001b[0m \u001b[0;34m[\u001b[0m\u001b[0;34m]\u001b[0m\u001b[0;34m\u001b[0m\u001b[0m\n\u001b[1;32m     51\u001b[0m     \u001b[0;32mfor\u001b[0m \u001b[0mary\u001b[0m \u001b[0;32min\u001b[0m \u001b[0marys\u001b[0m\u001b[0;34m:\u001b[0m\u001b[0;34m\u001b[0m\u001b[0m\n\u001b[0;32m---> 52\u001b[0;31m         \u001b[0mary\u001b[0m \u001b[0;34m=\u001b[0m \u001b[0masanyarray\u001b[0m\u001b[0;34m(\u001b[0m\u001b[0mary\u001b[0m\u001b[0;34m)\u001b[0m\u001b[0;34m\u001b[0m\u001b[0m\n\u001b[0m\u001b[1;32m     53\u001b[0m         \u001b[0;32mif\u001b[0m \u001b[0mary\u001b[0m\u001b[0;34m.\u001b[0m\u001b[0mndim\u001b[0m \u001b[0;34m==\u001b[0m \u001b[0;36m0\u001b[0m\u001b[0;34m:\u001b[0m\u001b[0;34m\u001b[0m\u001b[0m\n\u001b[1;32m     54\u001b[0m             \u001b[0mresult\u001b[0m \u001b[0;34m=\u001b[0m \u001b[0mary\u001b[0m\u001b[0;34m.\u001b[0m\u001b[0mreshape\u001b[0m\u001b[0;34m(\u001b[0m\u001b[0;36m1\u001b[0m\u001b[0;34m)\u001b[0m\u001b[0;34m\u001b[0m\u001b[0m\n",
      "\u001b[0;32m~/anaconda3/envs/deep-air/lib/python3.6/site-packages/numpy/core/numeric.py\u001b[0m in \u001b[0;36masanyarray\u001b[0;34m(a, dtype, order)\u001b[0m\n\u001b[1;32m    581\u001b[0m \u001b[0;34m\u001b[0m\u001b[0m\n\u001b[1;32m    582\u001b[0m     \"\"\"\n\u001b[0;32m--> 583\u001b[0;31m     \u001b[0;32mreturn\u001b[0m \u001b[0marray\u001b[0m\u001b[0;34m(\u001b[0m\u001b[0ma\u001b[0m\u001b[0;34m,\u001b[0m \u001b[0mdtype\u001b[0m\u001b[0;34m,\u001b[0m \u001b[0mcopy\u001b[0m\u001b[0;34m=\u001b[0m\u001b[0;32mFalse\u001b[0m\u001b[0;34m,\u001b[0m \u001b[0morder\u001b[0m\u001b[0;34m=\u001b[0m\u001b[0morder\u001b[0m\u001b[0;34m,\u001b[0m \u001b[0msubok\u001b[0m\u001b[0;34m=\u001b[0m\u001b[0;32mTrue\u001b[0m\u001b[0;34m)\u001b[0m\u001b[0;34m\u001b[0m\u001b[0m\n\u001b[0m\u001b[1;32m    584\u001b[0m \u001b[0;34m\u001b[0m\u001b[0m\n\u001b[1;32m    585\u001b[0m \u001b[0;34m\u001b[0m\u001b[0m\n",
      "\u001b[0;31mValueError\u001b[0m: setting an array element with a sequence."
     ]
    }
   ],
   "source": [
    "# Extract your training data\n",
    "X_train_init = np.asarray(train.past_sequences)\n",
    "stride_length = 3\n",
    "# Training data for LSTM should be in the form of a 3D tuple:\n",
    "#   (# of samples, timesteps, input_dim)\n",
    "# Note that the input data that comes out of the dataframe \n",
    "# will not make a 3D array. It makes an array of arrays, \n",
    "# which is not the same thing.\n",
    "# So far X_train_init is an array of arrays.\n",
    "\n",
    "# Convert to 3D vector usng hstack and reshape\n",
    "# horizontal stack = hstack, essentially removes the outer array \n",
    "#  encapsulation.\n",
    "\n",
    "# reshape into (# of records, total_timesteps, input_dim)\n",
    "# The reshape essentially reshaped the inner list into an 11 by 6 matrix,\n",
    "#  or a max_sequence_length (rows) by input_dim (col) matrix\n",
    "X_train = np.hstack(X_train_init).reshape(len(train), \n",
    "                                          stride_length,\n",
    "                                         len(df.columns))\n",
    "y_train_init = np.asarray(train.output_vector)\n",
    "y_train = np.hstack(y_train_init).reshape(len(train), \n",
    "                                          stride_length,\n",
    "                                          len(output_vec.columns))"
   ]
  },
  {
   "cell_type": "code",
   "execution_count": 134,
   "metadata": {
    "collapsed": true
   },
   "outputs": [],
   "source": [
    "#np.hstack(y_train_init)"
   ]
  },
  {
   "cell_type": "code",
   "execution_count": 135,
   "metadata": {},
   "outputs": [
    {
     "data": {
      "text/plain": [
       "(35040, 7)"
      ]
     },
     "execution_count": 135,
     "metadata": {},
     "output_type": "execute_result"
    }
   ],
   "source": [
    "len(train), len(df.columns)"
   ]
  },
  {
   "cell_type": "code",
   "execution_count": 136,
   "metadata": {
    "collapsed": true
   },
   "outputs": [],
   "source": [
    "# Debugging\n",
    "#train[train.output_vector.apply(lambda x: True if len(x) != 3 else False)]"
   ]
  },
  {
   "cell_type": "code",
   "execution_count": 137,
   "metadata": {},
   "outputs": [
    {
     "name": "stdout",
     "output_type": "stream",
     "text": [
      "(35040, 3, 7)\n",
      "(35040, 3, 1)\n"
     ]
    }
   ],
   "source": [
    "print(X_train.shape)\n",
    "print(y_train.shape)"
   ]
  },
  {
   "cell_type": "code",
   "execution_count": null,
   "metadata": {
    "collapsed": true
   },
   "outputs": [],
   "source": []
  },
  {
   "cell_type": "code",
   "execution_count": 138,
   "metadata": {
    "collapsed": true
   },
   "outputs": [],
   "source": [
    "# Get your input dimensions\n",
    "# Input length is the length for one input sequence \n",
    "#  (i.e. the number of rows for your sample, which is\n",
    "#     the max_sequence_length by construction)\n",
    "input_length = X_train.shape[1]\n",
    "# Input dim is the number of dimensions in one input vector \n",
    "#  (i.e. number of input columns)\n",
    "input_dim = X_train.shape[2]\n",
    "output_dim = len(y_train[0])"
   ]
  },
  {
   "cell_type": "code",
   "execution_count": 139,
   "metadata": {},
   "outputs": [
    {
     "data": {
      "text/plain": [
       "3"
      ]
     },
     "execution_count": 139,
     "metadata": {},
     "output_type": "execute_result"
    }
   ],
   "source": [
    "input_length"
   ]
  },
  {
   "cell_type": "code",
   "execution_count": 140,
   "metadata": {},
   "outputs": [],
   "source": [
    "from keras.layers import CuDNNLSTM\n",
    "# Room to build a GPU-powered network using CuDNNLSTM\n",
    "model_GPU = Sequential()\n",
    "model_GPU.add(CuDNNLSTM(100, input_shape=(input_length, input_dim), return_sequences=True))\n",
    "model_GPU.add(Dropout(.20))\n",
    "model_GPU.add(CuDNNLSTM(50, input_shape=(input_length, input_dim), return_sequences=True))\n",
    "model_GPU.add(Dropout(.20))\n",
    "model_GPU.add(TimeDistributed(Dense(1, activation='softmax')))\n",
    "\n"
   ]
  },
  {
   "cell_type": "code",
   "execution_count": 141,
   "metadata": {
    "collapsed": true
   },
   "outputs": [],
   "source": [
    "model_GPU.compile(loss='mse',\n",
    "             optimizer='adam',\n",
    "             metrics=['accuracy'])"
   ]
  },
  {
   "cell_type": "code",
   "execution_count": 143,
   "metadata": {},
   "outputs": [
    {
     "name": "stdout",
     "output_type": "stream",
     "text": [
      "Epoch 1/10\n",
      "35040/35040 [==============================] - 2s 66us/step - loss: 2.0061 - acc: 0.0000e+00\n",
      "Epoch 2/10\n",
      "35040/35040 [==============================] - 2s 66us/step - loss: 2.0061 - acc: 0.0000e+00\n",
      "Epoch 3/10\n",
      "35040/35040 [==============================] - 2s 66us/step - loss: 2.0061 - acc: 0.0000e+00\n",
      "Epoch 4/10\n",
      "35040/35040 [==============================] - 2s 66us/step - loss: 2.0061 - acc: 0.0000e+00\n",
      "Epoch 5/10\n",
      "35040/35040 [==============================] - 2s 66us/step - loss: 2.0061 - acc: 0.0000e+00\n",
      "Epoch 6/10\n",
      "35040/35040 [==============================] - 2s 67us/step - loss: 2.0061 - acc: 0.0000e+00\n",
      "Epoch 7/10\n",
      "35040/35040 [==============================] - 2s 67us/step - loss: 2.0061 - acc: 0.0000e+00\n",
      "Epoch 8/10\n",
      "35040/35040 [==============================] - 2s 66us/step - loss: 2.0061 - acc: 0.0000e+00\n",
      "Epoch 9/10\n",
      "35040/35040 [==============================] - 2s 66us/step - loss: 2.0061 - acc: 0.0000e+00\n",
      "Epoch 10/10\n",
      "35040/35040 [==============================] - 2s 67us/step - loss: 2.0061 - acc: 0.0000e+00\n"
     ]
    }
   ],
   "source": [
    "# Set batch_size to 30 to show that it doesn't have to be a factor \n",
    "# or multiple of your sample size\n",
    "history = model_GPU.fit(X_train, y_train,\n",
    "                   batch_size = 24*5, epochs=10,\n",
    "                   verbose = 1)"
   ]
  },
  {
   "cell_type": "code",
   "execution_count": null,
   "metadata": {
    "collapsed": true
   },
   "outputs": [],
   "source": [
    "# Reduced from 2 hours per epoch in a CPU to 2 minutes per epoch in the GPU"
   ]
  },
  {
   "cell_type": "code",
   "execution_count": 87,
   "metadata": {},
   "outputs": [],
   "source": [
    "from keras.models import Model, Sequential\n",
    "from keras.layers import LSTM, Dense, TimeDistributed, Dropout\n",
    "\n",
    "# Initialize the model\n",
    "model_simple = Sequential()\n",
    "# 100 is the units, which is the size of the hidden vector at any given state\n",
    "# input_length is the stride_length, which is equivalent to the number of cells\n",
    "model_simple.add(LSTM(100, input_shape=(input_length, input_dim), return_sequences=True))\n",
    "#model_simple.add(LSTM(50, input_shape=(input_length, input_dim), return_sequences=True))\n",
    "model_simple.add(TimeDistributed(Dense(1, activation='linear')))\n",
    "\n",
    "\n",
    "# Below is a very large, 6-layer network (Takes a lot of time to run)\n",
    "model = Sequential()\n",
    "# arbitrarily picked the output dim to be 100\n",
    "model.add(LSTM(2048, input_shape=(input_length, input_dim), return_sequences=True))\n",
    "# The max output value is > 1 so used relu as final activation\n",
    "# 2048 is the output dimension in the layer\n",
    "# Input to this layer will have a shape (None, 3, 50) where 3 = stride_length, None = batch_size,\n",
    "#   and 2048 = output layer size\n",
    "# Add dropout probability\n",
    "model.add(Dropout(0.2))\n",
    "# Another LSTM layer\n",
    "model.add(LSTM(1024, return_sequences=True))\n",
    "model.add(Dropout(0.2))\n",
    "model.add(LSTM(512, return_sequences=True))\n",
    "model.add(Dropout(0.2))\n",
    "model.add(LSTM(512, return_sequences=True))\n",
    "model.add(Dropout(0.2))\n",
    "# Output dimension of 7, since I have a feature length of 7 (pollution + weather stuff)\n",
    "#model.add(Dense(7, activation='softmax'))\n",
    "# Output dimension of 1, since I have a feature length of 1 (pollution is only output feature)\n",
    "model.add(TimeDistributed(Dense(1, activation='linear')))\n",
    "#model.add(Dense(output_dim, activation='relu'))\n",
    "\n",
    "# model.compile(loss='mean_squared_error',\n",
    "#              optimizer='rmsprop',\n",
    "#              metrics=['accuracy'])"
   ]
  },
  {
   "cell_type": "code",
   "execution_count": 88,
   "metadata": {
    "collapsed": true
   },
   "outputs": [],
   "source": [
    "model_simple.compile(loss='mse',\n",
    "             optimizer='adam',\n",
    "             metrics=['accuracy'])"
   ]
  },
  {
   "cell_type": "code",
   "execution_count": 89,
   "metadata": {
    "scrolled": false
   },
   "outputs": [
    {
     "name": "stdout",
     "output_type": "stream",
     "text": [
      "Epoch 1/5\n",
      "35040/35040 [==============================] - 17s 488us/step - loss: 13368.9472 - acc: 0.0070\n",
      "Epoch 2/5\n",
      "35040/35040 [==============================] - 14s 405us/step - loss: 9420.4976 - acc: 0.0052\n",
      "Epoch 3/5\n",
      "35040/35040 [==============================] - 14s 405us/step - loss: 8671.4822 - acc: 0.0042\n",
      "Epoch 4/5\n",
      "35040/35040 [==============================] - 14s 405us/step - loss: 8628.8452 - acc: 0.0039\n",
      "Epoch 5/5\n",
      "35040/35040 [==============================] - 14s 406us/step - loss: 8627.3278 - acc: 0.0041\n"
     ]
    }
   ],
   "source": [
    "# Set batch_size to 30 to show that it doesn't have to be a factor \n",
    "# or multiple of your sample size\n",
    "history = model_simple.fit(X_train, y_train,\n",
    "                   batch_size = 20, epochs=5,\n",
    "                   verbose = 1)"
   ]
  },
  {
   "cell_type": "code",
   "execution_count": null,
   "metadata": {
    "collapsed": true
   },
   "outputs": [],
   "source": [
    "# Took 1.5min on CPU --> On GPU it took 40 seconds"
   ]
  },
  {
   "cell_type": "code",
   "execution_count": 43,
   "metadata": {
    "scrolled": true
   },
   "outputs": [
    {
     "data": {
      "text/plain": [
       "array([[[   9.75070953],\n",
       "        [  36.31097412],\n",
       "        [ 104.66318512]],\n",
       "\n",
       "       [[  82.32813263],\n",
       "        [  97.49900055],\n",
       "        [  99.82424927]],\n",
       "\n",
       "       [[  82.32813263],\n",
       "        [  97.49900055],\n",
       "        [  99.82424927]],\n",
       "\n",
       "       ..., \n",
       "       [[  82.32813263],\n",
       "        [  97.49900055],\n",
       "        [  99.82424927]],\n",
       "\n",
       "       [[  82.32813263],\n",
       "        [  97.49900055],\n",
       "        [  99.82424927]],\n",
       "\n",
       "       [[  82.32813263],\n",
       "        [  97.49900055],\n",
       "        [  99.82424927]]], dtype=float32)"
      ]
     },
     "execution_count": 43,
     "metadata": {},
     "output_type": "execute_result"
    }
   ],
   "source": [
    "model.predict(X_train)"
   ]
  },
  {
   "cell_type": "code",
   "execution_count": 44,
   "metadata": {},
   "outputs": [
    {
     "data": {
      "text/plain": [
       "array([[[  11.],\n",
       "        [  27.],\n",
       "        [  85.]],\n",
       "\n",
       "       [[  15.],\n",
       "        [  28.],\n",
       "        [  21.]],\n",
       "\n",
       "       [[ 143.],\n",
       "        [  79.],\n",
       "        [ 230.]],\n",
       "\n",
       "       ..., \n",
       "       [[  53.],\n",
       "        [ 259.],\n",
       "        [  93.]],\n",
       "\n",
       "       [[  85.],\n",
       "        [ 118.],\n",
       "        [  11.]],\n",
       "\n",
       "       [[ 126.],\n",
       "        [ 126.],\n",
       "        [ 126.]]])"
      ]
     },
     "execution_count": 44,
     "metadata": {},
     "output_type": "execute_result"
    }
   ],
   "source": [
    "y_train"
   ]
  },
  {
   "cell_type": "code",
   "execution_count": null,
   "metadata": {
    "collapsed": true
   },
   "outputs": [],
   "source": []
  }
 ],
 "metadata": {
  "anaconda-cloud": {},
  "kernelspec": {
   "display_name": "Python [conda env:deep-air]",
   "language": "python",
   "name": "conda-env-deep-air-py"
  },
  "language_info": {
   "codemirror_mode": {
    "name": "ipython",
    "version": 3
   },
   "file_extension": ".py",
   "mimetype": "text/x-python",
   "name": "python",
   "nbconvert_exporter": "python",
   "pygments_lexer": "ipython3",
   "version": "3.6.2"
  }
 },
 "nbformat": 4,
 "nbformat_minor": 2
}
